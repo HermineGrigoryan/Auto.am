{
 "cells": [
  {
   "cell_type": "markdown",
   "metadata": {},
   "source": [
    "# Group Project\n",
    "## Group #3\n",
    "### Auto.am"
   ]
  },
  {
   "cell_type": "markdown",
   "metadata": {},
   "source": [
    "In the framework of Business Analytics course, our group (Hermine Grigoryan, Lilia Mamikonyan and Gor Khachatryan) decided to work on the data from Armenia auto.am website. Usually, owners of automobiles do not know how to set the price of their cars when putting it on sale in auto.am and whether or not their car will be sold. We have found a solution to this problem by using machine learning techniques learned within the framework of this course. \n",
    "\n",
    "In order to provide an optimal solution, we first have scraped the data about Toyota cars from auto.am which includes variables, describing different Toyota models, like their year, model name, country where the car currently is, price, custom, payment option, mileage, hand drive and body type. \n",
    "\n",
    "Besides using Python, we used Excel as a data cleaning tool to separate some of the descriptive variables and to bring some numeric variables to their correct formats. (The comments from the cleaning part in Excel can be found in the Excel file, called scraped_data1). \n",
    "\n",
    "To find out whether the car will be sold or not, we have scraped the same data twice with the difference of 1 week. As a result, around 1,000 cars were sold. Hence, we have created a new binary variable called “Purchased” using Excel’s VLOOKUP function to compare the old data with the new one.\n",
    "\n",
    "After importing the ready data into Python, we have deleted the variables that do not contain important information, encoded all categorical variables and dealt with outliers.\n"
   ]
  },
  {
   "cell_type": "code",
   "execution_count": 317,
   "metadata": {},
   "outputs": [],
   "source": [
    "import pandas as pd\n",
    "import numpy as np\n",
    "import seaborn as sns\n",
    "import matplotlib.pyplot as plt\n",
    "# we will use magic to avoid calling plt.show() everytime\n",
    "%matplotlib inline"
   ]
  },
  {
   "cell_type": "code",
   "execution_count": 530,
   "metadata": {},
   "outputs": [],
   "source": [
    "auto = pd.read_excel(\"Auto.am_Final.xlsx\")"
   ]
  },
  {
   "cell_type": "code",
   "execution_count": 531,
   "metadata": {},
   "outputs": [
    {
     "data": {
      "text/html": [
       "<div>\n",
       "<style scoped>\n",
       "    .dataframe tbody tr th:only-of-type {\n",
       "        vertical-align: middle;\n",
       "    }\n",
       "\n",
       "    .dataframe tbody tr th {\n",
       "        vertical-align: top;\n",
       "    }\n",
       "\n",
       "    .dataframe thead th {\n",
       "        text-align: right;\n",
       "    }\n",
       "</style>\n",
       "<table border=\"1\" class=\"dataframe\">\n",
       "  <thead>\n",
       "    <tr style=\"text-align: right;\">\n",
       "      <th></th>\n",
       "      <th>CarModel</th>\n",
       "      <th>CarYear</th>\n",
       "      <th>DatePosted</th>\n",
       "      <th>Difference_Date</th>\n",
       "      <th>Country</th>\n",
       "      <th>Price</th>\n",
       "      <th>Custom</th>\n",
       "      <th>Payment_Option</th>\n",
       "      <th>Mileage</th>\n",
       "      <th>Hand_Drive</th>\n",
       "      <th>Body_Type</th>\n",
       "      <th>Purchased</th>\n",
       "    </tr>\n",
       "  </thead>\n",
       "  <tbody>\n",
       "    <tr>\n",
       "      <th>0</th>\n",
       "      <td>ToyotaVitz</td>\n",
       "      <td>2005</td>\n",
       "      <td>2018-05-10</td>\n",
       "      <td>6</td>\n",
       "      <td>Հայաստան</td>\n",
       "      <td>1.000000</td>\n",
       "      <td>մաքսազերծված_է</td>\n",
       "      <td>ամբողջական_վճարում</td>\n",
       "      <td>74564.543040</td>\n",
       "      <td>Ձախ</td>\n",
       "      <td>Սեդան</td>\n",
       "      <td>No</td>\n",
       "    </tr>\n",
       "    <tr>\n",
       "      <th>1</th>\n",
       "      <td>ToyotaCamry</td>\n",
       "      <td>2008</td>\n",
       "      <td>2018-05-10</td>\n",
       "      <td>6</td>\n",
       "      <td>ԱՄՆ</td>\n",
       "      <td>1400.000000</td>\n",
       "      <td>մաքսազերծված_չէ</td>\n",
       "      <td>ամբողջական_վճարում</td>\n",
       "      <td>3168.993079</td>\n",
       "      <td>Ձախ</td>\n",
       "      <td>Ամենագնաց</td>\n",
       "      <td>No</td>\n",
       "    </tr>\n",
       "    <tr>\n",
       "      <th>2</th>\n",
       "      <td>ToyotaDuet</td>\n",
       "      <td>2001</td>\n",
       "      <td>2018-05-10</td>\n",
       "      <td>6</td>\n",
       "      <td>Հայաստան</td>\n",
       "      <td>1443.298969</td>\n",
       "      <td>մաքսազերծված_է</td>\n",
       "      <td>ամբողջական_վճարում</td>\n",
       "      <td>8076.582754</td>\n",
       "      <td>Ձախ</td>\n",
       "      <td>Սեդան</td>\n",
       "      <td>No</td>\n",
       "    </tr>\n",
       "    <tr>\n",
       "      <th>3</th>\n",
       "      <td>ToyotaCamry</td>\n",
       "      <td>2009</td>\n",
       "      <td>2018-05-10</td>\n",
       "      <td>6</td>\n",
       "      <td>ԱՄՆ</td>\n",
       "      <td>1900.000000</td>\n",
       "      <td>մաքսազերծված_չէ</td>\n",
       "      <td>ամբողջական_վճարում</td>\n",
       "      <td>86991.966880</td>\n",
       "      <td>Ձախ</td>\n",
       "      <td>Ունիվերսալ</td>\n",
       "      <td>No</td>\n",
       "    </tr>\n",
       "    <tr>\n",
       "      <th>4</th>\n",
       "      <td>ToyotaCamry</td>\n",
       "      <td>2009</td>\n",
       "      <td>2018-05-10</td>\n",
       "      <td>6</td>\n",
       "      <td>ԱՄՆ</td>\n",
       "      <td>1950.000000</td>\n",
       "      <td>մաքսազերծված_չէ</td>\n",
       "      <td>ամբողջական_վճարում</td>\n",
       "      <td>60894.376816</td>\n",
       "      <td>Ձախ</td>\n",
       "      <td>Սեդան</td>\n",
       "      <td>No</td>\n",
       "    </tr>\n",
       "  </tbody>\n",
       "</table>\n",
       "</div>"
      ],
      "text/plain": [
       "      CarModel  CarYear DatePosted  Difference_Date   Country        Price  \\\n",
       "0   ToyotaVitz     2005 2018-05-10                6  Հայաստան     1.000000   \n",
       "1  ToyotaCamry     2008 2018-05-10                6       ԱՄՆ  1400.000000   \n",
       "2   ToyotaDuet     2001 2018-05-10                6  Հայաստան  1443.298969   \n",
       "3  ToyotaCamry     2009 2018-05-10                6       ԱՄՆ  1900.000000   \n",
       "4  ToyotaCamry     2009 2018-05-10                6       ԱՄՆ  1950.000000   \n",
       "\n",
       "            Custom      Payment_Option       Mileage Hand_Drive   Body_Type  \\\n",
       "0   մաքսազերծված_է  ամբողջական_վճարում  74564.543040        Ձախ       Սեդան   \n",
       "1  մաքսազերծված_չէ  ամբողջական_վճարում   3168.993079        Ձախ   Ամենագնաց   \n",
       "2   մաքսազերծված_է  ամբողջական_վճարում   8076.582754        Ձախ       Սեդան   \n",
       "3  մաքսազերծված_չէ  ամբողջական_վճարում  86991.966880        Ձախ  Ունիվերսալ   \n",
       "4  մաքսազերծված_չէ  ամբողջական_վճարում  60894.376816        Ձախ       Սեդան   \n",
       "\n",
       "  Purchased  \n",
       "0        No  \n",
       "1        No  \n",
       "2        No  \n",
       "3        No  \n",
       "4        No  "
      ]
     },
     "execution_count": 531,
     "metadata": {},
     "output_type": "execute_result"
    }
   ],
   "source": [
    "auto.head()"
   ]
  },
  {
   "cell_type": "code",
   "execution_count": 532,
   "metadata": {},
   "outputs": [],
   "source": [
    "auto = auto.drop(\"DatePosted\", axis=1)\n",
    "auto = auto.drop(\"Difference_Date\", axis=1)"
   ]
  },
  {
   "cell_type": "code",
   "execution_count": 533,
   "metadata": {},
   "outputs": [
    {
     "name": "stdout",
     "output_type": "stream",
     "text": [
      "<class 'pandas.core.frame.DataFrame'>\n",
      "RangeIndex: 6699 entries, 0 to 6698\n",
      "Data columns (total 10 columns):\n",
      "CarModel          6699 non-null object\n",
      "CarYear           6699 non-null int64\n",
      "Country           6698 non-null object\n",
      "Price             5559 non-null float64\n",
      "Custom            6699 non-null object\n",
      "Payment_Option    6699 non-null object\n",
      "Mileage           6699 non-null float64\n",
      "Hand_Drive        6699 non-null object\n",
      "Body_Type         6699 non-null object\n",
      "Purchased         6699 non-null object\n",
      "dtypes: float64(2), int64(1), object(7)\n",
      "memory usage: 523.4+ KB\n"
     ]
    }
   ],
   "source": [
    "auto.info()"
   ]
  },
  {
   "cell_type": "code",
   "execution_count": 534,
   "metadata": {},
   "outputs": [
    {
     "data": {
      "text/html": [
       "<div>\n",
       "<style scoped>\n",
       "    .dataframe tbody tr th:only-of-type {\n",
       "        vertical-align: middle;\n",
       "    }\n",
       "\n",
       "    .dataframe tbody tr th {\n",
       "        vertical-align: top;\n",
       "    }\n",
       "\n",
       "    .dataframe thead th {\n",
       "        text-align: right;\n",
       "    }\n",
       "</style>\n",
       "<table border=\"1\" class=\"dataframe\">\n",
       "  <thead>\n",
       "    <tr style=\"text-align: right;\">\n",
       "      <th></th>\n",
       "      <th>count</th>\n",
       "      <th>mean</th>\n",
       "      <th>std</th>\n",
       "      <th>min</th>\n",
       "      <th>25%</th>\n",
       "      <th>50%</th>\n",
       "      <th>75%</th>\n",
       "      <th>max</th>\n",
       "    </tr>\n",
       "  </thead>\n",
       "  <tbody>\n",
       "    <tr>\n",
       "      <th>CarYear</th>\n",
       "      <td>6699.0</td>\n",
       "      <td>2010.976265</td>\n",
       "      <td>4.163880</td>\n",
       "      <td>1985.000000</td>\n",
       "      <td>2008.0</td>\n",
       "      <td>2011.000000</td>\n",
       "      <td>2014.0</td>\n",
       "      <td>2018.0</td>\n",
       "    </tr>\n",
       "    <tr>\n",
       "      <th>Price</th>\n",
       "      <td>5559.0</td>\n",
       "      <td>7372.717851</td>\n",
       "      <td>6427.465090</td>\n",
       "      <td>1.000000</td>\n",
       "      <td>3600.0</td>\n",
       "      <td>5700.000000</td>\n",
       "      <td>9200.0</td>\n",
       "      <td>125000.0</td>\n",
       "    </tr>\n",
       "    <tr>\n",
       "      <th>Mileage</th>\n",
       "      <td>6699.0</td>\n",
       "      <td>75008.160400</td>\n",
       "      <td>52154.304502</td>\n",
       "      <td>6.213712</td>\n",
       "      <td>40000.0</td>\n",
       "      <td>69593.573504</td>\n",
       "      <td>101000.0</td>\n",
       "      <td>811179.0</td>\n",
       "    </tr>\n",
       "  </tbody>\n",
       "</table>\n",
       "</div>"
      ],
      "text/plain": [
       "          count          mean           std          min      25%  \\\n",
       "CarYear  6699.0   2010.976265      4.163880  1985.000000   2008.0   \n",
       "Price    5559.0   7372.717851   6427.465090     1.000000   3600.0   \n",
       "Mileage  6699.0  75008.160400  52154.304502     6.213712  40000.0   \n",
       "\n",
       "                  50%       75%       max  \n",
       "CarYear   2011.000000    2014.0    2018.0  \n",
       "Price     5700.000000    9200.0  125000.0  \n",
       "Mileage  69593.573504  101000.0  811179.0  "
      ]
     },
     "execution_count": 534,
     "metadata": {},
     "output_type": "execute_result"
    }
   ],
   "source": [
    "auto.describe().transpose()"
   ]
  },
  {
   "cell_type": "code",
   "execution_count": 535,
   "metadata": {},
   "outputs": [
    {
     "data": {
      "text/plain": [
       "7372.71785142696"
      ]
     },
     "execution_count": 535,
     "metadata": {},
     "output_type": "execute_result"
    }
   ],
   "source": [
    "auto.Price.mean()"
   ]
  },
  {
   "cell_type": "code",
   "execution_count": 536,
   "metadata": {},
   "outputs": [
    {
     "data": {
      "text/html": [
       "<div>\n",
       "<style scoped>\n",
       "    .dataframe tbody tr th:only-of-type {\n",
       "        vertical-align: middle;\n",
       "    }\n",
       "\n",
       "    .dataframe tbody tr th {\n",
       "        vertical-align: top;\n",
       "    }\n",
       "\n",
       "    .dataframe thead th {\n",
       "        text-align: right;\n",
       "    }\n",
       "</style>\n",
       "<table border=\"1\" class=\"dataframe\">\n",
       "  <thead>\n",
       "    <tr style=\"text-align: right;\">\n",
       "      <th></th>\n",
       "      <th>CarModel</th>\n",
       "      <th>CarYear</th>\n",
       "      <th>Country</th>\n",
       "      <th>Price</th>\n",
       "      <th>Custom</th>\n",
       "      <th>Payment_Option</th>\n",
       "      <th>Mileage</th>\n",
       "      <th>Hand_Drive</th>\n",
       "      <th>Body_Type</th>\n",
       "      <th>Purchased</th>\n",
       "    </tr>\n",
       "  </thead>\n",
       "  <tbody>\n",
       "    <tr>\n",
       "      <th>6684</th>\n",
       "      <td>ToyotaCamry</td>\n",
       "      <td>2013</td>\n",
       "      <td>ԱՄՆ</td>\n",
       "      <td>NaN</td>\n",
       "      <td>մաքսազերծված_չէ</td>\n",
       "      <td>ամբողջական_վճարում</td>\n",
       "      <td>58529.000000</td>\n",
       "      <td>Ձախ</td>\n",
       "      <td>Սեդան</td>\n",
       "      <td>Yes</td>\n",
       "    </tr>\n",
       "    <tr>\n",
       "      <th>6685</th>\n",
       "      <td>ToyotaRav4</td>\n",
       "      <td>2017</td>\n",
       "      <td>ԱՄՆ</td>\n",
       "      <td>NaN</td>\n",
       "      <td>մաքսազերծված_չէ</td>\n",
       "      <td>ամբողջական_վճարում</td>\n",
       "      <td>34000.000000</td>\n",
       "      <td>Ձախ</td>\n",
       "      <td>Սեդան</td>\n",
       "      <td>Yes</td>\n",
       "    </tr>\n",
       "    <tr>\n",
       "      <th>6686</th>\n",
       "      <td>ToyotaCamry</td>\n",
       "      <td>2009</td>\n",
       "      <td>ԱՄՆ</td>\n",
       "      <td>1650.0</td>\n",
       "      <td>մաքսազերծված_չէ</td>\n",
       "      <td>ամբողջական_վճարում</td>\n",
       "      <td>124274.238400</td>\n",
       "      <td>Ձախ</td>\n",
       "      <td>Սեդան</td>\n",
       "      <td>Yes</td>\n",
       "    </tr>\n",
       "    <tr>\n",
       "      <th>6687</th>\n",
       "      <td>ToyotaCamry</td>\n",
       "      <td>2012</td>\n",
       "      <td>ԱՄՆ</td>\n",
       "      <td>3000.0</td>\n",
       "      <td>մաքսազերծված_չէ</td>\n",
       "      <td>ամբողջական_վճարում</td>\n",
       "      <td>4349.598344</td>\n",
       "      <td>Ձախ</td>\n",
       "      <td>Սեդան</td>\n",
       "      <td>Yes</td>\n",
       "    </tr>\n",
       "    <tr>\n",
       "      <th>6688</th>\n",
       "      <td>ToyotaCamry</td>\n",
       "      <td>2012</td>\n",
       "      <td>ԱՄՆ</td>\n",
       "      <td>NaN</td>\n",
       "      <td>մաքսազերծված_չէ</td>\n",
       "      <td>ամբողջական_վճարում</td>\n",
       "      <td>46000.000000</td>\n",
       "      <td>Ձախ</td>\n",
       "      <td>Սեդան</td>\n",
       "      <td>Yes</td>\n",
       "    </tr>\n",
       "    <tr>\n",
       "      <th>6689</th>\n",
       "      <td>ToyotaLandCruiserPrado</td>\n",
       "      <td>2008</td>\n",
       "      <td>Հայաստան</td>\n",
       "      <td>5400.0</td>\n",
       "      <td>մաքսազերծված_է</td>\n",
       "      <td>ամբողջական_վճարում</td>\n",
       "      <td>102000.000000</td>\n",
       "      <td>Ձախ</td>\n",
       "      <td>Սեդան</td>\n",
       "      <td>Yes</td>\n",
       "    </tr>\n",
       "    <tr>\n",
       "      <th>6690</th>\n",
       "      <td>ToyotaLandCruiser100</td>\n",
       "      <td>2000</td>\n",
       "      <td>Հայաստան</td>\n",
       "      <td>12500.0</td>\n",
       "      <td>մաքսազերծված_է</td>\n",
       "      <td>ամբողջական_վճարում</td>\n",
       "      <td>178000.000000</td>\n",
       "      <td>Ձախ</td>\n",
       "      <td>Սեդան</td>\n",
       "      <td>Yes</td>\n",
       "    </tr>\n",
       "    <tr>\n",
       "      <th>6691</th>\n",
       "      <td>ToyotaCorolla</td>\n",
       "      <td>2013</td>\n",
       "      <td>Հայաստան</td>\n",
       "      <td>15000.0</td>\n",
       "      <td>մաքսազերծված_է</td>\n",
       "      <td>ամբողջական_վճարում</td>\n",
       "      <td>55758.000000</td>\n",
       "      <td>Ձախ</td>\n",
       "      <td>Սեդան</td>\n",
       "      <td>Yes</td>\n",
       "    </tr>\n",
       "    <tr>\n",
       "      <th>6692</th>\n",
       "      <td>ToyotaAvensis</td>\n",
       "      <td>2006</td>\n",
       "      <td>Հայաստան</td>\n",
       "      <td>4600.0</td>\n",
       "      <td>մաքսազերծված_է</td>\n",
       "      <td>ամբողջական_վճարում</td>\n",
       "      <td>116889.000000</td>\n",
       "      <td>Աջ</td>\n",
       "      <td>Սեդան</td>\n",
       "      <td>Yes</td>\n",
       "    </tr>\n",
       "    <tr>\n",
       "      <th>6693</th>\n",
       "      <td>ToyotaHarrier</td>\n",
       "      <td>2003</td>\n",
       "      <td>Հայաստան</td>\n",
       "      <td>7500.0</td>\n",
       "      <td>մաքսազերծված_է</td>\n",
       "      <td>ամբողջական_վճարում</td>\n",
       "      <td>73101.000000</td>\n",
       "      <td>Աջ</td>\n",
       "      <td>Սեդան</td>\n",
       "      <td>Yes</td>\n",
       "    </tr>\n",
       "    <tr>\n",
       "      <th>6694</th>\n",
       "      <td>ToyotaLandCruiser200</td>\n",
       "      <td>2010</td>\n",
       "      <td>Հայաստան</td>\n",
       "      <td>41000.0</td>\n",
       "      <td>մաքսազերծված_է</td>\n",
       "      <td>ամբողջական_վճարում</td>\n",
       "      <td>49135.000000</td>\n",
       "      <td>Ձախ</td>\n",
       "      <td>Սեդան</td>\n",
       "      <td>Yes</td>\n",
       "    </tr>\n",
       "    <tr>\n",
       "      <th>6695</th>\n",
       "      <td>ToyotaIpsum</td>\n",
       "      <td>2007</td>\n",
       "      <td>Հայաստան</td>\n",
       "      <td>7000.0</td>\n",
       "      <td>մաքսազերծված_է</td>\n",
       "      <td>ամբողջական_վճարում</td>\n",
       "      <td>141669.000000</td>\n",
       "      <td>Աջ</td>\n",
       "      <td>Ունիվերսալ</td>\n",
       "      <td>Yes</td>\n",
       "    </tr>\n",
       "    <tr>\n",
       "      <th>6696</th>\n",
       "      <td>ToyotaCorolla</td>\n",
       "      <td>2013</td>\n",
       "      <td>ԱՄՆ</td>\n",
       "      <td>3800.0</td>\n",
       "      <td>մաքսազերծված_չէ</td>\n",
       "      <td>ամբողջական_վճարում</td>\n",
       "      <td>86991.966880</td>\n",
       "      <td>Ձախ</td>\n",
       "      <td>Ամենագնաց</td>\n",
       "      <td>Yes</td>\n",
       "    </tr>\n",
       "    <tr>\n",
       "      <th>6697</th>\n",
       "      <td>ToyotaIpsum</td>\n",
       "      <td>2004</td>\n",
       "      <td>Հայաստան</td>\n",
       "      <td>5500.0</td>\n",
       "      <td>մաքսազերծված_է</td>\n",
       "      <td>ամբողջական_վճարում</td>\n",
       "      <td>203000.000000</td>\n",
       "      <td>Աջ</td>\n",
       "      <td>Ամենագնաց</td>\n",
       "      <td>Yes</td>\n",
       "    </tr>\n",
       "    <tr>\n",
       "      <th>6698</th>\n",
       "      <td>ToyotaCorolla</td>\n",
       "      <td>2011</td>\n",
       "      <td>ԱՄՆ</td>\n",
       "      <td>NaN</td>\n",
       "      <td>մաքսազերծված_չէ</td>\n",
       "      <td>ամբողջական_վճարում</td>\n",
       "      <td>55000.000000</td>\n",
       "      <td>Ձախ</td>\n",
       "      <td>Սեդան</td>\n",
       "      <td>Yes</td>\n",
       "    </tr>\n",
       "  </tbody>\n",
       "</table>\n",
       "</div>"
      ],
      "text/plain": [
       "                    CarModel  CarYear   Country    Price           Custom  \\\n",
       "6684             ToyotaCamry     2013       ԱՄՆ      NaN  մաքսազերծված_չէ   \n",
       "6685              ToyotaRav4     2017       ԱՄՆ      NaN  մաքսազերծված_չէ   \n",
       "6686             ToyotaCamry     2009       ԱՄՆ   1650.0  մաքսազերծված_չէ   \n",
       "6687             ToyotaCamry     2012       ԱՄՆ   3000.0  մաքսազերծված_չէ   \n",
       "6688             ToyotaCamry     2012       ԱՄՆ      NaN  մաքսազերծված_չէ   \n",
       "6689  ToyotaLandCruiserPrado     2008  Հայաստան   5400.0   մաքսազերծված_է   \n",
       "6690    ToyotaLandCruiser100     2000  Հայաստան  12500.0   մաքսազերծված_է   \n",
       "6691           ToyotaCorolla     2013  Հայաստան  15000.0   մաքսազերծված_է   \n",
       "6692           ToyotaAvensis     2006  Հայաստան   4600.0   մաքսազերծված_է   \n",
       "6693           ToyotaHarrier     2003  Հայաստան   7500.0   մաքսազերծված_է   \n",
       "6694    ToyotaLandCruiser200     2010  Հայաստան  41000.0   մաքսազերծված_է   \n",
       "6695             ToyotaIpsum     2007  Հայաստան   7000.0   մաքսազերծված_է   \n",
       "6696           ToyotaCorolla     2013       ԱՄՆ   3800.0  մաքսազերծված_չէ   \n",
       "6697             ToyotaIpsum     2004  Հայաստան   5500.0   մաքսազերծված_է   \n",
       "6698           ToyotaCorolla     2011       ԱՄՆ      NaN  մաքսազերծված_չէ   \n",
       "\n",
       "          Payment_Option        Mileage Hand_Drive   Body_Type Purchased  \n",
       "6684  ամբողջական_վճարում   58529.000000        Ձախ       Սեդան       Yes  \n",
       "6685  ամբողջական_վճարում   34000.000000        Ձախ       Սեդան       Yes  \n",
       "6686  ամբողջական_վճարում  124274.238400        Ձախ       Սեդան       Yes  \n",
       "6687  ամբողջական_վճարում    4349.598344        Ձախ       Սեդան       Yes  \n",
       "6688  ամբողջական_վճարում   46000.000000        Ձախ       Սեդան       Yes  \n",
       "6689  ամբողջական_վճարում  102000.000000        Ձախ       Սեդան       Yes  \n",
       "6690  ամբողջական_վճարում  178000.000000        Ձախ       Սեդան       Yes  \n",
       "6691  ամբողջական_վճարում   55758.000000        Ձախ       Սեդան       Yes  \n",
       "6692  ամբողջական_վճարում  116889.000000         Աջ       Սեդան       Yes  \n",
       "6693  ամբողջական_վճարում   73101.000000         Աջ       Սեդան       Yes  \n",
       "6694  ամբողջական_վճարում   49135.000000        Ձախ       Սեդան       Yes  \n",
       "6695  ամբողջական_վճարում  141669.000000         Աջ  Ունիվերսալ       Yes  \n",
       "6696  ամբողջական_վճարում   86991.966880        Ձախ   Ամենագնաց       Yes  \n",
       "6697  ամբողջական_վճարում  203000.000000         Աջ   Ամենագնաց       Yes  \n",
       "6698  ամբողջական_վճարում   55000.000000        Ձախ       Սեդան       Yes  "
      ]
     },
     "execution_count": 536,
     "metadata": {},
     "output_type": "execute_result"
    }
   ],
   "source": [
    "auto.tail(15)"
   ]
  },
  {
   "cell_type": "code",
   "execution_count": 537,
   "metadata": {},
   "outputs": [],
   "source": [
    "auto.loc[auto.Price.isnull(), 'Price'] = auto.groupby(['CarModel', 'CarYear']).Price.transform('mean') #excelov el stugeci, chishta hashvel"
   ]
  },
  {
   "cell_type": "code",
   "execution_count": 538,
   "metadata": {},
   "outputs": [
    {
     "data": {
      "text/html": [
       "<div>\n",
       "<style scoped>\n",
       "    .dataframe tbody tr th:only-of-type {\n",
       "        vertical-align: middle;\n",
       "    }\n",
       "\n",
       "    .dataframe tbody tr th {\n",
       "        vertical-align: top;\n",
       "    }\n",
       "\n",
       "    .dataframe thead th {\n",
       "        text-align: right;\n",
       "    }\n",
       "</style>\n",
       "<table border=\"1\" class=\"dataframe\">\n",
       "  <thead>\n",
       "    <tr style=\"text-align: right;\">\n",
       "      <th></th>\n",
       "      <th>CarModel</th>\n",
       "      <th>CarYear</th>\n",
       "      <th>Country</th>\n",
       "      <th>Price</th>\n",
       "      <th>Custom</th>\n",
       "      <th>Payment_Option</th>\n",
       "      <th>Mileage</th>\n",
       "      <th>Hand_Drive</th>\n",
       "      <th>Body_Type</th>\n",
       "      <th>Purchased</th>\n",
       "    </tr>\n",
       "  </thead>\n",
       "  <tbody>\n",
       "    <tr>\n",
       "      <th>6684</th>\n",
       "      <td>ToyotaCamry</td>\n",
       "      <td>2013</td>\n",
       "      <td>ԱՄՆ</td>\n",
       "      <td>7563.515152</td>\n",
       "      <td>մաքսազերծված_չէ</td>\n",
       "      <td>ամբողջական_վճարում</td>\n",
       "      <td>58529.000000</td>\n",
       "      <td>Ձախ</td>\n",
       "      <td>Սեդան</td>\n",
       "      <td>Yes</td>\n",
       "    </tr>\n",
       "    <tr>\n",
       "      <th>6685</th>\n",
       "      <td>ToyotaRav4</td>\n",
       "      <td>2017</td>\n",
       "      <td>ԱՄՆ</td>\n",
       "      <td>13036.363636</td>\n",
       "      <td>մաքսազերծված_չէ</td>\n",
       "      <td>ամբողջական_վճարում</td>\n",
       "      <td>34000.000000</td>\n",
       "      <td>Ձախ</td>\n",
       "      <td>Սեդան</td>\n",
       "      <td>Yes</td>\n",
       "    </tr>\n",
       "    <tr>\n",
       "      <th>6686</th>\n",
       "      <td>ToyotaCamry</td>\n",
       "      <td>2009</td>\n",
       "      <td>ԱՄՆ</td>\n",
       "      <td>1650.000000</td>\n",
       "      <td>մաքսազերծված_չէ</td>\n",
       "      <td>ամբողջական_վճարում</td>\n",
       "      <td>124274.238400</td>\n",
       "      <td>Ձախ</td>\n",
       "      <td>Սեդան</td>\n",
       "      <td>Yes</td>\n",
       "    </tr>\n",
       "    <tr>\n",
       "      <th>6687</th>\n",
       "      <td>ToyotaCamry</td>\n",
       "      <td>2012</td>\n",
       "      <td>ԱՄՆ</td>\n",
       "      <td>3000.000000</td>\n",
       "      <td>մաքսազերծված_չէ</td>\n",
       "      <td>ամբողջական_վճարում</td>\n",
       "      <td>4349.598344</td>\n",
       "      <td>Ձախ</td>\n",
       "      <td>Սեդան</td>\n",
       "      <td>Yes</td>\n",
       "    </tr>\n",
       "    <tr>\n",
       "      <th>6688</th>\n",
       "      <td>ToyotaCamry</td>\n",
       "      <td>2012</td>\n",
       "      <td>ԱՄՆ</td>\n",
       "      <td>7072.112713</td>\n",
       "      <td>մաքսազերծված_չէ</td>\n",
       "      <td>ամբողջական_վճարում</td>\n",
       "      <td>46000.000000</td>\n",
       "      <td>Ձախ</td>\n",
       "      <td>Սեդան</td>\n",
       "      <td>Yes</td>\n",
       "    </tr>\n",
       "    <tr>\n",
       "      <th>6689</th>\n",
       "      <td>ToyotaLandCruiserPrado</td>\n",
       "      <td>2008</td>\n",
       "      <td>Հայաստան</td>\n",
       "      <td>5400.000000</td>\n",
       "      <td>մաքսազերծված_է</td>\n",
       "      <td>ամբողջական_վճարում</td>\n",
       "      <td>102000.000000</td>\n",
       "      <td>Ձախ</td>\n",
       "      <td>Սեդան</td>\n",
       "      <td>Yes</td>\n",
       "    </tr>\n",
       "    <tr>\n",
       "      <th>6690</th>\n",
       "      <td>ToyotaLandCruiser100</td>\n",
       "      <td>2000</td>\n",
       "      <td>Հայաստան</td>\n",
       "      <td>12500.000000</td>\n",
       "      <td>մաքսազերծված_է</td>\n",
       "      <td>ամբողջական_վճարում</td>\n",
       "      <td>178000.000000</td>\n",
       "      <td>Ձախ</td>\n",
       "      <td>Սեդան</td>\n",
       "      <td>Yes</td>\n",
       "    </tr>\n",
       "    <tr>\n",
       "      <th>6691</th>\n",
       "      <td>ToyotaCorolla</td>\n",
       "      <td>2013</td>\n",
       "      <td>Հայաստան</td>\n",
       "      <td>15000.000000</td>\n",
       "      <td>մաքսազերծված_է</td>\n",
       "      <td>ամբողջական_վճարում</td>\n",
       "      <td>55758.000000</td>\n",
       "      <td>Ձախ</td>\n",
       "      <td>Սեդան</td>\n",
       "      <td>Yes</td>\n",
       "    </tr>\n",
       "    <tr>\n",
       "      <th>6692</th>\n",
       "      <td>ToyotaAvensis</td>\n",
       "      <td>2006</td>\n",
       "      <td>Հայաստան</td>\n",
       "      <td>4600.000000</td>\n",
       "      <td>մաքսազերծված_է</td>\n",
       "      <td>ամբողջական_վճարում</td>\n",
       "      <td>116889.000000</td>\n",
       "      <td>Աջ</td>\n",
       "      <td>Սեդան</td>\n",
       "      <td>Yes</td>\n",
       "    </tr>\n",
       "    <tr>\n",
       "      <th>6693</th>\n",
       "      <td>ToyotaHarrier</td>\n",
       "      <td>2003</td>\n",
       "      <td>Հայաստան</td>\n",
       "      <td>7500.000000</td>\n",
       "      <td>մաքսազերծված_է</td>\n",
       "      <td>ամբողջական_վճարում</td>\n",
       "      <td>73101.000000</td>\n",
       "      <td>Աջ</td>\n",
       "      <td>Սեդան</td>\n",
       "      <td>Yes</td>\n",
       "    </tr>\n",
       "    <tr>\n",
       "      <th>6694</th>\n",
       "      <td>ToyotaLandCruiser200</td>\n",
       "      <td>2010</td>\n",
       "      <td>Հայաստան</td>\n",
       "      <td>41000.000000</td>\n",
       "      <td>մաքսազերծված_է</td>\n",
       "      <td>ամբողջական_վճարում</td>\n",
       "      <td>49135.000000</td>\n",
       "      <td>Ձախ</td>\n",
       "      <td>Սեդան</td>\n",
       "      <td>Yes</td>\n",
       "    </tr>\n",
       "    <tr>\n",
       "      <th>6695</th>\n",
       "      <td>ToyotaIpsum</td>\n",
       "      <td>2007</td>\n",
       "      <td>Հայաստան</td>\n",
       "      <td>7000.000000</td>\n",
       "      <td>մաքսազերծված_է</td>\n",
       "      <td>ամբողջական_վճարում</td>\n",
       "      <td>141669.000000</td>\n",
       "      <td>Աջ</td>\n",
       "      <td>Ունիվերսալ</td>\n",
       "      <td>Yes</td>\n",
       "    </tr>\n",
       "    <tr>\n",
       "      <th>6696</th>\n",
       "      <td>ToyotaCorolla</td>\n",
       "      <td>2013</td>\n",
       "      <td>ԱՄՆ</td>\n",
       "      <td>3800.000000</td>\n",
       "      <td>մաքսազերծված_չէ</td>\n",
       "      <td>ամբողջական_վճարում</td>\n",
       "      <td>86991.966880</td>\n",
       "      <td>Ձախ</td>\n",
       "      <td>Ամենագնաց</td>\n",
       "      <td>Yes</td>\n",
       "    </tr>\n",
       "    <tr>\n",
       "      <th>6697</th>\n",
       "      <td>ToyotaIpsum</td>\n",
       "      <td>2004</td>\n",
       "      <td>Հայաստան</td>\n",
       "      <td>5500.000000</td>\n",
       "      <td>մաքսազերծված_է</td>\n",
       "      <td>ամբողջական_վճարում</td>\n",
       "      <td>203000.000000</td>\n",
       "      <td>Աջ</td>\n",
       "      <td>Ամենագնաց</td>\n",
       "      <td>Yes</td>\n",
       "    </tr>\n",
       "    <tr>\n",
       "      <th>6698</th>\n",
       "      <td>ToyotaCorolla</td>\n",
       "      <td>2011</td>\n",
       "      <td>ԱՄՆ</td>\n",
       "      <td>5640.335052</td>\n",
       "      <td>մաքսազերծված_չէ</td>\n",
       "      <td>ամբողջական_վճարում</td>\n",
       "      <td>55000.000000</td>\n",
       "      <td>Ձախ</td>\n",
       "      <td>Սեդան</td>\n",
       "      <td>Yes</td>\n",
       "    </tr>\n",
       "  </tbody>\n",
       "</table>\n",
       "</div>"
      ],
      "text/plain": [
       "                    CarModel  CarYear   Country         Price  \\\n",
       "6684             ToyotaCamry     2013       ԱՄՆ   7563.515152   \n",
       "6685              ToyotaRav4     2017       ԱՄՆ  13036.363636   \n",
       "6686             ToyotaCamry     2009       ԱՄՆ   1650.000000   \n",
       "6687             ToyotaCamry     2012       ԱՄՆ   3000.000000   \n",
       "6688             ToyotaCamry     2012       ԱՄՆ   7072.112713   \n",
       "6689  ToyotaLandCruiserPrado     2008  Հայաստան   5400.000000   \n",
       "6690    ToyotaLandCruiser100     2000  Հայաստան  12500.000000   \n",
       "6691           ToyotaCorolla     2013  Հայաստան  15000.000000   \n",
       "6692           ToyotaAvensis     2006  Հայաստան   4600.000000   \n",
       "6693           ToyotaHarrier     2003  Հայաստան   7500.000000   \n",
       "6694    ToyotaLandCruiser200     2010  Հայաստան  41000.000000   \n",
       "6695             ToyotaIpsum     2007  Հայաստան   7000.000000   \n",
       "6696           ToyotaCorolla     2013       ԱՄՆ   3800.000000   \n",
       "6697             ToyotaIpsum     2004  Հայաստան   5500.000000   \n",
       "6698           ToyotaCorolla     2011       ԱՄՆ   5640.335052   \n",
       "\n",
       "               Custom      Payment_Option        Mileage Hand_Drive  \\\n",
       "6684  մաքսազերծված_չէ  ամբողջական_վճարում   58529.000000        Ձախ   \n",
       "6685  մաքսազերծված_չէ  ամբողջական_վճարում   34000.000000        Ձախ   \n",
       "6686  մաքսազերծված_չէ  ամբողջական_վճարում  124274.238400        Ձախ   \n",
       "6687  մաքսազերծված_չէ  ամբողջական_վճարում    4349.598344        Ձախ   \n",
       "6688  մաքսազերծված_չէ  ամբողջական_վճարում   46000.000000        Ձախ   \n",
       "6689   մաքսազերծված_է  ամբողջական_վճարում  102000.000000        Ձախ   \n",
       "6690   մաքսազերծված_է  ամբողջական_վճարում  178000.000000        Ձախ   \n",
       "6691   մաքսազերծված_է  ամբողջական_վճարում   55758.000000        Ձախ   \n",
       "6692   մաքսազերծված_է  ամբողջական_վճարում  116889.000000         Աջ   \n",
       "6693   մաքսազերծված_է  ամբողջական_վճարում   73101.000000         Աջ   \n",
       "6694   մաքսազերծված_է  ամբողջական_վճարում   49135.000000        Ձախ   \n",
       "6695   մաքսազերծված_է  ամբողջական_վճարում  141669.000000         Աջ   \n",
       "6696  մաքսազերծված_չէ  ամբողջական_վճարում   86991.966880        Ձախ   \n",
       "6697   մաքսազերծված_է  ամբողջական_վճարում  203000.000000         Աջ   \n",
       "6698  մաքսազերծված_չէ  ամբողջական_վճարում   55000.000000        Ձախ   \n",
       "\n",
       "       Body_Type Purchased  \n",
       "6684       Սեդան       Yes  \n",
       "6685       Սեդան       Yes  \n",
       "6686       Սեդան       Yes  \n",
       "6687       Սեդան       Yes  \n",
       "6688       Սեդան       Yes  \n",
       "6689       Սեդան       Yes  \n",
       "6690       Սեդան       Yes  \n",
       "6691       Սեդան       Yes  \n",
       "6692       Սեդան       Yes  \n",
       "6693       Սեդան       Yes  \n",
       "6694       Սեդան       Yes  \n",
       "6695  Ունիվերսալ       Yes  \n",
       "6696   Ամենագնաց       Yes  \n",
       "6697   Ամենագնաց       Yes  \n",
       "6698       Սեդան       Yes  "
      ]
     },
     "execution_count": 538,
     "metadata": {},
     "output_type": "execute_result"
    }
   ],
   "source": [
    "auto.tail(15) "
   ]
  },
  {
   "cell_type": "code",
   "execution_count": 539,
   "metadata": {},
   "outputs": [
    {
     "name": "stdout",
     "output_type": "stream",
     "text": [
      "<class 'pandas.core.frame.DataFrame'>\n",
      "RangeIndex: 6699 entries, 0 to 6698\n",
      "Data columns (total 10 columns):\n",
      "CarModel          6699 non-null object\n",
      "CarYear           6699 non-null int64\n",
      "Country           6698 non-null object\n",
      "Price             6675 non-null float64\n",
      "Custom            6699 non-null object\n",
      "Payment_Option    6699 non-null object\n",
      "Mileage           6699 non-null float64\n",
      "Hand_Drive        6699 non-null object\n",
      "Body_Type         6699 non-null object\n",
      "Purchased         6699 non-null object\n",
      "dtypes: float64(2), int64(1), object(7)\n",
      "memory usage: 523.4+ KB\n"
     ]
    }
   ],
   "source": [
    "auto.info()"
   ]
  },
  {
   "cell_type": "markdown",
   "metadata": {},
   "source": [
    "There are NA-s in Price because the value for some CarModels with unique years were also null. For example, there was only 1 observation for Toyota4-Runner with year=2002. And the value for price was NA, that is why python imputted NA as the mean for this category. There are not much this kind of observations, and now we will dropp all the NA values from our dataset.\n"
   ]
  },
  {
   "cell_type": "code",
   "execution_count": 540,
   "metadata": {},
   "outputs": [],
   "source": [
    "auto_new = auto.dropna()"
   ]
  },
  {
   "cell_type": "code",
   "execution_count": 541,
   "metadata": {
    "scrolled": true
   },
   "outputs": [
    {
     "name": "stdout",
     "output_type": "stream",
     "text": [
      "<class 'pandas.core.frame.DataFrame'>\n",
      "Int64Index: 6674 entries, 0 to 6698\n",
      "Data columns (total 10 columns):\n",
      "CarModel          6674 non-null object\n",
      "CarYear           6674 non-null int64\n",
      "Country           6674 non-null object\n",
      "Price             6674 non-null float64\n",
      "Custom            6674 non-null object\n",
      "Payment_Option    6674 non-null object\n",
      "Mileage           6674 non-null float64\n",
      "Hand_Drive        6674 non-null object\n",
      "Body_Type         6674 non-null object\n",
      "Purchased         6674 non-null object\n",
      "dtypes: float64(2), int64(1), object(7)\n",
      "memory usage: 573.5+ KB\n"
     ]
    }
   ],
   "source": [
    "auto_new.info()"
   ]
  },
  {
   "cell_type": "code",
   "execution_count": 542,
   "metadata": {},
   "outputs": [],
   "source": [
    "auto_new = auto_new[auto_new.Price > 1000]"
   ]
  },
  {
   "cell_type": "code",
   "execution_count": 543,
   "metadata": {},
   "outputs": [
    {
     "data": {
      "text/html": [
       "<div>\n",
       "<style scoped>\n",
       "    .dataframe tbody tr th:only-of-type {\n",
       "        vertical-align: middle;\n",
       "    }\n",
       "\n",
       "    .dataframe tbody tr th {\n",
       "        vertical-align: top;\n",
       "    }\n",
       "\n",
       "    .dataframe thead th {\n",
       "        text-align: right;\n",
       "    }\n",
       "</style>\n",
       "<table border=\"1\" class=\"dataframe\">\n",
       "  <thead>\n",
       "    <tr style=\"text-align: right;\">\n",
       "      <th></th>\n",
       "      <th>CarModel</th>\n",
       "      <th>CarYear</th>\n",
       "      <th>Country</th>\n",
       "      <th>Price</th>\n",
       "      <th>Custom</th>\n",
       "      <th>Payment_Option</th>\n",
       "      <th>Mileage</th>\n",
       "      <th>Hand_Drive</th>\n",
       "      <th>Body_Type</th>\n",
       "      <th>Purchased</th>\n",
       "    </tr>\n",
       "  </thead>\n",
       "  <tbody>\n",
       "    <tr>\n",
       "      <th>1</th>\n",
       "      <td>ToyotaCamry</td>\n",
       "      <td>2008</td>\n",
       "      <td>ԱՄՆ</td>\n",
       "      <td>1400.000000</td>\n",
       "      <td>մաքսազերծված_չէ</td>\n",
       "      <td>ամբողջական_վճարում</td>\n",
       "      <td>3168.993079</td>\n",
       "      <td>Ձախ</td>\n",
       "      <td>Ամենագնաց</td>\n",
       "      <td>No</td>\n",
       "    </tr>\n",
       "    <tr>\n",
       "      <th>2</th>\n",
       "      <td>ToyotaDuet</td>\n",
       "      <td>2001</td>\n",
       "      <td>Հայաստան</td>\n",
       "      <td>1443.298969</td>\n",
       "      <td>մաքսազերծված_է</td>\n",
       "      <td>ամբողջական_վճարում</td>\n",
       "      <td>8076.582754</td>\n",
       "      <td>Ձախ</td>\n",
       "      <td>Սեդան</td>\n",
       "      <td>No</td>\n",
       "    </tr>\n",
       "    <tr>\n",
       "      <th>3</th>\n",
       "      <td>ToyotaCamry</td>\n",
       "      <td>2009</td>\n",
       "      <td>ԱՄՆ</td>\n",
       "      <td>1900.000000</td>\n",
       "      <td>մաքսազերծված_չէ</td>\n",
       "      <td>ամբողջական_վճարում</td>\n",
       "      <td>86991.966880</td>\n",
       "      <td>Ձախ</td>\n",
       "      <td>Ունիվերսալ</td>\n",
       "      <td>No</td>\n",
       "    </tr>\n",
       "    <tr>\n",
       "      <th>4</th>\n",
       "      <td>ToyotaCamry</td>\n",
       "      <td>2009</td>\n",
       "      <td>ԱՄՆ</td>\n",
       "      <td>1950.000000</td>\n",
       "      <td>մաքսազերծված_չէ</td>\n",
       "      <td>ամբողջական_վճարում</td>\n",
       "      <td>60894.376816</td>\n",
       "      <td>Ձախ</td>\n",
       "      <td>Սեդան</td>\n",
       "      <td>No</td>\n",
       "    </tr>\n",
       "    <tr>\n",
       "      <th>5</th>\n",
       "      <td>ToyotaCorolla</td>\n",
       "      <td>2010</td>\n",
       "      <td>ԱՄՆ</td>\n",
       "      <td>2100.000000</td>\n",
       "      <td>մաքսազերծված_չէ</td>\n",
       "      <td>ամբողջական_վճարում</td>\n",
       "      <td>74564.543040</td>\n",
       "      <td>Ձախ</td>\n",
       "      <td>Ամենագնաց</td>\n",
       "      <td>No</td>\n",
       "    </tr>\n",
       "  </tbody>\n",
       "</table>\n",
       "</div>"
      ],
      "text/plain": [
       "        CarModel  CarYear   Country        Price           Custom  \\\n",
       "1    ToyotaCamry     2008       ԱՄՆ  1400.000000  մաքսազերծված_չէ   \n",
       "2     ToyotaDuet     2001  Հայաստան  1443.298969   մաքսազերծված_է   \n",
       "3    ToyotaCamry     2009       ԱՄՆ  1900.000000  մաքսազերծված_չէ   \n",
       "4    ToyotaCamry     2009       ԱՄՆ  1950.000000  մաքսազերծված_չէ   \n",
       "5  ToyotaCorolla     2010       ԱՄՆ  2100.000000  մաքսազերծված_չէ   \n",
       "\n",
       "       Payment_Option       Mileage Hand_Drive   Body_Type Purchased  \n",
       "1  ամբողջական_վճարում   3168.993079        Ձախ   Ամենագնաց        No  \n",
       "2  ամբողջական_վճարում   8076.582754        Ձախ       Սեդան        No  \n",
       "3  ամբողջական_վճարում  86991.966880        Ձախ  Ունիվերսալ        No  \n",
       "4  ամբողջական_վճարում  60894.376816        Ձախ       Սեդան        No  \n",
       "5  ամբողջական_վճարում  74564.543040        Ձախ   Ամենագնաց        No  "
      ]
     },
     "execution_count": 543,
     "metadata": {},
     "output_type": "execute_result"
    }
   ],
   "source": [
    "auto_new.head()"
   ]
  },
  {
   "cell_type": "code",
   "execution_count": 544,
   "metadata": {},
   "outputs": [
    {
     "name": "stdout",
     "output_type": "stream",
     "text": [
      "<class 'pandas.core.frame.DataFrame'>\n",
      "Int64Index: 6620 entries, 1 to 6698\n",
      "Data columns (total 10 columns):\n",
      "CarModel          6620 non-null object\n",
      "CarYear           6620 non-null int64\n",
      "Country           6620 non-null object\n",
      "Price             6620 non-null float64\n",
      "Custom            6620 non-null object\n",
      "Payment_Option    6620 non-null object\n",
      "Mileage           6620 non-null float64\n",
      "Hand_Drive        6620 non-null object\n",
      "Body_Type         6620 non-null object\n",
      "Purchased         6620 non-null object\n",
      "dtypes: float64(2), int64(1), object(7)\n",
      "memory usage: 568.9+ KB\n"
     ]
    }
   ],
   "source": [
    "auto_new.info()"
   ]
  },
  {
   "cell_type": "code",
   "execution_count": 545,
   "metadata": {},
   "outputs": [],
   "source": [
    "auto_new.CarYear = auto_new.CarYear.astype(str)"
   ]
  },
  {
   "cell_type": "code",
   "execution_count": 546,
   "metadata": {},
   "outputs": [],
   "source": [
    "#separate numeric and object variables\n",
    "data_numeric = auto_new.select_dtypes(exclude=\"object\")"
   ]
  },
  {
   "cell_type": "code",
   "execution_count": 547,
   "metadata": {},
   "outputs": [
    {
     "data": {
      "text/plain": [
       "<matplotlib.axes._subplots.AxesSubplot at 0xe4b1400>"
      ]
     },
     "execution_count": 547,
     "metadata": {},
     "output_type": "execute_result"
    },
    {
     "data": {
      "image/png": "[encoded data removed]",
      "text/plain": [
       "<matplotlib.figure.Figure at 0x106c8e80>"
      ]
     },
     "metadata": {},
     "output_type": "display_data"
    }
   ],
   "source": [
    "#the plot shows that there is almost no correlation between numeric variables\n",
    "sns.heatmap(data_numeric.corr().abs().round(2),annot=True)"
   ]
  },
  {
   "cell_type": "code",
   "execution_count": 548,
   "metadata": {},
   "outputs": [],
   "source": [
    "#create a function to normalize the data\n",
    "def my_scaler(col):\n",
    "  return (col - np.min(col))/(np.max(col)-np.min(col))\n",
    "\n",
    "#apply that function to each column of the dataframe\n",
    "data_scaled = data_numeric.apply(my_scaler)"
   ]
  },
  {
   "cell_type": "code",
   "execution_count": 549,
   "metadata": {},
   "outputs": [
    {
     "data": {
      "text/html": [
       "<div>\n",
       "<style scoped>\n",
       "    .dataframe tbody tr th:only-of-type {\n",
       "        vertical-align: middle;\n",
       "    }\n",
       "\n",
       "    .dataframe tbody tr th {\n",
       "        vertical-align: top;\n",
       "    }\n",
       "\n",
       "    .dataframe thead th {\n",
       "        text-align: right;\n",
       "    }\n",
       "</style>\n",
       "<table border=\"1\" class=\"dataframe\">\n",
       "  <thead>\n",
       "    <tr style=\"text-align: right;\">\n",
       "      <th></th>\n",
       "      <th>Price</th>\n",
       "      <th>Mileage</th>\n",
       "    </tr>\n",
       "  </thead>\n",
       "  <tbody>\n",
       "    <tr>\n",
       "      <th>1</th>\n",
       "      <td>0.002824</td>\n",
       "      <td>0.003899</td>\n",
       "    </tr>\n",
       "    <tr>\n",
       "      <th>2</th>\n",
       "      <td>0.003173</td>\n",
       "      <td>0.009949</td>\n",
       "    </tr>\n",
       "    <tr>\n",
       "      <th>3</th>\n",
       "      <td>0.006858</td>\n",
       "      <td>0.107235</td>\n",
       "    </tr>\n",
       "    <tr>\n",
       "      <th>4</th>\n",
       "      <td>0.007261</td>\n",
       "      <td>0.075062</td>\n",
       "    </tr>\n",
       "    <tr>\n",
       "      <th>5</th>\n",
       "      <td>0.008471</td>\n",
       "      <td>0.091914</td>\n",
       "    </tr>\n",
       "  </tbody>\n",
       "</table>\n",
       "</div>"
      ],
      "text/plain": [
       "      Price   Mileage\n",
       "1  0.002824  0.003899\n",
       "2  0.003173  0.009949\n",
       "3  0.006858  0.107235\n",
       "4  0.007261  0.075062\n",
       "5  0.008471  0.091914"
      ]
     },
     "execution_count": 549,
     "metadata": {},
     "output_type": "execute_result"
    }
   ],
   "source": [
    "data_scaled.head()"
   ]
  },
  {
   "cell_type": "code",
   "execution_count": 550,
   "metadata": {},
   "outputs": [
    {
     "data": {
      "text/plain": [
       "<matplotlib.axes._subplots.AxesSubplot at 0xe436668>"
      ]
     },
     "execution_count": 550,
     "metadata": {},
     "output_type": "execute_result"
    },
    {
     "data": {
      "image/png": "[encoded data removed]",
      "text/plain": [
       "<matplotlib.figure.Figure at 0xfcab4e0>"
      ]
     },
     "metadata": {},
     "output_type": "display_data"
    }
   ],
   "source": [
    "plt.figure(figsize=(15,10))\n",
    "sns.countplot(auto_new.CarModel)"
   ]
  },
  {
   "cell_type": "code",
   "execution_count": 551,
   "metadata": {},
   "outputs": [
    {
     "name": "stdout",
     "output_type": "stream",
     "text": [
      "64\n",
      "['ToyotaCamry' 'ToyotaDuet' 'ToyotaCorolla' 'ToyotaAltezza' 'ToyotaWish'\n",
      " 'ToyotaBelta' 'ToyotaYaris' 'ToyotaPrius' 'ToyotaAlphard' 'ToyotaRav4'\n",
      " 'ToyotaLandCruiserPrado' 'ToyotaLandCruiser100' 'Toyota4-Runner'\n",
      " 'ToyotaHighlander' 'ToyotaFJCruiser' 'ToyotaVitz' 'ToyotaVerossa'\n",
      " 'ToyotaIpsum' 'ToyotaBlade' 'ToyotaVoxy' 'ToyotaHarrier' 'ToyotaSienna'\n",
      " 'ToyotaIst' 'ToyotaMarkX(10)' 'ToyotaCrown' 'ToyotaBrevis' 'Toyota'\n",
      " 'ToyotaPlatz' 'ToyotaLandCruiser80' 'ToyotaAvensis' 'ToyotaProgres'\n",
      " 'ToyotaAvalon' 'ToyotaGrandHiace' 'ToyotaMarkXZiO' 'ToyotaEstima'\n",
      " 'ToyotaSequoia' 'ToyotaSienta' 'ToyotaScion' 'ToyotaMark2' 'ToyotaHilux'\n",
      " 'ToyotaVenza' 'ToyotaRaum' 'ToyotaCaldina' 'ToyotaNoah' 'ToyotaTacoma'\n",
      " 'ToyotaTundra' 'ToyotaCurren' 'ToyotaIsis' 'ToyotaSolara' 'ToyotaMatrix'\n",
      " 'ToyotaWindom' 'ToyotaAristo' 'ToyotaPasso' 'ToyotaLandCruiser70'\n",
      " 'ToyotaCelica' 'ToyotaHiace' 'ToyotaGT86' 'ToyotaLandCruiser200'\n",
      " 'ToyotaCelsior' 'ToyotaFuncargo' 'ToyotaStarlet' 'ToyotaNadia'\n",
      " 'ToyotaԱյլ/Օther' 'ToyotaFortuner']\n"
     ]
    }
   ],
   "source": [
    "print(len(auto_new.CarModel.unique()))\n",
    "print(auto_new.CarModel.unique())"
   ]
  },
  {
   "cell_type": "code",
   "execution_count": 552,
   "metadata": {},
   "outputs": [
    {
     "data": {
      "text/plain": [
       "ToyotaCamry               3615\n",
       "ToyotaCorolla             1104\n",
       "ToyotaRav4                 560\n",
       "ToyotaLandCruiserPrado     135\n",
       "ToyotaIpsum                124\n",
       "ToyotaSienna               115\n",
       "Toyota4-Runner             113\n",
       "ToyotaAlphard               91\n",
       "ToyotaVitz                  87\n",
       "ToyotaAltezza               85\n",
       "ToyotaPrius                 82\n",
       "ToyotaMarkX(10)             58\n",
       "ToyotaHighlander            52\n",
       "ToyotaAvalon                49\n",
       "ToyotaLandCruiser200        34\n",
       "ToyotaHarrier               34\n",
       "ToyotaLandCruiser100        32\n",
       "ToyotaYaris                 30\n",
       "ToyotaSequoia               22\n",
       "ToyotaFJCruiser             19\n",
       "ToyotaVoxy                  16\n",
       "ToyotaIst                   14\n",
       "ToyotaBelta                 13\n",
       "ToyotaScion                 11\n",
       "ToyotaAvensis               11\n",
       "ToyotaTundra                 9\n",
       "ToyotaEstima                 9\n",
       "ToyotaMark2                  7\n",
       "ToyotaBlade                  6\n",
       "ToyotaIsis                   6\n",
       "                          ... \n",
       "ToyotaSienta                 4\n",
       "ToyotaHilux                  4\n",
       "ToyotaԱյլ/Օther              3\n",
       "ToyotaFuncargo               3\n",
       "ToyotaAristo                 3\n",
       "ToyotaCaldina                3\n",
       "ToyotaTacoma                 3\n",
       "ToyotaVenza                  3\n",
       "ToyotaWish                   2\n",
       "ToyotaMatrix                 2\n",
       "ToyotaFortuner               2\n",
       "ToyotaCrown                  2\n",
       "ToyotaPlatz                  2\n",
       "ToyotaVerossa                2\n",
       "ToyotaNadia                  2\n",
       "ToyotaNoah                   2\n",
       "ToyotaWindom                 2\n",
       "ToyotaLandCruiser70          2\n",
       "ToyotaBrevis                 2\n",
       "ToyotaMarkXZiO               1\n",
       "ToyotaGT86                   1\n",
       "ToyotaCelsior                1\n",
       "ToyotaDuet                   1\n",
       "ToyotaCurren                 1\n",
       "ToyotaHiace                  1\n",
       "ToyotaProgres                1\n",
       "ToyotaRaum                   1\n",
       "ToyotaSolara                 1\n",
       "ToyotaGrandHiace             1\n",
       "Toyota                       1\n",
       "Name: CarModel, Length: 64, dtype: int64"
      ]
     },
     "execution_count": 552,
     "metadata": {},
     "output_type": "execute_result"
    }
   ],
   "source": [
    "auto_new.CarModel.value_counts()"
   ]
  },
  {
   "cell_type": "code",
   "execution_count": 553,
   "metadata": {},
   "outputs": [
    {
     "name": "stderr",
     "output_type": "stream",
     "text": [
      "C:\\ProgramData\\Anaconda3\\lib\\site-packages\\ipykernel_launcher.py:3: DeprecationWarning: \n",
      ".ix is deprecated. Please use\n",
      ".loc for label based indexing or\n",
      ".iloc for positional indexing\n",
      "\n",
      "See the documentation here:\n",
      "http://pandas.pydata.org/pandas-docs/stable/indexing.html#ix-indexer-is-deprecated\n",
      "  This is separate from the ipykernel package so we can avoid doing imports until\n"
     ]
    },
    {
     "data": {
      "text/html": [
       "<div>\n",
       "<style scoped>\n",
       "    .dataframe tbody tr th:only-of-type {\n",
       "        vertical-align: middle;\n",
       "    }\n",
       "\n",
       "    .dataframe tbody tr th {\n",
       "        vertical-align: top;\n",
       "    }\n",
       "\n",
       "    .dataframe thead th {\n",
       "        text-align: right;\n",
       "    }\n",
       "</style>\n",
       "<table border=\"1\" class=\"dataframe\">\n",
       "  <thead>\n",
       "    <tr style=\"text-align: right;\">\n",
       "      <th></th>\n",
       "      <th>ToyotaCamry</th>\n",
       "      <th>ToyotaCorolla</th>\n",
       "      <th>ToyotaRav4</th>\n",
       "      <th>ToyotaLandCruiserPrado</th>\n",
       "      <th>ToyotaIpsum</th>\n",
       "      <th>ToyotaSienna</th>\n",
       "      <th>Toyota4-Runner</th>\n",
       "    </tr>\n",
       "  </thead>\n",
       "  <tbody>\n",
       "    <tr>\n",
       "      <th>1</th>\n",
       "      <td>1</td>\n",
       "      <td>0</td>\n",
       "      <td>0</td>\n",
       "      <td>0</td>\n",
       "      <td>0</td>\n",
       "      <td>0</td>\n",
       "      <td>0</td>\n",
       "    </tr>\n",
       "    <tr>\n",
       "      <th>2</th>\n",
       "      <td>0</td>\n",
       "      <td>0</td>\n",
       "      <td>0</td>\n",
       "      <td>0</td>\n",
       "      <td>0</td>\n",
       "      <td>0</td>\n",
       "      <td>0</td>\n",
       "    </tr>\n",
       "    <tr>\n",
       "      <th>3</th>\n",
       "      <td>1</td>\n",
       "      <td>0</td>\n",
       "      <td>0</td>\n",
       "      <td>0</td>\n",
       "      <td>0</td>\n",
       "      <td>0</td>\n",
       "      <td>0</td>\n",
       "    </tr>\n",
       "    <tr>\n",
       "      <th>4</th>\n",
       "      <td>1</td>\n",
       "      <td>0</td>\n",
       "      <td>0</td>\n",
       "      <td>0</td>\n",
       "      <td>0</td>\n",
       "      <td>0</td>\n",
       "      <td>0</td>\n",
       "    </tr>\n",
       "    <tr>\n",
       "      <th>5</th>\n",
       "      <td>0</td>\n",
       "      <td>1</td>\n",
       "      <td>0</td>\n",
       "      <td>0</td>\n",
       "      <td>0</td>\n",
       "      <td>0</td>\n",
       "      <td>0</td>\n",
       "    </tr>\n",
       "  </tbody>\n",
       "</table>\n",
       "</div>"
      ],
      "text/plain": [
       "   ToyotaCamry  ToyotaCorolla  ToyotaRav4  ToyotaLandCruiserPrado  \\\n",
       "1            1              0           0                       0   \n",
       "2            0              0           0                       0   \n",
       "3            1              0           0                       0   \n",
       "4            1              0           0                       0   \n",
       "5            0              1           0                       0   \n",
       "\n",
       "   ToyotaIpsum  ToyotaSienna  Toyota4-Runner  \n",
       "1            0             0               0  \n",
       "2            0             0               0  \n",
       "3            0             0               0  \n",
       "4            0             0               0  \n",
       "5            0             0               0  "
      ]
     },
     "execution_count": 553,
     "metadata": {},
     "output_type": "execute_result"
    }
   ],
   "source": [
    "#getting dummies for car models\n",
    "model = pd.get_dummies(auto_new.CarModel)\n",
    "model = model.ix[:, [\"ToyotaCamry\", \"ToyotaCorolla\",\"ToyotaRav4\", \"ToyotaLandCruiserPrado\", \"ToyotaIpsum\", \"ToyotaSienna\", \"Toyota4-Runner\"]]\n",
    "model.head()"
   ]
  },
  {
   "cell_type": "code",
   "execution_count": 554,
   "metadata": {},
   "outputs": [
    {
     "data": {
      "text/plain": [
       "<matplotlib.axes._subplots.AxesSubplot at 0x11bbdb00>"
      ]
     },
     "execution_count": 554,
     "metadata": {},
     "output_type": "execute_result"
    },
    {
     "data": {
      "image/png": "[encoded data removed]",
      "text/plain": [
       "<matplotlib.figure.Figure at 0x1a2ffeb8>"
      ]
     },
     "metadata": {},
     "output_type": "display_data"
    }
   ],
   "source": [
    "plt.figure(figsize=(15,5))\n",
    "sns.countplot(auto_new.CarYear)"
   ]
  },
  {
   "cell_type": "code",
   "execution_count": 555,
   "metadata": {},
   "outputs": [
    {
     "data": {
      "text/plain": [
       "array(['2008', '2001', '2009', '2010', '2011', '2012', '2015', '2014',\n",
       "       '2013', '2003', '2004', '2005', '2016', '2017', '2007', '1999',\n",
       "       '2018', '2006', '2000', '2002', '1998', '1994', '1993', '1995',\n",
       "       '1996', '1997', '1991', '1989'], dtype=object)"
      ]
     },
     "execution_count": 555,
     "metadata": {},
     "output_type": "execute_result"
    }
   ],
   "source": [
    "auto_new.CarYear.unique()"
   ]
  },
  {
   "cell_type": "code",
   "execution_count": 556,
   "metadata": {},
   "outputs": [
    {
     "data": {
      "text/plain": [
       "2014    728\n",
       "2011    651\n",
       "2010    613\n",
       "2012    612\n",
       "2013    574\n",
       "2015    495\n",
       "2016    438\n",
       "2008    401\n",
       "2009    396\n",
       "2007    360\n",
       "2017    357\n",
       "2006    232\n",
       "2005    172\n",
       "2004    144\n",
       "2003    100\n",
       "2018     94\n",
       "2002     84\n",
       "2001     69\n",
       "1999     38\n",
       "2000     31\n",
       "1998     11\n",
       "1996      9\n",
       "1997      4\n",
       "1995      2\n",
       "1994      2\n",
       "1989      1\n",
       "1991      1\n",
       "1993      1\n",
       "Name: CarYear, dtype: int64"
      ]
     },
     "execution_count": 556,
     "metadata": {},
     "output_type": "execute_result"
    }
   ],
   "source": [
    "auto_new.CarYear.value_counts()"
   ]
  },
  {
   "cell_type": "code",
   "execution_count": 345,
   "metadata": {},
   "outputs": [
    {
     "name": "stderr",
     "output_type": "stream",
     "text": [
      "C:\\ProgramData\\Anaconda3\\lib\\site-packages\\ipykernel_launcher.py:2: DeprecationWarning: \n",
      ".ix is deprecated. Please use\n",
      ".loc for label based indexing or\n",
      ".iloc for positional indexing\n",
      "\n",
      "See the documentation here:\n",
      "http://pandas.pydata.org/pandas-docs/stable/indexing.html#ix-indexer-is-deprecated\n",
      "  \n"
     ]
    },
    {
     "data": {
      "text/html": [
       "<div>\n",
       "<style scoped>\n",
       "    .dataframe tbody tr th:only-of-type {\n",
       "        vertical-align: middle;\n",
       "    }\n",
       "\n",
       "    .dataframe tbody tr th {\n",
       "        vertical-align: top;\n",
       "    }\n",
       "\n",
       "    .dataframe thead th {\n",
       "        text-align: right;\n",
       "    }\n",
       "</style>\n",
       "<table border=\"1\" class=\"dataframe\">\n",
       "  <thead>\n",
       "    <tr style=\"text-align: right;\">\n",
       "      <th></th>\n",
       "      <th>2014</th>\n",
       "      <th>2011</th>\n",
       "      <th>2010</th>\n",
       "      <th>2012</th>\n",
       "      <th>2013</th>\n",
       "      <th>2015</th>\n",
       "      <th>2016</th>\n",
       "      <th>2008</th>\n",
       "      <th>2009</th>\n",
       "      <th>2007</th>\n",
       "      <th>2017</th>\n",
       "    </tr>\n",
       "  </thead>\n",
       "  <tbody>\n",
       "    <tr>\n",
       "      <th>1</th>\n",
       "      <td>0</td>\n",
       "      <td>0</td>\n",
       "      <td>0</td>\n",
       "      <td>0</td>\n",
       "      <td>0</td>\n",
       "      <td>0</td>\n",
       "      <td>0</td>\n",
       "      <td>1</td>\n",
       "      <td>0</td>\n",
       "      <td>0</td>\n",
       "      <td>0</td>\n",
       "    </tr>\n",
       "    <tr>\n",
       "      <th>2</th>\n",
       "      <td>0</td>\n",
       "      <td>0</td>\n",
       "      <td>0</td>\n",
       "      <td>0</td>\n",
       "      <td>0</td>\n",
       "      <td>0</td>\n",
       "      <td>0</td>\n",
       "      <td>0</td>\n",
       "      <td>0</td>\n",
       "      <td>0</td>\n",
       "      <td>0</td>\n",
       "    </tr>\n",
       "    <tr>\n",
       "      <th>3</th>\n",
       "      <td>0</td>\n",
       "      <td>0</td>\n",
       "      <td>0</td>\n",
       "      <td>0</td>\n",
       "      <td>0</td>\n",
       "      <td>0</td>\n",
       "      <td>0</td>\n",
       "      <td>0</td>\n",
       "      <td>1</td>\n",
       "      <td>0</td>\n",
       "      <td>0</td>\n",
       "    </tr>\n",
       "    <tr>\n",
       "      <th>4</th>\n",
       "      <td>0</td>\n",
       "      <td>0</td>\n",
       "      <td>0</td>\n",
       "      <td>0</td>\n",
       "      <td>0</td>\n",
       "      <td>0</td>\n",
       "      <td>0</td>\n",
       "      <td>0</td>\n",
       "      <td>1</td>\n",
       "      <td>0</td>\n",
       "      <td>0</td>\n",
       "    </tr>\n",
       "    <tr>\n",
       "      <th>5</th>\n",
       "      <td>0</td>\n",
       "      <td>0</td>\n",
       "      <td>1</td>\n",
       "      <td>0</td>\n",
       "      <td>0</td>\n",
       "      <td>0</td>\n",
       "      <td>0</td>\n",
       "      <td>0</td>\n",
       "      <td>0</td>\n",
       "      <td>0</td>\n",
       "      <td>0</td>\n",
       "    </tr>\n",
       "  </tbody>\n",
       "</table>\n",
       "</div>"
      ],
      "text/plain": [
       "   2014  2011  2010  2012  2013  2015  2016  2008  2009  2007  2017\n",
       "1     0     0     0     0     0     0     0     1     0     0     0\n",
       "2     0     0     0     0     0     0     0     0     0     0     0\n",
       "3     0     0     0     0     0     0     0     0     1     0     0\n",
       "4     0     0     0     0     0     0     0     0     1     0     0\n",
       "5     0     0     1     0     0     0     0     0     0     0     0"
      ]
     },
     "execution_count": 345,
     "metadata": {},
     "output_type": "execute_result"
    }
   ],
   "source": [
    "year = pd.get_dummies(auto_new.CarYear)\n",
    "year = year.ix[:, [\"2014\", \"2011\",\"2010\", \"2012\", \"2013\", \"2015\", \"2016\", \"2008\", \"2009\", \"2007\", \"2017\"]]\n",
    "year.head()"
   ]
  },
  {
   "cell_type": "code",
   "execution_count": 346,
   "metadata": {},
   "outputs": [
    {
     "data": {
      "text/plain": [
       "<matplotlib.axes._subplots.AxesSubplot at 0xfc22898>"
      ]
     },
     "execution_count": 346,
     "metadata": {},
     "output_type": "execute_result"
    },
    {
     "data": {
      "image/png": "[encoded data removed]",
      "text/plain": [
       "<matplotlib.figure.Figure at 0xff25978>"
      ]
     },
     "metadata": {},
     "output_type": "display_data"
    }
   ],
   "source": [
    "plt.figure(figsize=(10,5))\n",
    "sns.countplot(auto_new.Country)"
   ]
  },
  {
   "cell_type": "code",
   "execution_count": 347,
   "metadata": {},
   "outputs": [
    {
     "data": {
      "text/plain": [
       "array(['ԱՄՆ', 'Հայաստան', 'ԱՄԷ', 'Ռուսաստան', 'Վրաստան', 'Ճապոնիա',\n",
       "       'Իտալիա'], dtype=object)"
      ]
     },
     "execution_count": 347,
     "metadata": {},
     "output_type": "execute_result"
    }
   ],
   "source": [
    "auto_new.Country.unique()"
   ]
  },
  {
   "cell_type": "code",
   "execution_count": 349,
   "metadata": {},
   "outputs": [
    {
     "data": {
      "text/html": [
       "<div>\n",
       "<style scoped>\n",
       "    .dataframe tbody tr th:only-of-type {\n",
       "        vertical-align: middle;\n",
       "    }\n",
       "\n",
       "    .dataframe tbody tr th {\n",
       "        vertical-align: top;\n",
       "    }\n",
       "\n",
       "    .dataframe thead th {\n",
       "        text-align: right;\n",
       "    }\n",
       "</style>\n",
       "<table border=\"1\" class=\"dataframe\">\n",
       "  <thead>\n",
       "    <tr style=\"text-align: right;\">\n",
       "      <th></th>\n",
       "      <th>USA_Location</th>\n",
       "      <th>Armenia_Location</th>\n",
       "      <th>Japan_Location</th>\n",
       "    </tr>\n",
       "  </thead>\n",
       "  <tbody>\n",
       "    <tr>\n",
       "      <th>1</th>\n",
       "      <td>1</td>\n",
       "      <td>0</td>\n",
       "      <td>0</td>\n",
       "    </tr>\n",
       "    <tr>\n",
       "      <th>2</th>\n",
       "      <td>0</td>\n",
       "      <td>1</td>\n",
       "      <td>0</td>\n",
       "    </tr>\n",
       "    <tr>\n",
       "      <th>3</th>\n",
       "      <td>1</td>\n",
       "      <td>0</td>\n",
       "      <td>0</td>\n",
       "    </tr>\n",
       "    <tr>\n",
       "      <th>4</th>\n",
       "      <td>1</td>\n",
       "      <td>0</td>\n",
       "      <td>0</td>\n",
       "    </tr>\n",
       "    <tr>\n",
       "      <th>5</th>\n",
       "      <td>1</td>\n",
       "      <td>0</td>\n",
       "      <td>0</td>\n",
       "    </tr>\n",
       "  </tbody>\n",
       "</table>\n",
       "</div>"
      ],
      "text/plain": [
       "   USA_Location  Armenia_Location  Japan_Location\n",
       "1             1                 0               0\n",
       "2             0                 1               0\n",
       "3             1                 0               0\n",
       "4             1                 0               0\n",
       "5             1                 0               0"
      ]
     },
     "execution_count": 349,
     "metadata": {},
     "output_type": "execute_result"
    }
   ],
   "source": [
    "#getting dummies for countries\n",
    "country = pd.get_dummies(auto_new.Country)\n",
    "country = country.drop([\"Իտալիա\", \"ԱՄԷ\", \"Ռուսաստան\", \"Վրաստան\"], axis=1)\n",
    "country = country.rename(columns={\"ԱՄՆ\":\"USA_Location\", \"Հայաստան\":\"Armenia_Location\", \"Ճապոնիա\":\"Japan_Location\"})\n",
    "country.head()"
   ]
  },
  {
   "cell_type": "code",
   "execution_count": 350,
   "metadata": {},
   "outputs": [
    {
     "data": {
      "text/plain": [
       "<matplotlib.axes._subplots.AxesSubplot at 0xff3c9e8>"
      ]
     },
     "execution_count": 350,
     "metadata": {},
     "output_type": "execute_result"
    },
    {
     "data": {
      "image/png": "[encoded data removed]",
      "text/plain": [
       "<matplotlib.figure.Figure at 0xfce2320>"
      ]
     },
     "metadata": {},
     "output_type": "display_data"
    }
   ],
   "source": [
    "plt.figure(figsize=(5,5))\n",
    "sns.countplot(auto_new.Custom)"
   ]
  },
  {
   "cell_type": "code",
   "execution_count": 351,
   "metadata": {},
   "outputs": [
    {
     "data": {
      "text/html": [
       "<div>\n",
       "<style scoped>\n",
       "    .dataframe tbody tr th:only-of-type {\n",
       "        vertical-align: middle;\n",
       "    }\n",
       "\n",
       "    .dataframe tbody tr th {\n",
       "        vertical-align: top;\n",
       "    }\n",
       "\n",
       "    .dataframe thead th {\n",
       "        text-align: right;\n",
       "    }\n",
       "</style>\n",
       "<table border=\"1\" class=\"dataframe\">\n",
       "  <thead>\n",
       "    <tr style=\"text-align: right;\">\n",
       "      <th></th>\n",
       "      <th>Custom</th>\n",
       "    </tr>\n",
       "  </thead>\n",
       "  <tbody>\n",
       "    <tr>\n",
       "      <th>1</th>\n",
       "      <td>0</td>\n",
       "    </tr>\n",
       "    <tr>\n",
       "      <th>2</th>\n",
       "      <td>1</td>\n",
       "    </tr>\n",
       "    <tr>\n",
       "      <th>3</th>\n",
       "      <td>0</td>\n",
       "    </tr>\n",
       "    <tr>\n",
       "      <th>4</th>\n",
       "      <td>0</td>\n",
       "    </tr>\n",
       "    <tr>\n",
       "      <th>5</th>\n",
       "      <td>0</td>\n",
       "    </tr>\n",
       "  </tbody>\n",
       "</table>\n",
       "</div>"
      ],
      "text/plain": [
       "   Custom\n",
       "1       0\n",
       "2       1\n",
       "3       0\n",
       "4       0\n",
       "5       0"
      ]
     },
     "execution_count": 351,
     "metadata": {},
     "output_type": "execute_result"
    }
   ],
   "source": [
    "#getting dummies for custom\n",
    "custom = pd.get_dummies(auto_new.Custom)\n",
    "custom = custom.drop([\"մաքսազերծված_չէ\"], axis=1)\n",
    "custom = custom.rename(columns={\"մաքսազերծված_է\":\"Custom\"}) #1-Yes, 0-No\n",
    "custom.head()"
   ]
  },
  {
   "cell_type": "code",
   "execution_count": 352,
   "metadata": {},
   "outputs": [
    {
     "data": {
      "text/plain": [
       "<matplotlib.axes._subplots.AxesSubplot at 0xff626a0>"
      ]
     },
     "execution_count": 352,
     "metadata": {},
     "output_type": "execute_result"
    },
    {
     "data": {
      "image/png": "[encoded data removed]",
      "text/plain": [
       "<matplotlib.figure.Figure at 0xfe4da58>"
      ]
     },
     "metadata": {},
     "output_type": "display_data"
    }
   ],
   "source": [
    "sns.countplot(auto_new.Payment_Option)"
   ]
  },
  {
   "cell_type": "code",
   "execution_count": 353,
   "metadata": {},
   "outputs": [
    {
     "data": {
      "text/html": [
       "<div>\n",
       "<style scoped>\n",
       "    .dataframe tbody tr th:only-of-type {\n",
       "        vertical-align: middle;\n",
       "    }\n",
       "\n",
       "    .dataframe tbody tr th {\n",
       "        vertical-align: top;\n",
       "    }\n",
       "\n",
       "    .dataframe thead th {\n",
       "        text-align: right;\n",
       "    }\n",
       "</style>\n",
       "<table border=\"1\" class=\"dataframe\">\n",
       "  <thead>\n",
       "    <tr style=\"text-align: right;\">\n",
       "      <th></th>\n",
       "      <th>Full_Payment</th>\n",
       "    </tr>\n",
       "  </thead>\n",
       "  <tbody>\n",
       "    <tr>\n",
       "      <th>1</th>\n",
       "      <td>1</td>\n",
       "    </tr>\n",
       "    <tr>\n",
       "      <th>2</th>\n",
       "      <td>1</td>\n",
       "    </tr>\n",
       "    <tr>\n",
       "      <th>3</th>\n",
       "      <td>1</td>\n",
       "    </tr>\n",
       "    <tr>\n",
       "      <th>4</th>\n",
       "      <td>1</td>\n",
       "    </tr>\n",
       "    <tr>\n",
       "      <th>5</th>\n",
       "      <td>1</td>\n",
       "    </tr>\n",
       "  </tbody>\n",
       "</table>\n",
       "</div>"
      ],
      "text/plain": [
       "   Full_Payment\n",
       "1             1\n",
       "2             1\n",
       "3             1\n",
       "4             1\n",
       "5             1"
      ]
     },
     "execution_count": 353,
     "metadata": {},
     "output_type": "execute_result"
    }
   ],
   "source": [
    "#getting dummies for payment options\n",
    "payment = pd.get_dummies(auto_new.Payment_Option)\n",
    "payment = payment.drop([\"մաս-մասվճարում\", \"փոխանակում\"], axis=1)\n",
    "payment = payment.rename(columns={\"ամբողջական_վճարում\":\"Full_Payment\", \"փոխանակում\":\"Exchanging_Auto\"})\n",
    "payment.head()"
   ]
  },
  {
   "cell_type": "code",
   "execution_count": 354,
   "metadata": {},
   "outputs": [
    {
     "data": {
      "text/plain": [
       "<matplotlib.axes._subplots.AxesSubplot at 0xff07c50>"
      ]
     },
     "execution_count": 354,
     "metadata": {},
     "output_type": "execute_result"
    },
    {
     "data": {
      "image/png": "[encoded data removed]",
      "text/plain": [
       "<matplotlib.figure.Figure at 0x106ef9e8>"
      ]
     },
     "metadata": {},
     "output_type": "display_data"
    }
   ],
   "source": [
    "sns.countplot(auto_new.Hand_Drive)"
   ]
  },
  {
   "cell_type": "code",
   "execution_count": 355,
   "metadata": {},
   "outputs": [
    {
     "data": {
      "text/plain": [
       "array(['Ձախ', 'Աջ', 'Փոխվածաջիցձախ'], dtype=object)"
      ]
     },
     "execution_count": 355,
     "metadata": {},
     "output_type": "execute_result"
    }
   ],
   "source": [
    "auto_new.Hand_Drive.unique()"
   ]
  },
  {
   "cell_type": "code",
   "execution_count": 356,
   "metadata": {},
   "outputs": [
    {
     "data": {
      "text/html": [
       "<div>\n",
       "<style scoped>\n",
       "    .dataframe tbody tr th:only-of-type {\n",
       "        vertical-align: middle;\n",
       "    }\n",
       "\n",
       "    .dataframe tbody tr th {\n",
       "        vertical-align: top;\n",
       "    }\n",
       "\n",
       "    .dataframe thead th {\n",
       "        text-align: right;\n",
       "    }\n",
       "</style>\n",
       "<table border=\"1\" class=\"dataframe\">\n",
       "  <thead>\n",
       "    <tr style=\"text-align: right;\">\n",
       "      <th></th>\n",
       "      <th>Hand_Drive</th>\n",
       "    </tr>\n",
       "  </thead>\n",
       "  <tbody>\n",
       "    <tr>\n",
       "      <th>1</th>\n",
       "      <td>1</td>\n",
       "    </tr>\n",
       "    <tr>\n",
       "      <th>2</th>\n",
       "      <td>1</td>\n",
       "    </tr>\n",
       "    <tr>\n",
       "      <th>3</th>\n",
       "      <td>1</td>\n",
       "    </tr>\n",
       "    <tr>\n",
       "      <th>4</th>\n",
       "      <td>1</td>\n",
       "    </tr>\n",
       "    <tr>\n",
       "      <th>5</th>\n",
       "      <td>1</td>\n",
       "    </tr>\n",
       "  </tbody>\n",
       "</table>\n",
       "</div>"
      ],
      "text/plain": [
       "   Hand_Drive\n",
       "1           1\n",
       "2           1\n",
       "3           1\n",
       "4           1\n",
       "5           1"
      ]
     },
     "execution_count": 356,
     "metadata": {},
     "output_type": "execute_result"
    }
   ],
   "source": [
    "#getting dummies for hand drive\n",
    "hand = pd.get_dummies(auto_new.Hand_Drive)\n",
    "hand = hand.drop([\"Փոխվածաջիցձախ\", \"Աջ\"], axis=1)\n",
    "hand = hand.rename(columns={\"Ձախ\":\"Hand_Drive\"}) #1 for left hand drive, 0 for others\n",
    "hand.head()"
   ]
  },
  {
   "cell_type": "code",
   "execution_count": 357,
   "metadata": {},
   "outputs": [
    {
     "data": {
      "text/plain": [
       "<matplotlib.axes._subplots.AxesSubplot at 0x1065ec18>"
      ]
     },
     "execution_count": 357,
     "metadata": {},
     "output_type": "execute_result"
    },
    {
     "data": {
      "image/png": "[encoded data removed]",
      "text/plain": [
       "<matplotlib.figure.Figure at 0xffde8d0>"
      ]
     },
     "metadata": {},
     "output_type": "display_data"
    }
   ],
   "source": [
    "plt.figure(figsize=(15,5))\n",
    "sns.countplot(auto_new.Body_Type)"
   ]
  },
  {
   "cell_type": "code",
   "execution_count": 358,
   "metadata": {},
   "outputs": [
    {
     "data": {
      "text/plain": [
       "array(['Ամենագնաց', 'Սեդան', 'Ունիվերսալ', 'Հետչբեք',\n",
       "       'Մինիվեն/Միկրոավտոբուս', 'Կաբրիոլետ/Ռոդսթեր', 'Պիկապ', 'Կուպե'],\n",
       "      dtype=object)"
      ]
     },
     "execution_count": 358,
     "metadata": {},
     "output_type": "execute_result"
    }
   ],
   "source": [
    "auto_new.Body_Type.unique()"
   ]
  },
  {
   "cell_type": "code",
   "execution_count": 359,
   "metadata": {},
   "outputs": [
    {
     "data": {
      "text/html": [
       "<div>\n",
       "<style scoped>\n",
       "    .dataframe tbody tr th:only-of-type {\n",
       "        vertical-align: middle;\n",
       "    }\n",
       "\n",
       "    .dataframe tbody tr th {\n",
       "        vertical-align: top;\n",
       "    }\n",
       "\n",
       "    .dataframe thead th {\n",
       "        text-align: right;\n",
       "    }\n",
       "</style>\n",
       "<table border=\"1\" class=\"dataframe\">\n",
       "  <thead>\n",
       "    <tr style=\"text-align: right;\">\n",
       "      <th></th>\n",
       "      <th>SUV/Truck</th>\n",
       "      <th>Sedan</th>\n",
       "    </tr>\n",
       "  </thead>\n",
       "  <tbody>\n",
       "    <tr>\n",
       "      <th>1</th>\n",
       "      <td>1</td>\n",
       "      <td>0</td>\n",
       "    </tr>\n",
       "    <tr>\n",
       "      <th>2</th>\n",
       "      <td>0</td>\n",
       "      <td>1</td>\n",
       "    </tr>\n",
       "    <tr>\n",
       "      <th>3</th>\n",
       "      <td>0</td>\n",
       "      <td>0</td>\n",
       "    </tr>\n",
       "    <tr>\n",
       "      <th>4</th>\n",
       "      <td>0</td>\n",
       "      <td>1</td>\n",
       "    </tr>\n",
       "    <tr>\n",
       "      <th>5</th>\n",
       "      <td>1</td>\n",
       "      <td>0</td>\n",
       "    </tr>\n",
       "  </tbody>\n",
       "</table>\n",
       "</div>"
      ],
      "text/plain": [
       "   SUV/Truck  Sedan\n",
       "1          1      0\n",
       "2          0      1\n",
       "3          0      0\n",
       "4          0      1\n",
       "5          1      0"
      ]
     },
     "execution_count": 359,
     "metadata": {},
     "output_type": "execute_result"
    }
   ],
   "source": [
    "#getting dummies for body types of cars\n",
    "body = pd.get_dummies(auto_new.Body_Type)\n",
    "body = body.drop([\"Մինիվեն/Միկրոավտոբուս\", 'Ունիվերսալ', 'Հետչբեք', 'Կաբրիոլետ/Ռոդսթեր','Պիկապ', 'Կուպե'], axis=1)\n",
    "body = body.rename(columns={\"Սեդան\":\"Sedan\", \"Ամենագնաց\":\"SUV/Truck\"})\n",
    "body.head()"
   ]
  },
  {
   "cell_type": "code",
   "execution_count": 360,
   "metadata": {},
   "outputs": [
    {
     "data": {
      "text/html": [
       "<div>\n",
       "<style scoped>\n",
       "    .dataframe tbody tr th:only-of-type {\n",
       "        vertical-align: middle;\n",
       "    }\n",
       "\n",
       "    .dataframe tbody tr th {\n",
       "        vertical-align: top;\n",
       "    }\n",
       "\n",
       "    .dataframe thead th {\n",
       "        text-align: right;\n",
       "    }\n",
       "</style>\n",
       "<table border=\"1\" class=\"dataframe\">\n",
       "  <thead>\n",
       "    <tr style=\"text-align: right;\">\n",
       "      <th></th>\n",
       "      <th>Purchased</th>\n",
       "    </tr>\n",
       "  </thead>\n",
       "  <tbody>\n",
       "    <tr>\n",
       "      <th>1</th>\n",
       "      <td>0</td>\n",
       "    </tr>\n",
       "    <tr>\n",
       "      <th>2</th>\n",
       "      <td>0</td>\n",
       "    </tr>\n",
       "    <tr>\n",
       "      <th>3</th>\n",
       "      <td>0</td>\n",
       "    </tr>\n",
       "    <tr>\n",
       "      <th>4</th>\n",
       "      <td>0</td>\n",
       "    </tr>\n",
       "    <tr>\n",
       "      <th>5</th>\n",
       "      <td>0</td>\n",
       "    </tr>\n",
       "  </tbody>\n",
       "</table>\n",
       "</div>"
      ],
      "text/plain": [
       "   Purchased\n",
       "1          0\n",
       "2          0\n",
       "3          0\n",
       "4          0\n",
       "5          0"
      ]
     },
     "execution_count": 360,
     "metadata": {},
     "output_type": "execute_result"
    }
   ],
   "source": [
    "#getting dummies for body types of cars\n",
    "purch = pd.get_dummies(auto_new.Purchased)\n",
    "purch = purch.drop([\"No\"], axis=1)\n",
    "purch = purch.rename(columns={\"Yes\":\"Purchased\"})\n",
    "purch.head()"
   ]
  },
  {
   "cell_type": "code",
   "execution_count": 361,
   "metadata": {},
   "outputs": [],
   "source": [
    "new = auto_new.drop([\"CarModel\", \"CarYear\", \"Country\", \"Custom\", \"Payment_Option\", \"Hand_Drive\", \"Body_Type\", \"Purchased\"],axis=1)"
   ]
  },
  {
   "cell_type": "code",
   "execution_count": 362,
   "metadata": {},
   "outputs": [],
   "source": [
    "new = new.join([model, year, country, custom, payment, hand, body, purch])"
   ]
  },
  {
   "cell_type": "code",
   "execution_count": 363,
   "metadata": {},
   "outputs": [],
   "source": [
    "new_scaled = data_scaled.join([model, year, country, custom, payment, hand, body, purch])"
   ]
  },
  {
   "cell_type": "markdown",
   "metadata": {},
   "source": [
    "# Predictive Analytics"
   ]
  },
  {
   "cell_type": "markdown",
   "metadata": {},
   "source": [
    "## Predicting the price of Toyota cars"
   ]
  },
  {
   "cell_type": "code",
   "execution_count": 369,
   "metadata": {},
   "outputs": [],
   "source": [
    "#Importing necessary libraries:\n",
    "from sklearn.tree import DecisionTreeRegressor\n",
    "from sklearn.linear_model import LinearRegression\n",
    "from sklearn.ensemble import RandomForestRegressor, GradientBoostingRegressor\n",
    "from sklearn.model_selection import train_test_split, GridSearchCV, cross_val_score\n",
    "from sklearn.metrics import mean_squared_error, mean_absolute_error\n",
    "from sklearn.preprocessing import LabelEncoder, OneHotEncoder"
   ]
  },
  {
   "cell_type": "code",
   "execution_count": 370,
   "metadata": {},
   "outputs": [],
   "source": [
    "#unscaled\n",
    "y = new[\"Price\"]\n",
    "x = new.drop(\"Price\",axis=1)\n",
    "\n",
    "#scaled\n",
    "Y = new_scaled[\"Price\"]\n",
    "X = new_scaled.drop(\"Price\",axis=1)"
   ]
  },
  {
   "cell_type": "code",
   "execution_count": 371,
   "metadata": {},
   "outputs": [],
   "source": [
    "x_train, x_test, y_train, y_test = train_test_split(x,y,test_size=0.25,random_state=42)\n",
    "X_train, X_test, Y_train, Y_test = train_test_split(X,Y,test_size=0.25,random_state=42)"
   ]
  },
  {
   "cell_type": "code",
   "execution_count": 372,
   "metadata": {},
   "outputs": [],
   "source": [
    "model_tree = DecisionTreeRegressor(random_state=42)\n",
    "model_linear = LinearRegression()\n",
    "model_rf = RandomForestRegressor(random_state=42)\n",
    "model_gb = GradientBoostingRegressor(random_state=42)"
   ]
  },
  {
   "cell_type": "code",
   "execution_count": 373,
   "metadata": {},
   "outputs": [
    {
     "data": {
      "text/plain": [
       "GradientBoostingRegressor(alpha=0.9, criterion='friedman_mse', init=None,\n",
       "             learning_rate=0.1, loss='ls', max_depth=3, max_features=None,\n",
       "             max_leaf_nodes=None, min_impurity_decrease=0.0,\n",
       "             min_impurity_split=None, min_samples_leaf=1,\n",
       "             min_samples_split=2, min_weight_fraction_leaf=0.0,\n",
       "             n_estimators=100, presort='auto', random_state=42,\n",
       "             subsample=1.0, verbose=0, warm_start=False)"
      ]
     },
     "execution_count": 373,
     "metadata": {},
     "output_type": "execute_result"
    }
   ],
   "source": [
    "#fitting the models (unscaled data)\n",
    "model_tree.fit(x_train,y_train)\n",
    "model_linear.fit(x_train,y_train)\n",
    "model_rf.fit(x_train,y_train)\n",
    "model_gb.fit(x_train,y_train)"
   ]
  },
  {
   "cell_type": "markdown",
   "metadata": {},
   "source": [
    "### Decision Tree (on unscaled data)"
   ]
  },
  {
   "cell_type": "code",
   "execution_count": 374,
   "metadata": {},
   "outputs": [
    {
     "name": "stdout",
     "output_type": "stream",
     "text": [
      "Decision tree (default parameters)\n",
      "\n",
      "\n",
      "RMSE\n",
      "Train:  185.678\n",
      "Test:  5194.756\n",
      "\n",
      "\n",
      "Overall Accuracy\n",
      "Train:  99.902\n",
      "Test:  37.883\n"
     ]
    }
   ],
   "source": [
    "model_tree = DecisionTreeRegressor(random_state=42)\n",
    "model_tree.fit(x_train,y_train)\n",
    "\n",
    "print(\"Decision tree (default parameters)\")\n",
    "print(\"\\n\")\n",
    "print(\"RMSE\")\n",
    "tree_p_0 = model_tree.predict(x_train)\n",
    "print(\"Train: \", np.round(np.sqrt(mean_squared_error(y_train, tree_p_0)), decimals=3))\n",
    "tree_p = model_tree.predict(x_test)\n",
    "print(\"Test: \", np.round(np.sqrt(mean_squared_error(y_test, tree_p)), decimals=3))\n",
    "\n",
    "print(\"\\n\")\n",
    "print(\"Overall Accuracy\")\n",
    "print(\"Train: \", np.round(model_tree.score(x_train,y_train)*100,decimals=3))\n",
    "print(\"Test: \", np.round(model_tree.score(x_test,y_test)*100,decimals=3))"
   ]
  },
  {
   "cell_type": "code",
   "execution_count": 375,
   "metadata": {},
   "outputs": [
    {
     "name": "stdout",
     "output_type": "stream",
     "text": [
      "{'max_depth': [5, 6, 7, 8, 9, 10, 11, 12, 13, 14, 15, 16, 17, 18, 19, 20], 'min_samples_leaf': [20, 40, 60, 80, 100, 120, 140, 160, 180, 200, 220, 240, 260, 280, 300, 320, 340, 360, 380]}\n",
      "GridSearchCV(cv=None, error_score='raise',\n",
      "       estimator=DecisionTreeRegressor(criterion='mse', max_depth=None, max_features=None,\n",
      "           max_leaf_nodes=None, min_impurity_decrease=0.0,\n",
      "           min_impurity_split=None, min_samples_leaf=1,\n",
      "           min_samples_split=2, min_weight_fraction_leaf=0.0,\n",
      "           presort=False, random_state=42, splitter='best'),\n",
      "       fit_params=None, iid=True, n_jobs=1,\n",
      "       param_grid={'max_depth': [5, 6, 7, 8, 9, 10, 11, 12, 13, 14, 15, 16, 17, 18, 19, 20], 'min_samples_leaf': [20, 40, 60, 80, 100, 120, 140, 160, 180, 200, 220, 240, 260, 280, 300, 320, 340, 360, 380]},\n",
      "       pre_dispatch='2*n_jobs', refit=True, return_train_score='warn',\n",
      "       scoring=None, verbose=0)\n",
      "{'max_depth': 13, 'min_samples_leaf': 40}\n"
     ]
    }
   ],
   "source": [
    "#GridSearch\n",
    "from sklearn.model_selection import GridSearchCV\n",
    "max_depth_values = [k for k in range(5,21)]\n",
    "min_sample_values = [k for k in range(20, 400, 20)]\n",
    "parameters = {\"max_depth\":max_depth_values, \"min_samples_leaf\":min_sample_values}\n",
    "print(parameters)\n",
    "finder=GridSearchCV(model_tree,parameters) \n",
    "print(finder)\n",
    "finder.fit(x_train, y_train)\n",
    "print(finder.best_params_)"
   ]
  },
  {
   "cell_type": "code",
   "execution_count": 377,
   "metadata": {},
   "outputs": [
    {
     "name": "stdout",
     "output_type": "stream",
     "text": [
      "Decision tree ('min_samples_leaf': 40)\n",
      "\n",
      "\n",
      "RMSE\n",
      "Train:  4021.502\n",
      "Test:  4928.555\n",
      "\n",
      "\n",
      "Overall Accuracy\n",
      "Train:  53.799\n",
      "Test:  44.086\n"
     ]
    }
   ],
   "source": [
    "model_tree_20 = DecisionTreeRegressor(min_samples_leaf=20, random_state=42)\n",
    "model_tree_20.fit(x_train,y_train)\n",
    "\n",
    "\n",
    "print(\"Decision tree ('min_samples_leaf': 40)\")\n",
    "print(\"\\n\")\n",
    "print(\"RMSE\")\n",
    "tree_p_0 = model_tree_20.predict(x_train)\n",
    "print(\"Train: \", np.round(np.sqrt(mean_squared_error(y_train, tree_p_0)), decimals=3))\n",
    "tree_p = model_tree_20.predict(x_test)\n",
    "print(\"Test: \", np.round(np.sqrt(mean_squared_error(y_test, tree_p)), decimals=3))\n",
    "\n",
    "print(\"\\n\")\n",
    "print(\"Overall Accuracy\")\n",
    "print(\"Train: \", np.round(model_tree_20.score(x_train,y_train)*100,decimals=3))\n",
    "print(\"Test: \", np.round(model_tree_20.score(x_test,y_test)*100,decimals=3))"
   ]
  },
  {
   "cell_type": "code",
   "execution_count": 378,
   "metadata": {},
   "outputs": [],
   "source": [
    "#very low accuracy"
   ]
  },
  {
   "cell_type": "code",
   "execution_count": 380,
   "metadata": {},
   "outputs": [
    {
     "name": "stdout",
     "output_type": "stream",
     "text": [
      "Decision tree ('max_depth': 14)\n",
      "\n",
      "\n",
      "RMSE\n",
      "Train:  2494.056\n",
      "Test:  4649.177\n",
      "\n",
      "\n",
      "Overall Accuracy\n",
      "Train:  82.23\n",
      "Test:  50.246\n"
     ]
    }
   ],
   "source": [
    "model_tree_12 = DecisionTreeRegressor(max_depth=13, random_state=42)\n",
    "model_tree_12.fit(x_train,y_train)\n",
    "\n",
    "\n",
    "print(\"Decision tree ('max_depth': 14)\")\n",
    "print(\"\\n\")\n",
    "print(\"RMSE\")\n",
    "tree_p_0 = model_tree_12.predict(x_train)\n",
    "print(\"Train: \", np.round(np.sqrt(mean_squared_error(y_train, tree_p_0)), decimals=3))\n",
    "tree_p = model_tree_12.predict(x_test)\n",
    "print(\"Test: \", np.round(np.sqrt(mean_squared_error(y_test, tree_p)), decimals=3))\n",
    "\n",
    "print(\"\\n\")\n",
    "print(\"Overall Accuracy\")\n",
    "print(\"Train: \", np.round(model_tree_12.score(x_train,y_train)*100,decimals=3))\n",
    "print(\"Test: \", np.round(model_tree_12.score(x_test,y_test)*100,decimals=3))"
   ]
  },
  {
   "cell_type": "code",
   "execution_count": 381,
   "metadata": {},
   "outputs": [],
   "source": [
    "#overfitting"
   ]
  },
  {
   "cell_type": "code",
   "execution_count": 383,
   "metadata": {},
   "outputs": [
    {
     "name": "stdout",
     "output_type": "stream",
     "text": [
      "Decision tree ('max_depth': 12, 'min_samples_leaf': 20)\n",
      "\n",
      "\n",
      "RMSE\n",
      "Train:  4081.034\n",
      "Test:  4936.339\n",
      "\n",
      "\n",
      "Overall Accuracy\n",
      "Train:  52.421\n",
      "Test:  43.91\n"
     ]
    }
   ],
   "source": [
    "model_tree_12_20 = DecisionTreeRegressor(max_depth=13, min_samples_leaf=20, random_state=42)\n",
    "model_tree_12_20.fit(x_train,y_train)\n",
    "\n",
    "\n",
    "print(\"Decision tree ('max_depth': 12, 'min_samples_leaf': 20)\")\n",
    "print(\"\\n\")\n",
    "print(\"RMSE\")\n",
    "tree_p_0 = model_tree_12_20.predict(x_train)\n",
    "print(\"Train: \", np.round(np.sqrt(mean_squared_error(y_train, tree_p_0)), decimals=3))\n",
    "tree_p = model_tree_12_20.predict(x_test)\n",
    "print(\"Test: \", np.round(np.sqrt(mean_squared_error(y_test, tree_p)), decimals=3))\n",
    "\n",
    "print(\"\\n\")\n",
    "print(\"Overall Accuracy\")\n",
    "print(\"Train: \", np.round(model_tree_12_20.score(x_train,y_train)*100,decimals=3))\n",
    "print(\"Test: \", np.round(model_tree_12_20.score(x_test,y_test)*100,decimals=3))"
   ]
  },
  {
   "cell_type": "markdown",
   "metadata": {},
   "source": [
    "### Decision Tree (on normalized data)"
   ]
  },
  {
   "cell_type": "code",
   "execution_count": 384,
   "metadata": {},
   "outputs": [
    {
     "name": "stdout",
     "output_type": "stream",
     "text": [
      "SCALED Decision tree (default parameters)\n",
      "\n",
      "\n",
      "MSE\n",
      "Train:  0.001\n",
      "Test:  0.044\n",
      "\n",
      "\n",
      "Overall Accuracy\n",
      "Train:  99.901\n",
      "Test:  31.288\n"
     ]
    }
   ],
   "source": [
    "model_tree_s = DecisionTreeRegressor(random_state=42)\n",
    "model_tree_s.fit(X_train,Y_train)\n",
    "\n",
    "print(\"SCALED Decision tree (default parameters)\")\n",
    "print(\"\\n\")\n",
    "print(\"MSE\")\n",
    "tree_p_0_s = model_tree_s.predict(X_train)\n",
    "print(\"Train: \", np.round(np.sqrt(mean_squared_error(Y_train, tree_p_0_s)), decimals=3))\n",
    "tree_p_s = model_tree_s.predict(X_test)\n",
    "print(\"Test: \", np.round(np.sqrt(mean_squared_error(Y_test, tree_p_s)), decimals=3))\n",
    "\n",
    "print(\"\\n\")\n",
    "print(\"Overall Accuracy\")\n",
    "print(\"Train: \", np.round(model_tree_s.score(X_train,Y_train)*100,decimals=3))\n",
    "print(\"Test: \", np.round(model_tree_s.score(X_test,Y_test)*100,decimals=3))"
   ]
  },
  {
   "cell_type": "code",
   "execution_count": 385,
   "metadata": {},
   "outputs": [
    {
     "name": "stdout",
     "output_type": "stream",
     "text": [
      "{'max_depth': [5, 6, 7, 8, 9, 10, 11, 12, 13, 14, 15, 16, 17, 18, 19, 20], 'min_samples_leaf': [20, 40, 60, 80, 100, 120, 140, 160, 180, 200, 220, 240, 260, 280, 300, 320, 340, 360, 380]}\n",
      "GridSearchCV(cv=None, error_score='raise',\n",
      "       estimator=DecisionTreeRegressor(criterion='mse', max_depth=None, max_features=None,\n",
      "           max_leaf_nodes=None, min_impurity_decrease=0.0,\n",
      "           min_impurity_split=None, min_samples_leaf=1,\n",
      "           min_samples_split=2, min_weight_fraction_leaf=0.0,\n",
      "           presort=False, random_state=42, splitter='best'),\n",
      "       fit_params=None, iid=True, n_jobs=1,\n",
      "       param_grid={'max_depth': [5, 6, 7, 8, 9, 10, 11, 12, 13, 14, 15, 16, 17, 18, 19, 20], 'min_samples_leaf': [20, 40, 60, 80, 100, 120, 140, 160, 180, 200, 220, 240, 260, 280, 300, 320, 340, 360, 380]},\n",
      "       pre_dispatch='2*n_jobs', refit=True, return_train_score='warn',\n",
      "       scoring=None, verbose=0)\n",
      "{'max_depth': 13, 'min_samples_leaf': 40}\n"
     ]
    }
   ],
   "source": [
    "#GridSearch\n",
    "from sklearn.model_selection import GridSearchCV\n",
    "max_depth_values = [k for k in range(5,21)]\n",
    "min_sample_values = [k for k in range(20, 400, 20)]\n",
    "parameters = {\"max_depth\":max_depth_values, \"min_samples_leaf\":min_sample_values}\n",
    "print(parameters)\n",
    "finder=GridSearchCV(model_tree_s,parameters) \n",
    "print(finder)\n",
    "finder.fit(X_train, Y_train)\n",
    "print(finder.best_params_)"
   ]
  },
  {
   "cell_type": "code",
   "execution_count": 387,
   "metadata": {},
   "outputs": [
    {
     "name": "stdout",
     "output_type": "stream",
     "text": [
      "SCALED Decision tree ('min_samples_leaf': 20)\n",
      "\n",
      "\n",
      "RMSE\n",
      "Train:  8579.898\n",
      "Test:  0.04\n",
      "\n",
      "\n",
      "Overall Accuracy\n",
      "Train:  53.799\n",
      "Test:  44.086\n"
     ]
    }
   ],
   "source": [
    "model_tree_20_S = DecisionTreeRegressor(min_samples_leaf=20, random_state=42)\n",
    "model_tree_20_S.fit(X_train,Y_train)\n",
    "\n",
    "\n",
    "print(\"SCALED Decision tree ('min_samples_leaf': 20)\")\n",
    "print(\"\\n\")\n",
    "print(\"RMSE\")\n",
    "tree_p_0_s = model_tree_20_S.predict(X_train)\n",
    "print(\"Train: \", np.round(np.sqrt(mean_squared_error(Y_train, tree_p_0)), decimals=3))\n",
    "tree_p_s = model_tree_20_S.predict(X_test)\n",
    "print(\"Test: \", np.round(np.sqrt(mean_squared_error(Y_test, tree_p_s)), decimals=3))\n",
    "\n",
    "print(\"\\n\")\n",
    "print(\"Overall Accuracy\")\n",
    "print(\"Train: \", np.round(model_tree_20_S.score(X_train,Y_train)*100,decimals=3))\n",
    "print(\"Test: \", np.round(model_tree_20_S.score(X_test,Y_test)*100,decimals=3))"
   ]
  },
  {
   "cell_type": "code",
   "execution_count": 388,
   "metadata": {},
   "outputs": [
    {
     "name": "stdout",
     "output_type": "stream",
     "text": [
      "SCALED Decision tree ('max_depth': 14)\n",
      "\n",
      "\n",
      "RMSE\n",
      "Train:  0.02\n",
      "Test:  0.038\n",
      "\n",
      "\n",
      "Overall Accuracy\n",
      "Train:  82.23\n",
      "Test:  48.6\n"
     ]
    }
   ],
   "source": [
    "model_tree_12_S = DecisionTreeRegressor(max_depth=13, random_state=42)\n",
    "model_tree_12_S.fit(X_train,Y_train)\n",
    "\n",
    "\n",
    "print(\"SCALED Decision tree ('max_depth': 14)\")\n",
    "print(\"\\n\")\n",
    "print(\"RMSE\")\n",
    "tree_p_0_s = model_tree_12_S.predict(X_train)\n",
    "print(\"Train: \", np.round(np.sqrt(mean_squared_error(Y_train, tree_p_0_s)), decimals=3))\n",
    "tree_p_s = model_tree_12_S.predict(X_test)\n",
    "print(\"Test: \", np.round(np.sqrt(mean_squared_error(Y_test, tree_p_s)), decimals=3))\n",
    "\n",
    "print(\"\\n\")\n",
    "print(\"Overall Accuracy\")\n",
    "print(\"Train: \", np.round(model_tree_12_S.score(X_train,Y_train)*100,decimals=3))\n",
    "print(\"Test: \", np.round(model_tree_12_S.score(X_test,Y_test)*100,decimals=3))"
   ]
  },
  {
   "cell_type": "code",
   "execution_count": 390,
   "metadata": {},
   "outputs": [
    {
     "name": "stdout",
     "output_type": "stream",
     "text": [
      "SCALED Decision tree ('max_depth': 14, 'min_samples_leaf': 20)\n",
      "\n",
      "\n",
      "RMSE\n",
      "Train:  0.033\n",
      "Test:  0.04\n",
      "\n",
      "\n",
      "Overall Accuracy\n",
      "Train:  52.421\n",
      "Test:  43.91\n"
     ]
    }
   ],
   "source": [
    "model_tree_12_20_S = DecisionTreeRegressor(max_depth=13, min_samples_leaf=20, random_state=42)\n",
    "model_tree_12_20_S.fit(X_train,Y_train)\n",
    "\n",
    "\n",
    "print(\"SCALED Decision tree ('max_depth': 12, 'min_samples_leaf': 20)\")\n",
    "print(\"\\n\")\n",
    "print(\"RMSE\")\n",
    "tree_p_0_s = model_tree_12_20_S.predict(X_train)\n",
    "print(\"Train: \", np.round(np.sqrt(mean_squared_error(Y_train, tree_p_0_s)), decimals=3))\n",
    "tree_p_s = model_tree_12_20_S.predict(X_test)\n",
    "print(\"Test: \", np.round(np.sqrt(mean_squared_error(Y_test, tree_p_s)), decimals=3))\n",
    "\n",
    "print(\"\\n\")\n",
    "print(\"Overall Accuracy\")\n",
    "print(\"Train: \", np.round(model_tree_12_20_S.score(X_train,Y_train)*100,decimals=3))\n",
    "print(\"Test: \", np.round(model_tree_12_20_S.score(X_test,Y_test)*100,decimals=3))"
   ]
  },
  {
   "cell_type": "code",
   "execution_count": null,
   "metadata": {},
   "outputs": [],
   "source": []
  },
  {
   "cell_type": "code",
   "execution_count": null,
   "metadata": {},
   "outputs": [],
   "source": []
  },
  {
   "cell_type": "code",
   "execution_count": null,
   "metadata": {},
   "outputs": [],
   "source": []
  },
  {
   "cell_type": "code",
   "execution_count": null,
   "metadata": {},
   "outputs": [],
   "source": []
  },
  {
   "cell_type": "markdown",
   "metadata": {},
   "source": [
    "The best model among decision trees turned out to be SCALED Decision tree ('max_depth': 12, 'min_samples_leaf': 20). It has no overfitting, the MSE is very low. However, the overall accuracy of the model is quite low."
   ]
  },
  {
   "cell_type": "markdown",
   "metadata": {},
   "source": [
    "## Linear Regression (on unscaled data)"
   ]
  },
  {
   "cell_type": "code",
   "execution_count": 391,
   "metadata": {},
   "outputs": [
    {
     "name": "stdout",
     "output_type": "stream",
     "text": [
      "Linear Regression\n",
      "\n",
      "\n",
      "RMSE\n",
      "Train:  4113.109\n",
      "Test:  4994.679\n",
      "\n",
      "\n",
      "Overall Accuracy\n",
      "Train:  51.67\n",
      "Test:  42.576\n"
     ]
    }
   ],
   "source": [
    "model_linear = LinearRegression()\n",
    "model_linear.fit(x_train,y_train)\n",
    "\n",
    "print(\"Linear Regression\")\n",
    "print(\"\\n\")\n",
    "print(\"RMSE\")\n",
    "line_p_0 = model_linear.predict(x_train)\n",
    "print(\"Train: \", np.round(np.sqrt(mean_squared_error(y_train,line_p_0)), decimals=3))\n",
    "line_p = model_linear.predict(x_test)\n",
    "print(\"Test: \", np.round(np.sqrt(mean_squared_error(y_test,line_p)), decimals=3))\n",
    "\n",
    "print(\"\\n\")\n",
    "print(\"Overall Accuracy\")\n",
    "print(\"Train: \", np.round(model_linear.score(x_train,y_train)*100,decimals=3))\n",
    "print(\"Test: \", np.round(model_linear.score(x_test,y_test)*100,decimals=3))"
   ]
  },
  {
   "cell_type": "markdown",
   "metadata": {},
   "source": [
    "## Linear Regression (on scaled data)"
   ]
  },
  {
   "cell_type": "code",
   "execution_count": 212,
   "metadata": {},
   "outputs": [],
   "source": [
    "from sklearn.preprocessing import StandardScaler"
   ]
  },
  {
   "cell_type": "code",
   "execution_count": 394,
   "metadata": {},
   "outputs": [],
   "source": [
    "y = new[\"Price\"]\n",
    "x = new.drop(\"Price\",axis=1)"
   ]
  },
  {
   "cell_type": "code",
   "execution_count": 395,
   "metadata": {},
   "outputs": [],
   "source": [
    "x_train, x_test, y_train, y_test = train_test_split(x,y,test_size=0.25,random_state=42)"
   ]
  },
  {
   "cell_type": "code",
   "execution_count": 396,
   "metadata": {},
   "outputs": [
    {
     "data": {
      "text/plain": [
       "StandardScaler(copy=True, with_mean=True, with_std=True)"
      ]
     },
     "execution_count": 396,
     "metadata": {},
     "output_type": "execute_result"
    }
   ],
   "source": [
    "scaler=StandardScaler()\n",
    "\n",
    "scaler.fit(x_train)"
   ]
  },
  {
   "cell_type": "code",
   "execution_count": 397,
   "metadata": {},
   "outputs": [],
   "source": [
    "x_train = scaler.transform(x_train)"
   ]
  },
  {
   "cell_type": "code",
   "execution_count": 398,
   "metadata": {},
   "outputs": [
    {
     "data": {
      "text/plain": [
       "StandardScaler(copy=True, with_mean=True, with_std=True)"
      ]
     },
     "execution_count": 398,
     "metadata": {},
     "output_type": "execute_result"
    }
   ],
   "source": [
    "scaler.fit(x_test)"
   ]
  },
  {
   "cell_type": "code",
   "execution_count": 399,
   "metadata": {},
   "outputs": [],
   "source": [
    "x_test = scaler.transform(x_test)"
   ]
  },
  {
   "cell_type": "code",
   "execution_count": 400,
   "metadata": {},
   "outputs": [
    {
     "name": "stdout",
     "output_type": "stream",
     "text": [
      "Linear Regression\n",
      "\n",
      "\n",
      "RMSE\n",
      "Train:  4113.109\n",
      "Test:  5001.153\n",
      "\n",
      "\n",
      "Overall Accuracy\n",
      "Train:  51.67\n",
      "Test:  42.427\n"
     ]
    }
   ],
   "source": [
    "model_linear_s = LinearRegression()\n",
    "model_linear_s.fit(x_train,y_train)\n",
    "\n",
    "print(\"Linear Regression\")\n",
    "print(\"\\n\")\n",
    "print(\"RMSE\")\n",
    "line_p_0_s = model_linear_s.predict(x_train)\n",
    "print(\"Train: \", np.round(np.sqrt(mean_squared_error(y_train,line_p_0_s)), decimals=3))\n",
    "line_p_s = model_linear_s.predict(x_test)\n",
    "print(\"Test: \", np.round(np.sqrt(mean_squared_error(y_test,line_p_s)), decimals=3))\n",
    "\n",
    "\n",
    "print(\"\\n\")\n",
    "print(\"Overall Accuracy\")\n",
    "print(\"Train: \", np.round(model_linear_s.score(x_train,y_train)*100,decimals=3))\n",
    "print(\"Test: \", np.round(model_linear_s.score(x_test,y_test)*100,decimals=3))  #????? why minus?"
   ]
  },
  {
   "cell_type": "markdown",
   "metadata": {},
   "source": [
    "## Random Forest (on unscaled data)"
   ]
  },
  {
   "cell_type": "code",
   "execution_count": 401,
   "metadata": {},
   "outputs": [],
   "source": [
    "y = new[\"Price\"]\n",
    "x = new.drop(\"Price\",axis=1)"
   ]
  },
  {
   "cell_type": "code",
   "execution_count": 402,
   "metadata": {},
   "outputs": [],
   "source": [
    "x_train, x_test, y_train, y_test = train_test_split(x,y,test_size=0.25,random_state=42)"
   ]
  },
  {
   "cell_type": "code",
   "execution_count": 403,
   "metadata": {},
   "outputs": [
    {
     "name": "stdout",
     "output_type": "stream",
     "text": [
      "Random Forest\n",
      "RMSE\n",
      "Train:  1714.784\n",
      "Test:  4624.76\n",
      "\n",
      "\n",
      "Overall Accuracy\n",
      "Train:  91.6\n",
      "Test:  50.767\n"
     ]
    }
   ],
   "source": [
    "model_rf = RandomForestRegressor(random_state=42)\n",
    "model_rf.fit(x_train,y_train)\n",
    "\n",
    "print(\"Random Forest\")\n",
    "print(\"RMSE\")\n",
    "rf_p_0 = model_rf.predict(x_train)\n",
    "print(\"Train: \", np.round(np.sqrt(mean_squared_error(y_train,rf_p_0)), decimals=3))\n",
    "rf_p = model_rf.predict(x_test)\n",
    "print(\"Test: \", np.round(np.sqrt(mean_squared_error(y_test,rf_p)), decimals=3))\n",
    "\n",
    "print(\"\\n\")\n",
    "print(\"Overall Accuracy\")\n",
    "print(\"Train: \", np.round(model_rf.score(x_train,y_train)*100,decimals=3))\n",
    "print(\"Test: \", np.round(model_rf.score(x_test,y_test)*100,decimals=3))"
   ]
  },
  {
   "cell_type": "code",
   "execution_count": 404,
   "metadata": {},
   "outputs": [
    {
     "name": "stdout",
     "output_type": "stream",
     "text": [
      "{'max_depth': [5, 6, 7, 8, 9, 10, 11, 12, 13, 14, 15, 16, 17, 18, 19, 20], 'min_samples_leaf': [20, 40, 60, 80, 100, 120, 140, 160, 180, 200, 220, 240, 260, 280, 300, 320, 340, 360, 380]}\n",
      "GridSearchCV(cv=None, error_score='raise',\n",
      "       estimator=RandomForestRegressor(bootstrap=True, criterion='mse', max_depth=None,\n",
      "           max_features='auto', max_leaf_nodes=None,\n",
      "           min_impurity_decrease=0.0, min_impurity_split=None,\n",
      "           min_samples_leaf=1, min_samples_split=2,\n",
      "           min_weight_fraction_leaf=0.0, n_estimators=10, n_jobs=1,\n",
      "           oob_score=False, random_state=42, verbose=0, warm_start=False),\n",
      "       fit_params=None, iid=True, n_jobs=1,\n",
      "       param_grid={'max_depth': [5, 6, 7, 8, 9, 10, 11, 12, 13, 14, 15, 16, 17, 18, 19, 20], 'min_samples_leaf': [20, 40, 60, 80, 100, 120, 140, 160, 180, 200, 220, 240, 260, 280, 300, 320, 340, 360, 380]},\n",
      "       pre_dispatch='2*n_jobs', refit=True, return_train_score='warn',\n",
      "       scoring=None, verbose=0)\n"
     ]
    },
    {
     "data": {
      "text/plain": [
       "GridSearchCV(cv=None, error_score='raise',\n",
       "       estimator=RandomForestRegressor(bootstrap=True, criterion='mse', max_depth=None,\n",
       "           max_features='auto', max_leaf_nodes=None,\n",
       "           min_impurity_decrease=0.0, min_impurity_split=None,\n",
       "           min_samples_leaf=1, min_samples_split=2,\n",
       "           min_weight_fraction_leaf=0.0, n_estimators=10, n_jobs=1,\n",
       "           oob_score=False, random_state=42, verbose=0, warm_start=False),\n",
       "       fit_params=None, iid=True, n_jobs=1,\n",
       "       param_grid={'max_depth': [5, 6, 7, 8, 9, 10, 11, 12, 13, 14, 15, 16, 17, 18, 19, 20], 'min_samples_leaf': [20, 40, 60, 80, 100, 120, 140, 160, 180, 200, 220, 240, 260, 280, 300, 320, 340, 360, 380]},\n",
       "       pre_dispatch='2*n_jobs', refit=True, return_train_score='warn',\n",
       "       scoring=None, verbose=0)"
      ]
     },
     "execution_count": 404,
     "metadata": {},
     "output_type": "execute_result"
    }
   ],
   "source": [
    "# Grid Search\n",
    "from sklearn.model_selection import GridSearchCV\n",
    "max_depth_values = [k for k in range(5,21)]\n",
    "min_sample_values = [k for k in range(20, 400, 20)]\n",
    "parameters = {\"max_depth\":max_depth_values, \"min_samples_leaf\":min_sample_values}\n",
    "print(parameters)\n",
    "finder=GridSearchCV(model_rf,parameters) \n",
    "print(finder)\n",
    "finder.fit(x_train, y_train)"
   ]
  },
  {
   "cell_type": "code",
   "execution_count": 405,
   "metadata": {},
   "outputs": [
    {
     "name": "stdout",
     "output_type": "stream",
     "text": [
      "{'max_depth': 16, 'min_samples_leaf': 20}\n"
     ]
    }
   ],
   "source": [
    "print(finder.best_params_)"
   ]
  },
  {
   "cell_type": "code",
   "execution_count": 428,
   "metadata": {},
   "outputs": [
    {
     "name": "stdout",
     "output_type": "stream",
     "text": [
      "Random Forest (max_depth=17)\n",
      "\n",
      "\n",
      "RMSE\n",
      "Train:  2113.071\n",
      "Test:  4465.419\n",
      "\n",
      "\n",
      "Overall Accuracy\n",
      "Train:  87.244\n",
      "Test:  54.101\n"
     ]
    }
   ],
   "source": [
    "model_rf_19 = RandomForestRegressor(max_depth=17, random_state=42)\n",
    "model_rf_19.fit(x_train,y_train)\n",
    "\n",
    "print(\"Random Forest (max_depth=17)\")\n",
    "print(\"\\n\")\n",
    "print(\"RMSE\")\n",
    "rf_p_0 = model_rf_19.predict(x_train)\n",
    "print(\"Train: \", np.round(np.sqrt(mean_squared_error(y_train,rf_p_0)), decimals=3))\n",
    "rf_p = model_rf_19.predict(x_test)\n",
    "print(\"Test: \", np.round(np.sqrt(mean_squared_error(y_test,rf_p)), decimals=3))\n",
    "\n",
    "print(\"\\n\")\n",
    "print(\"Overall Accuracy\")\n",
    "print(\"Train: \", np.round(model_rf_19.score(x_train,y_train)*100,decimals=3))\n",
    "print(\"Test: \", np.round(model_rf_19.score(x_test,y_test)*100,decimals=3))"
   ]
  },
  {
   "cell_type": "code",
   "execution_count": 407,
   "metadata": {
    "scrolled": true
   },
   "outputs": [
    {
     "name": "stdout",
     "output_type": "stream",
     "text": [
      "Random Forest (min_samples_leaf=20)\n",
      "\n",
      "\n",
      "RMSE\n",
      "Train:  4112.565\n",
      "Test:  4922.636\n",
      "\n",
      "\n",
      "Overall Accuracy\n",
      "Train:  51.683\n",
      "Test:  44.221\n"
     ]
    }
   ],
   "source": [
    "model_rf_20 = RandomForestRegressor(min_samples_leaf=20, random_state=42)\n",
    "model_rf_20.fit(x_train,y_train)\n",
    "\n",
    "print(\"Random Forest (min_samples_leaf=20)\")\n",
    "print(\"\\n\")\n",
    "print(\"RMSE\")\n",
    "rf_p_0 = model_rf_20.predict(x_train)\n",
    "print(\"Train: \", np.round(np.sqrt(mean_squared_error(y_train,rf_p_0)), decimals=3))\n",
    "rf_p = model_rf_20.predict(x_test)\n",
    "print(\"Test: \", np.round(np.sqrt(mean_squared_error(y_test,rf_p)), decimals=3))\n",
    "\n",
    "print(\"\\n\")\n",
    "print(\"Overall Accuracy\")\n",
    "print(\"Train: \", np.round(model_rf_20.score(x_train,y_train)*100,decimals=3))\n",
    "print(\"Test: \", np.round(model_rf_20.score(x_test,y_test)*100,decimals=3))"
   ]
  },
  {
   "cell_type": "code",
   "execution_count": 408,
   "metadata": {},
   "outputs": [
    {
     "name": "stdout",
     "output_type": "stream",
     "text": [
      "Random Forest (min_samples_leaf=20)\n",
      "\n",
      "\n",
      "RMSE\n",
      "Train:  4112.593\n",
      "Test:  4922.599\n",
      "\n",
      "\n",
      "Overall Accuracy\n",
      "Train:  51.682\n",
      "Test:  44.221\n"
     ]
    }
   ],
   "source": [
    "model_rf_20_19 = RandomForestRegressor(min_samples_leaf=20, max_depth=19, random_state=42)\n",
    "model_rf_20_19.fit(x_train,y_train)\n",
    "\n",
    "print(\"Random Forest (min_samples_leaf=20)\")\n",
    "print(\"\\n\")\n",
    "print(\"RMSE\")\n",
    "rf_p_0 = model_rf_20_19.predict(x_train)\n",
    "print(\"Train: \", np.round(np.sqrt(mean_squared_error(y_train,rf_p_0)), decimals=3))\n",
    "rf_p = model_rf_20_19.predict(x_test)\n",
    "print(\"Test: \", np.round(np.sqrt(mean_squared_error(y_test,rf_p)), decimals=3))\n",
    "\n",
    "print(\"\\n\")\n",
    "print(\"Overall Accuracy\")\n",
    "print(\"Train: \", np.round(model_rf_20_19.score(x_train,y_train)*100,decimals=3))\n",
    "print(\"Test: \", np.round(model_rf_20_19.score(x_test,y_test)*100,decimals=3))"
   ]
  },
  {
   "cell_type": "markdown",
   "metadata": {},
   "source": [
    "## Random Forest (on normalized data)"
   ]
  },
  {
   "cell_type": "code",
   "execution_count": 429,
   "metadata": {},
   "outputs": [
    {
     "name": "stdout",
     "output_type": "stream",
     "text": [
      "Random Forest (scaled)\n",
      "\n",
      "\n",
      "RMSE\n",
      "Train:  0.014\n",
      "Test:  0.037\n",
      "\n",
      "\n",
      "Overall Accuracy\n",
      "Train:  91.85\n",
      "Test:  50.594\n"
     ]
    }
   ],
   "source": [
    "model_rf_s = RandomForestRegressor(random_state=42)\n",
    "model_rf_s.fit(X_train,Y_train)\n",
    "\n",
    "print(\"Random Forest (scaled)\")\n",
    "print(\"\\n\")\n",
    "print(\"RMSE\")\n",
    "rf_p_0_s = model_rf_s.predict(X_train)\n",
    "print(\"Train: \", np.round(np.sqrt(mean_squared_error(Y_train,rf_p_0_s)), decimals=3))\n",
    "rf_p_s = model_rf_s.predict(X_test)\n",
    "print(\"Test: \", np.round(np.sqrt(mean_squared_error(Y_test,rf_p_s)), decimals=3))\n",
    "\n",
    "print(\"\\n\")\n",
    "print(\"Overall Accuracy\")\n",
    "print(\"Train: \", np.round(model_rf_s.score(X_train,Y_train)*100,decimals=3))\n",
    "print(\"Test: \", np.round(model_rf_s.score(X_test,Y_test)*100,decimals=3))  "
   ]
  },
  {
   "cell_type": "code",
   "execution_count": 410,
   "metadata": {},
   "outputs": [
    {
     "name": "stdout",
     "output_type": "stream",
     "text": [
      "{'max_depth': [5, 6, 7, 8, 9, 10, 11, 12, 13, 14, 15, 16, 17, 18, 19, 20], 'min_samples_leaf': [20, 40, 60, 80, 100, 120, 140, 160, 180, 200, 220, 240, 260, 280, 300, 320, 340, 360, 380]}\n",
      "GridSearchCV(cv=None, error_score='raise',\n",
      "       estimator=RandomForestRegressor(bootstrap=True, criterion='mse', max_depth=None,\n",
      "           max_features='auto', max_leaf_nodes=None,\n",
      "           min_impurity_decrease=0.0, min_impurity_split=None,\n",
      "           min_samples_leaf=1, min_samples_split=2,\n",
      "           min_weight_fraction_leaf=0.0, n_estimators=10, n_jobs=1,\n",
      "           oob_score=False, random_state=42, verbose=0, warm_start=False),\n",
      "       fit_params=None, iid=True, n_jobs=1,\n",
      "       param_grid={'max_depth': [5, 6, 7, 8, 9, 10, 11, 12, 13, 14, 15, 16, 17, 18, 19, 20], 'min_samples_leaf': [20, 40, 60, 80, 100, 120, 140, 160, 180, 200, 220, 240, 260, 280, 300, 320, 340, 360, 380]},\n",
      "       pre_dispatch='2*n_jobs', refit=True, return_train_score='warn',\n",
      "       scoring=None, verbose=0)\n",
      "{'max_depth': 16, 'min_samples_leaf': 20}\n"
     ]
    }
   ],
   "source": [
    "# Grid Search\n",
    "max_depth_values = [k for k in range(5,21)]\n",
    "min_sample_values = [k for k in range(20, 400, 20)]\n",
    "parameters = {\"max_depth\":max_depth_values, \"min_samples_leaf\":min_sample_values}\n",
    "print(parameters)\n",
    "finder=GridSearchCV(model_rf_s,parameters) \n",
    "print(finder)\n",
    "finder.fit(X_train, Y_train)\n",
    "print(finder.best_params_)"
   ]
  },
  {
   "cell_type": "code",
   "execution_count": 411,
   "metadata": {
    "scrolled": true
   },
   "outputs": [
    {
     "name": "stdout",
     "output_type": "stream",
     "text": [
      "Random Forest\n",
      "\n",
      "\n",
      "RMSE\n",
      "Train:  0.017\n",
      "Test:  0.037\n",
      "\n",
      "\n",
      "Overall Accuracy\n",
      "Train:  87.184\n",
      "Test:  52.045\n"
     ]
    }
   ],
   "source": [
    "model_rf_19_S = RandomForestRegressor(max_depth=17,random_state=42)\n",
    "model_rf_19_S.fit(X_train,Y_train)\n",
    "\n",
    "print(\"Random Forest\")\n",
    "print(\"\\n\")\n",
    "print(\"RMSE\")\n",
    "rf_p_0_s = model_rf_19_S.predict(X_train)\n",
    "print(\"Train: \", np.round(np.sqrt(mean_squared_error(Y_train,rf_p_0_s)), decimals=3))\n",
    "rf_p_s = model_rf_19_S.predict(X_test)\n",
    "print(\"Test: \", np.round(np.sqrt(mean_squared_error(Y_test,rf_p_s)), decimals=3))\n",
    "\n",
    "print(\"\\n\")\n",
    "print(\"Overall Accuracy\")\n",
    "print(\"Train: \", np.round(model_rf_19_S.score(X_train,Y_train)*100,decimals=3))\n",
    "print(\"Test: \", np.round(model_rf_19_S.score(X_test,Y_test)*100,decimals=3))  #overfitting"
   ]
  },
  {
   "cell_type": "code",
   "execution_count": 412,
   "metadata": {},
   "outputs": [
    {
     "name": "stdout",
     "output_type": "stream",
     "text": [
      "Random Forest\n",
      "\n",
      "\n",
      "RMSE\n",
      "Train:  0.033\n",
      "Test:  0.04\n",
      "\n",
      "\n",
      "Overall Accuracy\n",
      "Train:  51.683\n",
      "Test:  44.221\n"
     ]
    }
   ],
   "source": [
    "model_rf_20_S = RandomForestRegressor(min_samples_leaf=20,random_state=42)\n",
    "model_rf_20_S.fit(X_train,Y_train)\n",
    "\n",
    "print(\"Random Forest\")\n",
    "print(\"\\n\")\n",
    "print(\"RMSE\")\n",
    "rf_p_0_s = model_rf_20_S.predict(X_train)\n",
    "print(\"Train: \", np.round(np.sqrt(mean_squared_error(Y_train,rf_p_0_s)), decimals=3))\n",
    "rf_p_s = model_rf_20_S.predict(X_test)\n",
    "print(\"Test: \", np.round(np.sqrt(mean_squared_error(Y_test,rf_p_s)), decimals=3))\n",
    "\n",
    "print(\"\\n\")\n",
    "print(\"Overall Accuracy\")\n",
    "print(\"Train: \", np.round(model_rf_20_S.score(X_train,Y_train)*100,decimals=3))\n",
    "print(\"Test: \", np.round(model_rf_20_S.score(X_test,Y_test)*100,decimals=3)) "
   ]
  },
  {
   "cell_type": "code",
   "execution_count": 413,
   "metadata": {},
   "outputs": [
    {
     "name": "stdout",
     "output_type": "stream",
     "text": [
      "Random Forest\n",
      "\n",
      "\n",
      "RMSE\n",
      "Train:  0.034\n",
      "Test:  0.04\n",
      "\n",
      "\n",
      "Overall Accuracy\n",
      "Train:  50.608\n",
      "Test:  43.27\n"
     ]
    }
   ],
   "source": [
    "model_rf_20_14_S = RandomForestRegressor(min_samples_leaf=20, max_depth=14, random_state=42)\n",
    "model_rf_20_14_S.fit(X_train,Y_train)\n",
    "\n",
    "print(\"Random Forest\")\n",
    "print(\"\\n\")\n",
    "print(\"RMSE\")\n",
    "rf_p_0_s = model_rf_20_14_S.predict(X_train)\n",
    "print(\"Train: \", np.round(np.sqrt(mean_squared_error(Y_train,rf_p_0_s)), decimals=3))\n",
    "rf_p_s = model_rf_20_14_S.predict(X_test)\n",
    "print(\"Test: \", np.round(np.sqrt(mean_squared_error(Y_test,rf_p_s)), decimals=3))\n",
    "\n",
    "print(\"\\n\")\n",
    "print(\"Overall Accuracy\")\n",
    "print(\"Train: \", np.round(model_rf_20_14_S.score(X_train,Y_train)*100,decimals=3))\n",
    "print(\"Test: \", np.round(model_rf_20_14_S.score(X_test,Y_test)*100,decimals=3)) "
   ]
  },
  {
   "cell_type": "code",
   "execution_count": 414,
   "metadata": {},
   "outputs": [
    {
     "name": "stdout",
     "output_type": "stream",
     "text": [
      "Random Forest\n",
      "\n",
      "\n",
      "RMSE\n",
      "Train:  0.014\n",
      "Test:  0.036\n",
      "\n",
      "\n",
      "Overall Accuracy\n",
      "Train:  90.784\n",
      "Test:  54.775\n"
     ]
    }
   ],
   "source": [
    "model_rf_19_S = RandomForestRegressor(max_depth=19, n_estimators=100, random_state=42)\n",
    "model_rf_19_S.fit(X_train,Y_train)\n",
    "\n",
    "print(\"Random Forest\")\n",
    "print(\"\\n\")\n",
    "print(\"RMSE\")\n",
    "rf_p_0_s = model_rf_19_S.predict(X_train)\n",
    "print(\"Train: \", np.round(np.sqrt(mean_squared_error(Y_train,rf_p_0_s)), decimals=3))\n",
    "rf_p_s = model_rf_19_S.predict(X_test)\n",
    "print(\"Test: \", np.round(np.sqrt(mean_squared_error(Y_test,rf_p_s)), decimals=3))\n",
    "\n",
    "print(\"\\n\")\n",
    "print(\"Overall Accuracy\")\n",
    "print(\"Train: \", np.round(model_rf_19_S.score(X_train,Y_train)*100,decimals=3))\n",
    "print(\"Test: \", np.round(model_rf_19_S.score(X_test,Y_test)*100,decimals=3))  #overfitting"
   ]
  },
  {
   "cell_type": "code",
   "execution_count": 415,
   "metadata": {},
   "outputs": [
    {
     "data": {
      "text/html": [
       "<div>\n",
       "<style scoped>\n",
       "    .dataframe tbody tr th:only-of-type {\n",
       "        vertical-align: middle;\n",
       "    }\n",
       "\n",
       "    .dataframe tbody tr th {\n",
       "        vertical-align: top;\n",
       "    }\n",
       "\n",
       "    .dataframe thead th {\n",
       "        text-align: right;\n",
       "    }\n",
       "</style>\n",
       "<table border=\"1\" class=\"dataframe\">\n",
       "  <thead>\n",
       "    <tr style=\"text-align: right;\">\n",
       "      <th></th>\n",
       "      <th>importance</th>\n",
       "    </tr>\n",
       "  </thead>\n",
       "  <tbody>\n",
       "    <tr>\n",
       "      <th>Mileage</th>\n",
       "      <td>0.169059</td>\n",
       "    </tr>\n",
       "    <tr>\n",
       "      <th>ToyotaCamry</th>\n",
       "      <td>0.059695</td>\n",
       "    </tr>\n",
       "    <tr>\n",
       "      <th>ToyotaCorolla</th>\n",
       "      <td>0.030739</td>\n",
       "    </tr>\n",
       "    <tr>\n",
       "      <th>ToyotaRav4</th>\n",
       "      <td>0.017440</td>\n",
       "    </tr>\n",
       "    <tr>\n",
       "      <th>ToyotaLandCruiserPrado</th>\n",
       "      <td>0.050274</td>\n",
       "    </tr>\n",
       "    <tr>\n",
       "      <th>ToyotaIpsum</th>\n",
       "      <td>0.000366</td>\n",
       "    </tr>\n",
       "    <tr>\n",
       "      <th>ToyotaSienna</th>\n",
       "      <td>0.003757</td>\n",
       "    </tr>\n",
       "    <tr>\n",
       "      <th>Toyota4-Runner</th>\n",
       "      <td>0.017057</td>\n",
       "    </tr>\n",
       "    <tr>\n",
       "      <th>2014</th>\n",
       "      <td>0.036455</td>\n",
       "    </tr>\n",
       "    <tr>\n",
       "      <th>2011</th>\n",
       "      <td>0.011493</td>\n",
       "    </tr>\n",
       "    <tr>\n",
       "      <th>2010</th>\n",
       "      <td>0.014122</td>\n",
       "    </tr>\n",
       "    <tr>\n",
       "      <th>2012</th>\n",
       "      <td>0.013937</td>\n",
       "    </tr>\n",
       "    <tr>\n",
       "      <th>2013</th>\n",
       "      <td>0.013461</td>\n",
       "    </tr>\n",
       "    <tr>\n",
       "      <th>2015</th>\n",
       "      <td>0.037942</td>\n",
       "    </tr>\n",
       "    <tr>\n",
       "      <th>2016</th>\n",
       "      <td>0.038067</td>\n",
       "    </tr>\n",
       "    <tr>\n",
       "      <th>2008</th>\n",
       "      <td>0.006425</td>\n",
       "    </tr>\n",
       "    <tr>\n",
       "      <th>2009</th>\n",
       "      <td>0.006646</td>\n",
       "    </tr>\n",
       "    <tr>\n",
       "      <th>2007</th>\n",
       "      <td>0.006065</td>\n",
       "    </tr>\n",
       "    <tr>\n",
       "      <th>2017</th>\n",
       "      <td>0.060521</td>\n",
       "    </tr>\n",
       "    <tr>\n",
       "      <th>USA_Location</th>\n",
       "      <td>0.027890</td>\n",
       "    </tr>\n",
       "    <tr>\n",
       "      <th>Armenia_Location</th>\n",
       "      <td>0.049171</td>\n",
       "    </tr>\n",
       "    <tr>\n",
       "      <th>Japan_Location</th>\n",
       "      <td>0.001233</td>\n",
       "    </tr>\n",
       "    <tr>\n",
       "      <th>Custom</th>\n",
       "      <td>0.161970</td>\n",
       "    </tr>\n",
       "    <tr>\n",
       "      <th>Full_Payment</th>\n",
       "      <td>0.015732</td>\n",
       "    </tr>\n",
       "    <tr>\n",
       "      <th>Hand_Drive</th>\n",
       "      <td>0.085432</td>\n",
       "    </tr>\n",
       "    <tr>\n",
       "      <th>SUV/Truck</th>\n",
       "      <td>0.016153</td>\n",
       "    </tr>\n",
       "    <tr>\n",
       "      <th>Sedan</th>\n",
       "      <td>0.011965</td>\n",
       "    </tr>\n",
       "    <tr>\n",
       "      <th>Purchased</th>\n",
       "      <td>0.036933</td>\n",
       "    </tr>\n",
       "  </tbody>\n",
       "</table>\n",
       "</div>"
      ],
      "text/plain": [
       "                        importance\n",
       "Mileage                   0.169059\n",
       "ToyotaCamry               0.059695\n",
       "ToyotaCorolla             0.030739\n",
       "ToyotaRav4                0.017440\n",
       "ToyotaLandCruiserPrado    0.050274\n",
       "ToyotaIpsum               0.000366\n",
       "ToyotaSienna              0.003757\n",
       "Toyota4-Runner            0.017057\n",
       "2014                      0.036455\n",
       "2011                      0.011493\n",
       "2010                      0.014122\n",
       "2012                      0.013937\n",
       "2013                      0.013461\n",
       "2015                      0.037942\n",
       "2016                      0.038067\n",
       "2008                      0.006425\n",
       "2009                      0.006646\n",
       "2007                      0.006065\n",
       "2017                      0.060521\n",
       "USA_Location              0.027890\n",
       "Armenia_Location          0.049171\n",
       "Japan_Location            0.001233\n",
       "Custom                    0.161970\n",
       "Full_Payment              0.015732\n",
       "Hand_Drive                0.085432\n",
       "SUV/Truck                 0.016153\n",
       "Sedan                     0.011965\n",
       "Purchased                 0.036933"
      ]
     },
     "execution_count": 415,
     "metadata": {},
     "output_type": "execute_result"
    }
   ],
   "source": [
    "#finding the important features\n",
    "importances=model_rf_19_S.feature_importances_\n",
    "features=pd.DataFrame(data=importances, columns=[\"importance\"], index=x.columns)\n",
    "features"
   ]
  },
  {
   "cell_type": "code",
   "execution_count": 416,
   "metadata": {},
   "outputs": [
    {
     "data": {
      "text/html": [
       "<div>\n",
       "<style scoped>\n",
       "    .dataframe tbody tr th:only-of-type {\n",
       "        vertical-align: middle;\n",
       "    }\n",
       "\n",
       "    .dataframe tbody tr th {\n",
       "        vertical-align: top;\n",
       "    }\n",
       "\n",
       "    .dataframe thead th {\n",
       "        text-align: right;\n",
       "    }\n",
       "</style>\n",
       "<table border=\"1\" class=\"dataframe\">\n",
       "  <thead>\n",
       "    <tr style=\"text-align: right;\">\n",
       "      <th></th>\n",
       "      <th>importance</th>\n",
       "    </tr>\n",
       "  </thead>\n",
       "  <tbody>\n",
       "    <tr>\n",
       "      <th>Mileage</th>\n",
       "      <td>0.169059</td>\n",
       "    </tr>\n",
       "    <tr>\n",
       "      <th>Custom</th>\n",
       "      <td>0.161970</td>\n",
       "    </tr>\n",
       "    <tr>\n",
       "      <th>Hand_Drive</th>\n",
       "      <td>0.085432</td>\n",
       "    </tr>\n",
       "    <tr>\n",
       "      <th>2017</th>\n",
       "      <td>0.060521</td>\n",
       "    </tr>\n",
       "    <tr>\n",
       "      <th>ToyotaCamry</th>\n",
       "      <td>0.059695</td>\n",
       "    </tr>\n",
       "    <tr>\n",
       "      <th>ToyotaLandCruiserPrado</th>\n",
       "      <td>0.050274</td>\n",
       "    </tr>\n",
       "    <tr>\n",
       "      <th>Armenia_Location</th>\n",
       "      <td>0.049171</td>\n",
       "    </tr>\n",
       "    <tr>\n",
       "      <th>2016</th>\n",
       "      <td>0.038067</td>\n",
       "    </tr>\n",
       "    <tr>\n",
       "      <th>2015</th>\n",
       "      <td>0.037942</td>\n",
       "    </tr>\n",
       "    <tr>\n",
       "      <th>Purchased</th>\n",
       "      <td>0.036933</td>\n",
       "    </tr>\n",
       "    <tr>\n",
       "      <th>2014</th>\n",
       "      <td>0.036455</td>\n",
       "    </tr>\n",
       "    <tr>\n",
       "      <th>ToyotaCorolla</th>\n",
       "      <td>0.030739</td>\n",
       "    </tr>\n",
       "  </tbody>\n",
       "</table>\n",
       "</div>"
      ],
      "text/plain": [
       "                        importance\n",
       "Mileage                   0.169059\n",
       "Custom                    0.161970\n",
       "Hand_Drive                0.085432\n",
       "2017                      0.060521\n",
       "ToyotaCamry               0.059695\n",
       "ToyotaLandCruiserPrado    0.050274\n",
       "Armenia_Location          0.049171\n",
       "2016                      0.038067\n",
       "2015                      0.037942\n",
       "Purchased                 0.036933\n",
       "2014                      0.036455\n",
       "ToyotaCorolla             0.030739"
      ]
     },
     "execution_count": 416,
     "metadata": {},
     "output_type": "execute_result"
    }
   ],
   "source": [
    "selected=features[features.importance>0.03] \n",
    "selected.sort_values(by=\"importance\", ascending=False)"
   ]
  },
  {
   "cell_type": "code",
   "execution_count": 417,
   "metadata": {},
   "outputs": [],
   "source": [
    "selected_features=selected.index\n",
    "X_train_new=X_train[selected_features]\n",
    "X_test_new=X_test[selected_features]"
   ]
  },
  {
   "cell_type": "code",
   "execution_count": 418,
   "metadata": {},
   "outputs": [
    {
     "name": "stdout",
     "output_type": "stream",
     "text": [
      "Random Forest (max_depth=19, n_est=100, importances)\n",
      "Train:  88.04468461253985\n",
      "Test:  48.98150304176788\n"
     ]
    }
   ],
   "source": [
    "model_rf_imp=RandomForestRegressor(max_depth=19, n_estimators=100, random_state=42) \n",
    "model_rf_imp.fit(X_train_new,Y_train)\n",
    "\n",
    "print(\"Random Forest (max_depth=19, n_est=100, importances)\")\n",
    "print(\"Train: \", model_rf_imp.score(X_train_new,Y_train)*100)\n",
    "print(\"Test: \", model_rf_imp.score(X_test_new,Y_test)*100)\n"
   ]
  },
  {
   "cell_type": "markdown",
   "metadata": {},
   "source": [
    "## Gradient Boosting (on unscaled data)"
   ]
  },
  {
   "cell_type": "code",
   "execution_count": 430,
   "metadata": {},
   "outputs": [
    {
     "name": "stdout",
     "output_type": "stream",
     "text": [
      "Gradient Boosting (default parameters)\n",
      "\n",
      "\n",
      "RMSE\n",
      "Train:  3677.691\n",
      "Test:  4709.066\n",
      "\n",
      "\n",
      "Overall Accuracy\n",
      "Train:  61.361\n",
      "Test:  48.956\n"
     ]
    }
   ],
   "source": [
    "model_gb = GradientBoostingRegressor(random_state=42)\n",
    "model_gb.fit(x_train,y_train)\n",
    "\n",
    "print(\"Gradient Boosting (default parameters)\")\n",
    "print(\"\\n\")\n",
    "print(\"RMSE\")\n",
    "gb_p_0 = model_gb.predict(x_train)\n",
    "print(\"Train: \", np.round(np.sqrt(mean_squared_error(y_train,gb_p_0)), decimals=3))\n",
    "gb_p = model_gb.predict(x_test)\n",
    "print(\"Test: \", np.round(np.sqrt(mean_squared_error(y_test,gb_p)), decimals=3))\n",
    "\n",
    "print(\"\\n\")\n",
    "print(\"Overall Accuracy\")\n",
    "print(\"Train: \", np.round(model_gb.score(x_train,y_train)*100,decimals=3))\n",
    "print(\"Test: \", np.round(model_gb.score(x_test,y_test)*100,decimals=3))"
   ]
  },
  {
   "cell_type": "code",
   "execution_count": 431,
   "metadata": {},
   "outputs": [
    {
     "name": "stdout",
     "output_type": "stream",
     "text": [
      "Gradient Boosting (max_depth=14)\n",
      "\n",
      "\n",
      "RMSE\n",
      "Train:  493.881\n",
      "Test:  4904.272\n",
      "\n",
      "\n",
      "Overall Accuracy\n",
      "Train:  99.303\n",
      "Test:  44.636\n"
     ]
    }
   ],
   "source": [
    "model_gb = GradientBoostingRegressor(max_depth=14, random_state=42)\n",
    "model_gb.fit(x_train,y_train)\n",
    "\n",
    "print(\"Gradient Boosting (max_depth=14)\")\n",
    "print(\"\\n\")\n",
    "print(\"RMSE\")\n",
    "gb_p_0 = model_gb.predict(x_train)\n",
    "print(\"Train: \", np.round(np.sqrt(mean_squared_error(y_train,gb_p_0)), decimals=3))\n",
    "gb_p = model_gb.predict(x_test)\n",
    "print(\"Test: \", np.round(np.sqrt(mean_squared_error(y_test,gb_p)), decimals=3))\n",
    "\n",
    "print(\"\\n\")\n",
    "print(\"Overall Accuracy\")\n",
    "print(\"Train: \", np.round(model_gb.score(x_train,y_train)*100,decimals=3))\n",
    "print(\"Test: \", np.round(model_gb.score(x_test,y_test)*100,decimals=3))"
   ]
  },
  {
   "cell_type": "code",
   "execution_count": 432,
   "metadata": {},
   "outputs": [
    {
     "name": "stdout",
     "output_type": "stream",
     "text": [
      "Gradient Boosting (max_depth=14)\n",
      "\n",
      "\n",
      "RMSE\n",
      "Train:  3893.078\n",
      "Test:  4682.045\n",
      "\n",
      "\n",
      "Overall Accuracy\n",
      "Train:  56.702\n",
      "Test:  49.54\n"
     ]
    }
   ],
   "source": [
    "model_gb = GradientBoostingRegressor(min_samples_leaf=20, random_state=42)\n",
    "model_gb.fit(x_train,y_train)\n",
    "\n",
    "print(\"Gradient Boosting (max_depth=14)\")\n",
    "print(\"\\n\")\n",
    "print(\"RMSE\")\n",
    "gb_p_0 = model_gb.predict(x_train)\n",
    "print(\"Train: \", np.round(np.sqrt(mean_squared_error(y_train,gb_p_0)), decimals=3))\n",
    "gb_p = model_gb.predict(x_test)\n",
    "print(\"Test: \", np.round(np.sqrt(mean_squared_error(y_test,gb_p)), decimals=3))\n",
    "\n",
    "print(\"\\n\")\n",
    "print(\"Overall Accuracy\")\n",
    "print(\"Train: \", np.round(model_gb.score(x_train,y_train)*100,decimals=3))\n",
    "print(\"Test: \", np.round(model_gb.score(x_test,y_test)*100,decimals=3))"
   ]
  },
  {
   "cell_type": "code",
   "execution_count": 433,
   "metadata": {},
   "outputs": [
    {
     "name": "stdout",
     "output_type": "stream",
     "text": [
      "Gradient Boosting (max_depth=14)\n",
      "\n",
      "\n",
      "RMSE\n",
      "Train:  2812.338\n",
      "Test:  4272.027\n",
      "\n",
      "\n",
      "Overall Accuracy\n",
      "Train:  77.405\n",
      "Test:  57.991\n"
     ]
    }
   ],
   "source": [
    "model_gb = GradientBoostingRegressor(min_samples_leaf=20, max_depth=14, random_state=42)\n",
    "model_gb.fit(x_train,y_train)\n",
    "\n",
    "print(\"Gradient Boosting (max_depth=14)\")\n",
    "print(\"\\n\")\n",
    "print(\"RMSE\")\n",
    "gb_p_0 = model_gb.predict(x_train)\n",
    "print(\"Train: \", np.round(np.sqrt(mean_squared_error(y_train,gb_p_0)), decimals=3))\n",
    "gb_p = model_gb.predict(x_test)\n",
    "print(\"Test: \", np.round(np.sqrt(mean_squared_error(y_test,gb_p)), decimals=3))\n",
    "\n",
    "print(\"\\n\")\n",
    "print(\"Overall Accuracy\")\n",
    "print(\"Train: \", np.round(model_gb.score(x_train,y_train)*100,decimals=3))\n",
    "print(\"Test: \", np.round(model_gb.score(x_test,y_test)*100,decimals=3))"
   ]
  },
  {
   "cell_type": "markdown",
   "metadata": {},
   "source": [
    "## Gradient Boosting (on scaled data)"
   ]
  },
  {
   "cell_type": "code",
   "execution_count": 434,
   "metadata": {},
   "outputs": [
    {
     "name": "stdout",
     "output_type": "stream",
     "text": [
      "Gradient Boosting\n",
      "\n",
      "\n",
      "RMSE\n",
      "Train:  0.03\n",
      "Test:  0.038\n",
      "\n",
      "\n",
      "Overall Accuracy\n",
      "Train:  61.361\n",
      "Test:  48.957\n"
     ]
    }
   ],
   "source": [
    "model_gb_s = GradientBoostingRegressor(random_state=42)\n",
    "model_gb_s.fit(X_train,Y_train)\n",
    "\n",
    "print(\"Gradient Boosting\")\n",
    "print(\"\\n\")\n",
    "print(\"RMSE\")\n",
    "gb_p_0_s = model_gb_s.predict(X_train)\n",
    "print(\"Train: \", np.round(np.sqrt(mean_squared_error(Y_train,gb_p_0_s)), decimals=3))\n",
    "gb_p_s = model_gb_s.predict(X_test)\n",
    "print(\"Test: \", np.round(np.sqrt(mean_squared_error(Y_test,gb_p_s)), decimals=3))\n",
    "\n",
    "print(\"\\n\")\n",
    "print(\"Overall Accuracy\")\n",
    "print(\"Train: \", np.round(model_gb_s.score(X_train,Y_train)*100,decimals=3))\n",
    "print(\"Test: \", np.round(model_gb_s.score(X_test,Y_test)*100,decimals=3))  "
   ]
  },
  {
   "cell_type": "code",
   "execution_count": 435,
   "metadata": {},
   "outputs": [
    {
     "name": "stdout",
     "output_type": "stream",
     "text": [
      "SCALED Gradient Boosting (max_depth=4)\n",
      "\n",
      "\n",
      "RMSE\n",
      "Train:  0.023\n",
      "Test:  0.034\n",
      "\n",
      "\n",
      "Overall Accuracy\n",
      "Train:  77.096\n",
      "Test:  58.798\n"
     ]
    }
   ],
   "source": [
    "model_gb_s = GradientBoostingRegressor(max_depth=5, random_state=42)\n",
    "model_gb_s.fit(X_train,Y_train)\n",
    "\n",
    "print(\"SCALED Gradient Boosting (max_depth=4)\")\n",
    "print(\"\\n\")\n",
    "print(\"RMSE\")\n",
    "gb_p_0_s = model_gb_s.predict(X_train)\n",
    "print(\"Train: \", np.round(np.sqrt(mean_squared_error(Y_train,gb_p_0_s)), decimals=3))\n",
    "gb_p_s = model_gb_s.predict(X_test)\n",
    "print(\"Test: \", np.round(np.sqrt(mean_squared_error(Y_test,gb_p_s)), decimals=3))\n",
    "\n",
    "print(\"\\n\")\n",
    "print(\"Overall Accuracy\")\n",
    "print(\"Train: \", np.round(model_gb_s.score(X_train,Y_train)*100,decimals=3))\n",
    "print(\"Test: \", np.round(model_gb_s.score(X_test,Y_test)*100,decimals=3))  "
   ]
  },
  {
   "cell_type": "code",
   "execution_count": 436,
   "metadata": {},
   "outputs": [
    {
     "name": "stdout",
     "output_type": "stream",
     "text": [
      "SCALED Gradient Boosting (min_samples_leaf=16)\n",
      "\n",
      "\n",
      "RMSE\n",
      "Train:  0.031\n",
      "Test:  0.038\n",
      "\n",
      "\n",
      "Overall Accuracy\n",
      "Train:  56.782\n",
      "Test:  49.413\n"
     ]
    }
   ],
   "source": [
    "# best in GB\n",
    "model_gb_s = GradientBoostingRegressor(min_samples_leaf=16, random_state=42)\n",
    "model_gb_s.fit(X_train,Y_train)\n",
    "\n",
    "print(\"SCALED Gradient Boosting (min_samples_leaf=16)\")\n",
    "print(\"\\n\")\n",
    "print(\"RMSE\")\n",
    "gb_p_0_s = model_gb_s.predict(X_train)\n",
    "print(\"Train: \", np.round(np.sqrt(mean_squared_error(Y_train,gb_p_0_s)), decimals=3))\n",
    "gb_p_s = model_gb_s.predict(X_test)\n",
    "print(\"Test: \", np.round(np.sqrt(mean_squared_error(Y_test,gb_p_s)), decimals=3))\n",
    "\n",
    "print(\"\\n\")\n",
    "print(\"Overall Accuracy\")\n",
    "print(\"Train: \", np.round(model_gb_s.score(X_train,Y_train)*100,decimals=3))\n",
    "print(\"Test: \", np.round(model_gb_s.score(X_test,Y_test)*100,decimals=3))  "
   ]
  },
  {
   "cell_type": "code",
   "execution_count": 438,
   "metadata": {},
   "outputs": [
    {
     "name": "stdout",
     "output_type": "stream",
     "text": [
      "Gradient Boosting\n",
      "RMSE\n",
      "Train:  0.026\n",
      "Test:  0.035\n",
      "\n",
      "\n",
      "Overall Accuracy\n",
      "Train:  69.816\n",
      "Test:  57.141\n"
     ]
    }
   ],
   "source": [
    "model_gb_s = GradientBoostingRegressor(min_samples_leaf=16, max_depth=7, random_state=42)\n",
    "model_gb_s.fit(X_train,Y_train)\n",
    "\n",
    "print(\"Gradient Boosting\")\n",
    "print(\"RMSE\")\n",
    "gb_p_0_s = model_gb_s.predict(X_train)\n",
    "print(\"Train: \", np.round(np.sqrt(mean_squared_error(Y_train,gb_p_0_s)), decimals=3))\n",
    "gb_p_s = model_gb_s.predict(X_test)\n",
    "print(\"Test: \", np.round(np.sqrt(mean_squared_error(Y_test,gb_p_s)), decimals=3))\n",
    "\n",
    "print(\"\\n\")\n",
    "print(\"Overall Accuracy\")\n",
    "print(\"Train: \", np.round(model_gb_s.score(X_train,Y_train)*100,decimals=3))\n",
    "print(\"Test: \", np.round(model_gb_s.score(X_test,Y_test)*100,decimals=3))  "
   ]
  },
  {
   "cell_type": "markdown",
   "metadata": {},
   "source": [
    "### Neural Network"
   ]
  },
  {
   "cell_type": "code",
   "execution_count": 440,
   "metadata": {},
   "outputs": [],
   "source": [
    "from sklearn.neural_network import MLPClassifier\n",
    "from sklearn.preprocessing import StandardScaler\n",
    "from sklearn.neural_network import MLPRegressor"
   ]
  },
  {
   "cell_type": "code",
   "execution_count": 441,
   "metadata": {},
   "outputs": [],
   "source": [
    "y = new[\"Price\"]\n",
    "x = new.drop(\"Price\",axis=1)"
   ]
  },
  {
   "cell_type": "code",
   "execution_count": 442,
   "metadata": {},
   "outputs": [],
   "source": [
    "x_train, x_test, y_train, y_test = train_test_split(x,y,test_size=0.25,random_state=42)"
   ]
  },
  {
   "cell_type": "code",
   "execution_count": 443,
   "metadata": {},
   "outputs": [
    {
     "data": {
      "text/plain": [
       "StandardScaler(copy=True, with_mean=True, with_std=True)"
      ]
     },
     "execution_count": 443,
     "metadata": {},
     "output_type": "execute_result"
    }
   ],
   "source": [
    "scaler=StandardScaler()\n",
    "\n",
    "# Fit only to the training data\n",
    "scaler.fit(x_train)"
   ]
  },
  {
   "cell_type": "code",
   "execution_count": 444,
   "metadata": {},
   "outputs": [],
   "source": [
    "# Now apply the transformations to the data:\n",
    "x_train = scaler.transform(x_train)\n",
    "x_test = scaler.transform(x_test)"
   ]
  },
  {
   "cell_type": "code",
   "execution_count": 467,
   "metadata": {},
   "outputs": [
    {
     "data": {
      "text/plain": [
       "MLPRegressor(activation='relu', alpha=0.001, batch_size='auto', beta_1=0.9,\n",
       "       beta_2=0.999, early_stopping=False, epsilon=1e-08,\n",
       "       hidden_layer_sizes=(60, 60, 60, 60, 60, 60, 60),\n",
       "       learning_rate='constant', learning_rate_init=0.01,\n",
       "       max_iter=100000000, momentum=0.9, nesterovs_momentum=True,\n",
       "       power_t=0.5, random_state=42, shuffle=True, solver='adam',\n",
       "       tol=1e-05, validation_fraction=0.1, verbose=False, warm_start=False)"
      ]
     },
     "execution_count": 467,
     "metadata": {},
     "output_type": "execute_result"
    }
   ],
   "source": [
    "mlp = MLPRegressor(activation='relu',solver='adam', alpha=0.001, hidden_layer_sizes=(60,60,60,60,60,60,60), tol=0.00001, verbose=False, learning_rate_init=0.01, max_iter=100000000, random_state=42)\n",
    "mlp.fit(x_train,y_train)"
   ]
  },
  {
   "cell_type": "code",
   "execution_count": 468,
   "metadata": {},
   "outputs": [
    {
     "name": "stdout",
     "output_type": "stream",
     "text": [
      "Neural Network\n",
      "\n",
      "\n",
      "RMSE\n",
      "Train:  2738.622\n",
      "Test:  3816.997\n",
      "\n",
      "\n",
      "Overall Accuracy\n",
      "Train:  78.574\n",
      "Test:  66.463\n"
     ]
    }
   ],
   "source": [
    "print(\"Neural Network\")\n",
    "print(\"\\n\")\n",
    "print(\"RMSE\")\n",
    "pred1 = mlp.predict(x_train)\n",
    "print(\"Train: \", np.round(np.sqrt(mean_squared_error(y_train,pred1)), decimals=3))\n",
    "pred2 = mlp.predict(x_test)\n",
    "print(\"Test: \", np.round(np.sqrt(mean_squared_error(y_test,pred2)), decimals=3))\n",
    "\n",
    "print(\"\\n\")\n",
    "print(\"Overall Accuracy\")\n",
    "print(\"Train: \", np.round(mlp.score(x_train,y_train)*100,decimals=3))\n",
    "print(\"Test: \", np.round(mlp.score(x_test,y_test)*100,decimals=3))"
   ]
  },
  {
   "cell_type": "markdown",
   "metadata": {},
   "source": [
    "From the results of the regressor models, we see none of the models is performing well. Although the RMSE-s of the models with normalized values show good results, the overall accuracies of the models are not high. Moreover, the training and testing sets were overfitting. And tuning the models did not help to imrove the results. Only Neural network showed \"relatively good\" results. The RMSE-s on the training and testing sets were the lowest among the models with no scaling. The differnce between the accuracies on the train and test is around 11%.   "
   ]
  },
  {
   "cell_type": "markdown",
   "metadata": {},
   "source": [
    "# Classification (Purchased)"
   ]
  },
  {
   "cell_type": "code",
   "execution_count": 469,
   "metadata": {},
   "outputs": [
    {
     "data": {
      "text/plain": [
       "0    86.314199\n",
       "1    13.685801\n",
       "Name: Purchased, dtype: float64"
      ]
     },
     "execution_count": 469,
     "metadata": {},
     "output_type": "execute_result"
    }
   ],
   "source": [
    "# are classes balanced?\n",
    "new.Purchased.value_counts()/len(new)*100\n",
    "#86.31% will be benchmark for our models"
   ]
  },
  {
   "cell_type": "code",
   "execution_count": 470,
   "metadata": {},
   "outputs": [],
   "source": [
    "#unscaled\n",
    "y = new[\"Purchased\"]\n",
    "x = new.drop(\"Purchased\",axis=1)\n",
    "\n",
    "#scaled\n",
    "Y = new_scaled[\"Purchased\"]\n",
    "X = new_scaled.drop(\"Purchased\",axis=1)"
   ]
  },
  {
   "cell_type": "code",
   "execution_count": 471,
   "metadata": {},
   "outputs": [],
   "source": [
    "x_train, x_test, y_train, y_test = train_test_split(x,y,test_size=0.25,random_state=42)\n",
    "X_train, X_test, Y_train, Y_test = train_test_split(X,Y,test_size=0.25,random_state=42)"
   ]
  },
  {
   "cell_type": "code",
   "execution_count": 472,
   "metadata": {},
   "outputs": [],
   "source": [
    "#Importing necessary libraries:\n",
    "from sklearn.tree import DecisionTreeClassifier\n",
    "from sklearn.linear_model import LogisticRegression\n",
    "from sklearn.ensemble import RandomForestClassifier, GradientBoostingClassifier\n",
    "from sklearn.neural_network import MLPClassifier\n",
    "\n",
    "from sklearn.metrics import recall_score, roc_auc_score\n",
    "from sklearn.model_selection import train_test_split, cross_val_score"
   ]
  },
  {
   "cell_type": "markdown",
   "metadata": {},
   "source": [
    "## Different models with default parameters"
   ]
  },
  {
   "cell_type": "code",
   "execution_count": 473,
   "metadata": {},
   "outputs": [],
   "source": [
    "model_tree = DecisionTreeClassifier(random_state=42)\n",
    "model_logit = LogisticRegression(random_state=42)\n",
    "model_rf = RandomForestClassifier(random_state=42)\n",
    "model_gb = GradientBoostingClassifier(random_state=42)\n",
    "model_nn=MLPClassifier(random_state=42)"
   ]
  },
  {
   "cell_type": "code",
   "execution_count": 474,
   "metadata": {},
   "outputs": [
    {
     "data": {
      "text/plain": [
       "MLPClassifier(activation='relu', alpha=0.0001, batch_size='auto', beta_1=0.9,\n",
       "       beta_2=0.999, early_stopping=False, epsilon=1e-08,\n",
       "       hidden_layer_sizes=(100,), learning_rate='constant',\n",
       "       learning_rate_init=0.001, max_iter=200, momentum=0.9,\n",
       "       nesterovs_momentum=True, power_t=0.5, random_state=42, shuffle=True,\n",
       "       solver='adam', tol=0.0001, validation_fraction=0.1, verbose=False,\n",
       "       warm_start=False)"
      ]
     },
     "execution_count": 474,
     "metadata": {},
     "output_type": "execute_result"
    }
   ],
   "source": [
    "#fitting the models\n",
    "model_tree.fit(x_train,y_train)\n",
    "model_logit.fit(x_train,y_train)\n",
    "model_rf.fit(x_train, y_train)\n",
    "model_gb.fit(x_train,y_train)\n",
    "model_nn.fit(x_train, y_train)"
   ]
  },
  {
   "cell_type": "code",
   "execution_count": 475,
   "metadata": {},
   "outputs": [
    {
     "name": "stdout",
     "output_type": "stream",
     "text": [
      "Train\n",
      "Decision tree:  99.91943605236656\n",
      "Logistic Regression:  86.34441087613293\n",
      "Random Forest:  97.90533736153073\n",
      "Gradient Boosting:  87.37160120845921\n",
      "Neural Network:  86.34441087613293\n"
     ]
    }
   ],
   "source": [
    "#Overall accuracy on the train set\n",
    "print(\"Train\")\n",
    "\n",
    "print(\"Decision tree: \", model_tree.score(x_train,y_train)*100)\n",
    "print(\"Logistic Regression: \", model_logit.score(x_train,y_train)*100)\n",
    "print(\"Random Forest: \", model_rf.score(x_train,y_train)*100)\n",
    "print(\"Gradient Boosting: \", model_gb.score(x_train,y_train)*100)\n",
    "print(\"Neural Network: \", model_nn.score(x_train,y_train)*100)"
   ]
  },
  {
   "cell_type": "code",
   "execution_count": 476,
   "metadata": {},
   "outputs": [
    {
     "name": "stdout",
     "output_type": "stream",
     "text": [
      "Test\n",
      "Decision tree:  80.84592145015105\n",
      "Logistic Regression:  86.22356495468277\n",
      "Random Forest:  84.65256797583082\n",
      "Gradient Boosting:  86.52567975830816\n",
      "Neural Network:  86.22356495468277\n"
     ]
    }
   ],
   "source": [
    "#Overall accuracy on the testing set\n",
    "print(\"Test\")\n",
    "\n",
    "print(\"Decision tree: \", model_tree.score(x_test,y_test)*100)\n",
    "print(\"Logistic Regression: \", model_logit.score(x_test,y_test)*100)\n",
    "print(\"Random Forest: \", model_rf.score(x_test,y_test)*100)\n",
    "print(\"Gradient Boosting: \", model_gb.score(x_test,y_test)*100) #best model\n",
    "print(\"Neural Network: \", model_nn.score(x_test,y_test)*100)"
   ]
  },
  {
   "cell_type": "code",
   "execution_count": 477,
   "metadata": {},
   "outputs": [
    {
     "name": "stdout",
     "output_type": "stream",
     "text": [
      "Cross-Validation Score\n",
      "Decision tree:  80.0221286615053\n",
      "Logistic Regression:  86.31574746587914\n",
      "Random Forest:  83.907527868678\n",
      "Neural Network:  67.95844307872402\n"
     ]
    }
   ],
   "source": [
    "#Calculating cross_val_score in order to see if there is overfitting in the testing dataset\n",
    "print(\"Cross-Validation Score\")\n",
    "\n",
    "print(\"Decision tree: \", np.mean(cross_val_score(model_tree, x, y, cv=100)*100))\n",
    "print(\"Logistic Regression: \", np.mean(cross_val_score(model_logit, x, y, cv=100)*100))\n",
    "print(\"Random Forest: \", np.mean(cross_val_score(model_rf, x, y, cv=100)*100))\n",
    "#print(\"Gradient Boosting: \", np.mean(cross_val_score(model_gb, x, y, cv=100)*100))  #the best model in terms of accuracy and no overfitting\n",
    "print(\"Neural Network: \", np.mean(cross_val_score(model_nn, x, y, cv=100)*100))"
   ]
  },
  {
   "cell_type": "code",
   "execution_count": 478,
   "metadata": {},
   "outputs": [],
   "source": [
    "tree_pred = model_tree.predict(x_test)\n",
    "logit_pred = model_logit.predict(x_test)\n",
    "rf_pred = model_rf.predict(x_test)\n",
    "gb_pred = model_gb.predict(x_test)\n",
    "nn_pred = model_nn.predict(x_test)"
   ]
  },
  {
   "cell_type": "code",
   "execution_count": 479,
   "metadata": {},
   "outputs": [
    {
     "name": "stdout",
     "output_type": "stream",
     "text": [
      "Recall Score\n",
      "Decision tree:  34.21052631578947\n",
      "Logistic Regression:  0.0\n",
      "Random Forest:  18.859649122807017\n",
      "Gradient Boosting:  5.701754385964912\n",
      "NeuralNetwork:  0.0\n"
     ]
    }
   ],
   "source": [
    "# Calculating the recall score\n",
    "print(\"Recall Score\")\n",
    "\n",
    "print(\"Decision tree: \", recall_score(y_test, tree_pred)*100) #the highest roc_auc\n",
    "print(\"Logistic Regression: \", recall_score(y_test, logit_pred)*100)\n",
    "print(\"Random Forest: \", recall_score(y_test, rf_pred)*100)\n",
    "print(\"Gradient Boosting: \", recall_score(y_test, gb_pred)*100)\n",
    "print(\"NeuralNetwork: \", recall_score(y_test, nn_pred)*100)"
   ]
  },
  {
   "cell_type": "code",
   "execution_count": 480,
   "metadata": {},
   "outputs": [
    {
     "name": "stdout",
     "output_type": "stream",
     "text": [
      "ROC_AUC_Score\n",
      "Decision tree:  61.253826577656476\n",
      "Logistic Regression:  50.0\n",
      "Random Forest:  57.012165136035605\n",
      "Gradient Boosting:  52.57056885380936\n",
      "Neural Network:  50.0\n"
     ]
    }
   ],
   "source": [
    "#Calculating the roc_auc score\n",
    "print(\"ROC_AUC_Score\")\n",
    "\n",
    "print(\"Decision tree: \", roc_auc_score(y_test, tree_pred)*100) #the highest roc_auc\n",
    "print(\"Logistic Regression: \", roc_auc_score(y_test, logit_pred)*100)\n",
    "print(\"Random Forest: \", roc_auc_score(y_test, rf_pred)*100)\n",
    "print(\"Gradient Boosting: \", roc_auc_score(y_test, gb_pred)*100)\n",
    "print(\"Neural Network: \", roc_auc_score(y_test, nn_pred)*100)"
   ]
  },
  {
   "cell_type": "markdown",
   "metadata": {},
   "source": [
    "### Tuning the Decision Tree"
   ]
  },
  {
   "cell_type": "code",
   "execution_count": 481,
   "metadata": {},
   "outputs": [
    {
     "name": "stdout",
     "output_type": "stream",
     "text": [
      "{'max_depth': [5, 6, 7, 8, 9, 10, 11, 12, 13, 14, 15, 16, 17, 18, 19, 20], 'min_samples_leaf': [20, 40, 60, 80, 100, 120, 140, 160, 180, 200, 220, 240, 260, 280, 300, 320, 340, 360, 380]}\n",
      "GridSearchCV(cv=None, error_score='raise',\n",
      "       estimator=DecisionTreeClassifier(class_weight=None, criterion='gini', max_depth=None,\n",
      "            max_features=None, max_leaf_nodes=None,\n",
      "            min_impurity_decrease=0.0, min_impurity_split=None,\n",
      "            min_samples_leaf=1, min_samples_split=2,\n",
      "            min_weight_fraction_leaf=0.0, presort=False, random_state=42,\n",
      "            splitter='best'),\n",
      "       fit_params=None, iid=True, n_jobs=1,\n",
      "       param_grid={'max_depth': [5, 6, 7, 8, 9, 10, 11, 12, 13, 14, 15, 16, 17, 18, 19, 20], 'min_samples_leaf': [20, 40, 60, 80, 100, 120, 140, 160, 180, 200, 220, 240, 260, 280, 300, 320, 340, 360, 380]},\n",
      "       pre_dispatch='2*n_jobs', refit=True, return_train_score='warn',\n",
      "       scoring=None, verbose=0)\n"
     ]
    },
    {
     "data": {
      "text/plain": [
       "GridSearchCV(cv=None, error_score='raise',\n",
       "       estimator=DecisionTreeClassifier(class_weight=None, criterion='gini', max_depth=None,\n",
       "            max_features=None, max_leaf_nodes=None,\n",
       "            min_impurity_decrease=0.0, min_impurity_split=None,\n",
       "            min_samples_leaf=1, min_samples_split=2,\n",
       "            min_weight_fraction_leaf=0.0, presort=False, random_state=42,\n",
       "            splitter='best'),\n",
       "       fit_params=None, iid=True, n_jobs=1,\n",
       "       param_grid={'max_depth': [5, 6, 7, 8, 9, 10, 11, 12, 13, 14, 15, 16, 17, 18, 19, 20], 'min_samples_leaf': [20, 40, 60, 80, 100, 120, 140, 160, 180, 200, 220, 240, 260, 280, 300, 320, 340, 360, 380]},\n",
       "       pre_dispatch='2*n_jobs', refit=True, return_train_score='warn',\n",
       "       scoring=None, verbose=0)"
      ]
     },
     "execution_count": 481,
     "metadata": {},
     "output_type": "execute_result"
    }
   ],
   "source": [
    "#GridSearch\n",
    "from sklearn.model_selection import GridSearchCV\n",
    "max_depth_values = [k for k in range(5,21)]\n",
    "min_sample_values = [k for k in range(20, 400, 20)]\n",
    "parameters = {\"max_depth\":max_depth_values, \"min_samples_leaf\":min_sample_values}\n",
    "print(parameters)\n",
    "finder=GridSearchCV(model_tree,parameters) \n",
    "print(finder)\n",
    "finder.fit(x_train, y_train)"
   ]
  },
  {
   "cell_type": "code",
   "execution_count": 482,
   "metadata": {},
   "outputs": [
    {
     "name": "stdout",
     "output_type": "stream",
     "text": [
      "{'max_depth': 5, 'min_samples_leaf': 100}\n"
     ]
    }
   ],
   "source": [
    "print(finder.best_params_)"
   ]
  },
  {
   "cell_type": "code",
   "execution_count": 483,
   "metadata": {},
   "outputs": [
    {
     "name": "stdout",
     "output_type": "stream",
     "text": [
      "Decision tree with max_depth=6\n",
      "Train:  87.65357502517624\n",
      "Test:  85.61933534743203\n",
      "Differnce between train and test:  2.0342396777442104\n"
     ]
    }
   ],
   "source": [
    "print(\"Decision tree with max_depth=6\")\n",
    "model_tree_6 = DecisionTreeClassifier(max_depth = 6, random_state=42)\n",
    "model_tree_6.fit(x_train,y_train)\n",
    "\n",
    "print(\"Train: \", model_tree_6.score(x_train,y_train)*100)\n",
    "print(\"Test: \", model_tree_6.score(x_test,y_test)*100)\n",
    "print(\"Differnce between train and test: \", model_tree_6.score(x_train,y_train)*100-model_tree_6.score(x_test,y_test)*100) #for comparing overfitting with other models"
   ]
  },
  {
   "cell_type": "code",
   "execution_count": 484,
   "metadata": {},
   "outputs": [
    {
     "name": "stdout",
     "output_type": "stream",
     "text": [
      "Decision tree with min_samples_leaf=20\n",
      "Train:  87.29103726082577\n",
      "Test:  84.89425981873111\n",
      "Differnce between train and test:  2.3967774420946597\n"
     ]
    }
   ],
   "source": [
    "print(\"Decision tree with min_samples_leaf=20\")\n",
    "model_tree_20 = DecisionTreeClassifier(min_samples_leaf=20, random_state=42)\n",
    "model_tree_20.fit(x_train,y_train)\n",
    "\n",
    "print(\"Train: \", model_tree_20.score(x_train,y_train)*100)\n",
    "print(\"Test: \", model_tree_20.score(x_test,y_test)*100)\n",
    "print(\"Differnce between train and test: \", model_tree_20.score(x_train,y_train)*100-model_tree_20.score(x_test,y_test)*100)"
   ]
  },
  {
   "cell_type": "code",
   "execution_count": 485,
   "metadata": {},
   "outputs": [
    {
     "name": "stdout",
     "output_type": "stream",
     "text": [
      "Decision three with max_depth=6 and min_samples_leaf=20\n",
      "Train:  87.00906344410876\n",
      "Test:  86.10271903323263\n",
      "Differnce between train and test:  0.9063444108761303\n"
     ]
    }
   ],
   "source": [
    "print(\"Decision three with max_depth=6 and min_samples_leaf=20\")\n",
    "model_tree_20_6 = DecisionTreeClassifier(max_depth = 6, min_samples_leaf=20, random_state=42)\n",
    "model_tree_20_6.fit(x_train,y_train)\n",
    "\n",
    "print(\"Train: \", model_tree_20_6.score(x_train,y_train)*100)\n",
    "print(\"Test: \", model_tree_20_6.score(x_test,y_test)*100)\n",
    "print(\"Differnce between train and test: \", model_tree_20_6.score(x_train,y_train)*100-model_tree_20_6.score(x_test,y_test)*100)"
   ]
  },
  {
   "cell_type": "code",
   "execution_count": 486,
   "metadata": {},
   "outputs": [],
   "source": [
    "#we will further use model_tree_6"
   ]
  },
  {
   "cell_type": "code",
   "execution_count": 487,
   "metadata": {},
   "outputs": [
    {
     "name": "stdout",
     "output_type": "stream",
     "text": [
      "All parameters for the decision tree with max_depth=6\n",
      "Train 87.65357502517624\n",
      "Test 85.61933534743203\n",
      "Cross-Validation:  85.69386356985125\n",
      "Recall score:  12.280701754385964\n",
      "ROC_AUC score:  54.8088862661208\n"
     ]
    }
   ],
   "source": [
    "print(\"All parameters for the decision tree with max_depth=6\")\n",
    "print(\"Train\", model_tree_6.score(x_train,y_train)*100)\n",
    "print(\"Test\", model_tree_6.score(x_test,y_test)*100)\n",
    "print(\"Cross-Validation: \", cross_val_score(model_tree_6, x, y, cv=100).mean()*100)\n",
    "prediction=model_tree_6.predict(x_test)\n",
    "print(\"Recall score: \", recall_score(y_test, prediction)*100)\n",
    "print(\"ROC_AUC score: \", roc_auc_score(y_test, prediction)*100) "
   ]
  },
  {
   "cell_type": "code",
   "execution_count": 488,
   "metadata": {},
   "outputs": [
    {
     "name": "stdout",
     "output_type": "stream",
     "text": [
      "All parameters for the decision tree with balanced classes and max_depth=6\n",
      "Train 69.20443101711984\n",
      "Test 65.61933534743203\n",
      "Cross-Validation:  66.63350360496982\n",
      "Recall score:  63.59649122807017\n",
      "ROC_AUC score:  64.76951400926984\n"
     ]
    }
   ],
   "source": [
    "#balancing the class labels for \"Purchased\"\n",
    "model_tree_6_b=DecisionTreeClassifier(class_weight=\"balanced\", max_depth = 6, random_state=42) \n",
    "model_tree_6_b.fit(x_train,y_train)\n",
    "\n",
    "print(\"All parameters for the decision tree with balanced classes and max_depth=6\")\n",
    "print(\"Train\", model_tree_6_b.score(x_train,y_train)*100)\n",
    "print(\"Test\", model_tree_6_b.score(x_test,y_test)*100)\n",
    "print(\"Cross-Validation: \", cross_val_score(model_tree_6_b, x, y, cv=100).mean()*100)\n",
    "prediction=model_tree_6_b.predict(x_test)\n",
    "print(\"Recall score: \", recall_score(y_test, prediction)*100)\n",
    "print(\"ROC_AUC score: \", roc_auc_score(y_test, prediction)*100) #higher roc_auc"
   ]
  },
  {
   "cell_type": "code",
   "execution_count": 489,
   "metadata": {},
   "outputs": [
    {
     "data": {
      "text/html": [
       "<div>\n",
       "<style scoped>\n",
       "    .dataframe tbody tr th:only-of-type {\n",
       "        vertical-align: middle;\n",
       "    }\n",
       "\n",
       "    .dataframe tbody tr th {\n",
       "        vertical-align: top;\n",
       "    }\n",
       "\n",
       "    .dataframe thead th {\n",
       "        text-align: right;\n",
       "    }\n",
       "</style>\n",
       "<table border=\"1\" class=\"dataframe\">\n",
       "  <thead>\n",
       "    <tr style=\"text-align: right;\">\n",
       "      <th></th>\n",
       "      <th>importance</th>\n",
       "    </tr>\n",
       "  </thead>\n",
       "  <tbody>\n",
       "    <tr>\n",
       "      <th>Price</th>\n",
       "      <td>0.748131</td>\n",
       "    </tr>\n",
       "    <tr>\n",
       "      <th>Mileage</th>\n",
       "      <td>0.045136</td>\n",
       "    </tr>\n",
       "    <tr>\n",
       "      <th>ToyotaCamry</th>\n",
       "      <td>0.000000</td>\n",
       "    </tr>\n",
       "    <tr>\n",
       "      <th>ToyotaCorolla</th>\n",
       "      <td>0.009236</td>\n",
       "    </tr>\n",
       "    <tr>\n",
       "      <th>ToyotaRav4</th>\n",
       "      <td>0.000000</td>\n",
       "    </tr>\n",
       "    <tr>\n",
       "      <th>ToyotaLandCruiserPrado</th>\n",
       "      <td>0.007547</td>\n",
       "    </tr>\n",
       "    <tr>\n",
       "      <th>ToyotaIpsum</th>\n",
       "      <td>0.000000</td>\n",
       "    </tr>\n",
       "    <tr>\n",
       "      <th>ToyotaSienna</th>\n",
       "      <td>0.013794</td>\n",
       "    </tr>\n",
       "    <tr>\n",
       "      <th>Toyota4-Runner</th>\n",
       "      <td>0.021042</td>\n",
       "    </tr>\n",
       "    <tr>\n",
       "      <th>2014</th>\n",
       "      <td>0.012937</td>\n",
       "    </tr>\n",
       "    <tr>\n",
       "      <th>2011</th>\n",
       "      <td>0.000000</td>\n",
       "    </tr>\n",
       "    <tr>\n",
       "      <th>2010</th>\n",
       "      <td>0.000000</td>\n",
       "    </tr>\n",
       "    <tr>\n",
       "      <th>2012</th>\n",
       "      <td>0.000000</td>\n",
       "    </tr>\n",
       "    <tr>\n",
       "      <th>2013</th>\n",
       "      <td>0.016928</td>\n",
       "    </tr>\n",
       "    <tr>\n",
       "      <th>2015</th>\n",
       "      <td>0.020018</td>\n",
       "    </tr>\n",
       "    <tr>\n",
       "      <th>2016</th>\n",
       "      <td>0.000000</td>\n",
       "    </tr>\n",
       "    <tr>\n",
       "      <th>2008</th>\n",
       "      <td>0.004326</td>\n",
       "    </tr>\n",
       "    <tr>\n",
       "      <th>2009</th>\n",
       "      <td>0.000000</td>\n",
       "    </tr>\n",
       "    <tr>\n",
       "      <th>2007</th>\n",
       "      <td>0.006773</td>\n",
       "    </tr>\n",
       "    <tr>\n",
       "      <th>2017</th>\n",
       "      <td>0.006153</td>\n",
       "    </tr>\n",
       "    <tr>\n",
       "      <th>USA_Location</th>\n",
       "      <td>0.007670</td>\n",
       "    </tr>\n",
       "    <tr>\n",
       "      <th>Armenia_Location</th>\n",
       "      <td>0.046765</td>\n",
       "    </tr>\n",
       "    <tr>\n",
       "      <th>Japan_Location</th>\n",
       "      <td>0.000000</td>\n",
       "    </tr>\n",
       "    <tr>\n",
       "      <th>Custom</th>\n",
       "      <td>0.000000</td>\n",
       "    </tr>\n",
       "    <tr>\n",
       "      <th>Full_Payment</th>\n",
       "      <td>0.033544</td>\n",
       "    </tr>\n",
       "    <tr>\n",
       "      <th>Hand_Drive</th>\n",
       "      <td>0.000000</td>\n",
       "    </tr>\n",
       "    <tr>\n",
       "      <th>SUV/Truck</th>\n",
       "      <td>0.000000</td>\n",
       "    </tr>\n",
       "    <tr>\n",
       "      <th>Sedan</th>\n",
       "      <td>0.000000</td>\n",
       "    </tr>\n",
       "  </tbody>\n",
       "</table>\n",
       "</div>"
      ],
      "text/plain": [
       "                        importance\n",
       "Price                     0.748131\n",
       "Mileage                   0.045136\n",
       "ToyotaCamry               0.000000\n",
       "ToyotaCorolla             0.009236\n",
       "ToyotaRav4                0.000000\n",
       "ToyotaLandCruiserPrado    0.007547\n",
       "ToyotaIpsum               0.000000\n",
       "ToyotaSienna              0.013794\n",
       "Toyota4-Runner            0.021042\n",
       "2014                      0.012937\n",
       "2011                      0.000000\n",
       "2010                      0.000000\n",
       "2012                      0.000000\n",
       "2013                      0.016928\n",
       "2015                      0.020018\n",
       "2016                      0.000000\n",
       "2008                      0.004326\n",
       "2009                      0.000000\n",
       "2007                      0.006773\n",
       "2017                      0.006153\n",
       "USA_Location              0.007670\n",
       "Armenia_Location          0.046765\n",
       "Japan_Location            0.000000\n",
       "Custom                    0.000000\n",
       "Full_Payment              0.033544\n",
       "Hand_Drive                0.000000\n",
       "SUV/Truck                 0.000000\n",
       "Sedan                     0.000000"
      ]
     },
     "execution_count": 489,
     "metadata": {},
     "output_type": "execute_result"
    }
   ],
   "source": [
    "#finding the important features\n",
    "importances=model_tree_6_b.feature_importances_\n",
    "features=pd.DataFrame(data=importances, columns=[\"importance\"], index=x.columns)\n",
    "features"
   ]
  },
  {
   "cell_type": "code",
   "execution_count": 490,
   "metadata": {},
   "outputs": [
    {
     "data": {
      "text/html": [
       "<div>\n",
       "<style scoped>\n",
       "    .dataframe tbody tr th:only-of-type {\n",
       "        vertical-align: middle;\n",
       "    }\n",
       "\n",
       "    .dataframe tbody tr th {\n",
       "        vertical-align: top;\n",
       "    }\n",
       "\n",
       "    .dataframe thead th {\n",
       "        text-align: right;\n",
       "    }\n",
       "</style>\n",
       "<table border=\"1\" class=\"dataframe\">\n",
       "  <thead>\n",
       "    <tr style=\"text-align: right;\">\n",
       "      <th></th>\n",
       "      <th>importance</th>\n",
       "    </tr>\n",
       "  </thead>\n",
       "  <tbody>\n",
       "    <tr>\n",
       "      <th>Price</th>\n",
       "      <td>0.748131</td>\n",
       "    </tr>\n",
       "    <tr>\n",
       "      <th>Armenia_Location</th>\n",
       "      <td>0.046765</td>\n",
       "    </tr>\n",
       "    <tr>\n",
       "      <th>Mileage</th>\n",
       "      <td>0.045136</td>\n",
       "    </tr>\n",
       "    <tr>\n",
       "      <th>Full_Payment</th>\n",
       "      <td>0.033544</td>\n",
       "    </tr>\n",
       "    <tr>\n",
       "      <th>Toyota4-Runner</th>\n",
       "      <td>0.021042</td>\n",
       "    </tr>\n",
       "    <tr>\n",
       "      <th>2015</th>\n",
       "      <td>0.020018</td>\n",
       "    </tr>\n",
       "    <tr>\n",
       "      <th>2013</th>\n",
       "      <td>0.016928</td>\n",
       "    </tr>\n",
       "    <tr>\n",
       "      <th>ToyotaSienna</th>\n",
       "      <td>0.013794</td>\n",
       "    </tr>\n",
       "    <tr>\n",
       "      <th>2014</th>\n",
       "      <td>0.012937</td>\n",
       "    </tr>\n",
       "    <tr>\n",
       "      <th>ToyotaCorolla</th>\n",
       "      <td>0.009236</td>\n",
       "    </tr>\n",
       "    <tr>\n",
       "      <th>USA_Location</th>\n",
       "      <td>0.007670</td>\n",
       "    </tr>\n",
       "    <tr>\n",
       "      <th>ToyotaLandCruiserPrado</th>\n",
       "      <td>0.007547</td>\n",
       "    </tr>\n",
       "    <tr>\n",
       "      <th>2007</th>\n",
       "      <td>0.006773</td>\n",
       "    </tr>\n",
       "    <tr>\n",
       "      <th>2017</th>\n",
       "      <td>0.006153</td>\n",
       "    </tr>\n",
       "    <tr>\n",
       "      <th>2008</th>\n",
       "      <td>0.004326</td>\n",
       "    </tr>\n",
       "  </tbody>\n",
       "</table>\n",
       "</div>"
      ],
      "text/plain": [
       "                        importance\n",
       "Price                     0.748131\n",
       "Armenia_Location          0.046765\n",
       "Mileage                   0.045136\n",
       "Full_Payment              0.033544\n",
       "Toyota4-Runner            0.021042\n",
       "2015                      0.020018\n",
       "2013                      0.016928\n",
       "ToyotaSienna              0.013794\n",
       "2014                      0.012937\n",
       "ToyotaCorolla             0.009236\n",
       "USA_Location              0.007670\n",
       "ToyotaLandCruiserPrado    0.007547\n",
       "2007                      0.006773\n",
       "2017                      0.006153\n",
       "2008                      0.004326"
      ]
     },
     "execution_count": 490,
     "metadata": {},
     "output_type": "execute_result"
    }
   ],
   "source": [
    "selected=features[features.importance>0.0001] \n",
    "selected.sort_values(by=\"importance\", ascending=False)"
   ]
  },
  {
   "cell_type": "code",
   "execution_count": 491,
   "metadata": {},
   "outputs": [],
   "source": [
    "selected_features=selected.index\n",
    "x_train_new=x_train[selected_features]\n",
    "x_test_new=x_test[selected_features]"
   ]
  },
  {
   "cell_type": "code",
   "execution_count": 492,
   "metadata": {},
   "outputs": [
    {
     "name": "stdout",
     "output_type": "stream",
     "text": [
      "Decision tree (max_depth=6, balanced, importants)\n",
      "Train:  69.20443101711984\n",
      "Test:  65.61933534743203\n",
      "Cross_Validation:  66.63350360496982\n",
      "Recall_Score:  63.59649122807017\n",
      "ROC_AUC Score:  64.76951400926984\n"
     ]
    }
   ],
   "source": [
    "model_tree_6_b_i=DecisionTreeClassifier(class_weight=\"balanced\", max_depth=6, random_state=42) \n",
    "model_tree_6_b_i.fit(x_train_new,y_train)\n",
    "\n",
    "print(\"Decision tree (max_depth=6, balanced, importants)\")\n",
    "print(\"Train: \", model_tree_6_b_i.score(x_train_new,y_train)*100)\n",
    "print(\"Test: \", model_tree_6_b_i.score(x_test_new,y_test)*100)\n",
    "print(\"Cross_Validation: \", cross_val_score(model_tree_6_b_i, x, y, cv=100).mean()*100)\n",
    "prediction2=model_tree_6_b_i.predict(x_test_new)\n",
    "print(\"Recall_Score: \", recall_score(y_test, prediction2)*100)\n",
    "print(\"ROC_AUC Score: \", roc_auc_score(y_test, prediction2)*100) "
   ]
  },
  {
   "cell_type": "code",
   "execution_count": 493,
   "metadata": {},
   "outputs": [],
   "source": [
    "#Constructing a model on a scaled dataset\n",
    "selected_features=selected.index\n",
    "X_train_new=X_train[selected_features]\n",
    "X_test_new=X_test[selected_features]"
   ]
  },
  {
   "cell_type": "code",
   "execution_count": 494,
   "metadata": {
    "scrolled": true
   },
   "outputs": [
    {
     "name": "stdout",
     "output_type": "stream",
     "text": [
      "Decision tree SCALED (max_depth=6, balanced, importants)\n",
      "Train:  69.20443101711984\n",
      "Test:  65.61933534743203\n",
      "Cross_Validation:  66.63350360496982\n",
      "Recall_Score:  63.59649122807017\n",
      "ROC_AUC Score:  64.76951400926984\n"
     ]
    }
   ],
   "source": [
    "#Scaled decision tree model\n",
    "model_tree_S=DecisionTreeClassifier(class_weight=\"balanced\", max_depth=6, random_state=42) \n",
    "model_tree_S.fit(X_train_new,Y_train)\n",
    "\n",
    "print(\"Decision tree SCALED (max_depth=6, balanced, importants)\")\n",
    "print(\"Train: \", model_tree_S.score(X_train_new,Y_train)*100)\n",
    "print(\"Test: \", model_tree_S.score(X_test_new,Y_test)*100)\n",
    "print(\"Cross_Validation: \", cross_val_score(model_tree_S, X, Y, cv=100).mean()*100)\n",
    "prediction2=model_tree_S.predict(X_test_new)\n",
    "print(\"Recall_Score: \", recall_score(Y_test, prediction2)*100)\n",
    "print(\"ROC_AUC Score: \", roc_auc_score(Y_test, prediction2)*100) "
   ]
  },
  {
   "cell_type": "markdown",
   "metadata": {},
   "source": [
    "The results of both scaled and unscaled models with balanced class and max_depth=6 have approximately the same results. These models show the best results with the roc_auc score=64.7, the score that we are mostly interested in."
   ]
  },
  {
   "cell_type": "markdown",
   "metadata": {},
   "source": [
    "### Logistic Regression"
   ]
  },
  {
   "cell_type": "code",
   "execution_count": 495,
   "metadata": {},
   "outputs": [
    {
     "data": {
      "text/plain": [
       "LogisticRegression(C=1.0, class_weight=None, dual=False, fit_intercept=True,\n",
       "          intercept_scaling=1, max_iter=100, multi_class='ovr', n_jobs=1,\n",
       "          penalty='l2', random_state=42, solver='liblinear', tol=0.0001,\n",
       "          verbose=0, warm_start=False)"
      ]
     },
     "execution_count": 495,
     "metadata": {},
     "output_type": "execute_result"
    }
   ],
   "source": [
    "model_logit = LogisticRegression(random_state=42)\n",
    "model_logit.fit(x_train,y_train)"
   ]
  },
  {
   "cell_type": "code",
   "execution_count": 496,
   "metadata": {},
   "outputs": [
    {
     "name": "stdout",
     "output_type": "stream",
     "text": [
      "Logistic Regression\n",
      "Train:  86.34441087613293\n",
      "Test:  86.22356495468277\n",
      "Cross_Validation:  86.31574746587913\n",
      "Recall_Score:  0.0\n",
      "ROC_AUC Score:  50.0\n"
     ]
    }
   ],
   "source": [
    "print(\"Logistic Regression\")\n",
    "\n",
    "print(\"Train: \", model_logit.score(x_train,y_train)*100)\n",
    "print(\"Test: \", model_logit.score(x_test,y_test)*100)\n",
    "print(\"Cross_Validation: \", cross_val_score(model_logit, x, y, cv=100).mean()*100)\n",
    "prediction=model_logit.predict(x_test)\n",
    "print(\"Recall_Score: \", recall_score(y_test, prediction)*100)\n",
    "print(\"ROC_AUC Score: \", roc_auc_score(y_test, prediction)*100) "
   ]
  },
  {
   "cell_type": "code",
   "execution_count": 497,
   "metadata": {},
   "outputs": [
    {
     "name": "stdout",
     "output_type": "stream",
     "text": [
      "Logistic Regression with balanced classes\n",
      "Train:  71.96374622356495\n",
      "Test:  71.8429003021148\n",
      "Cross_Validation:  70.49127357863094\n",
      "Recall_Score:  51.31578947368421\n",
      "ROC_AUC Score:  63.21921218603622\n"
     ]
    }
   ],
   "source": [
    "#balancing \"Purchased\"\n",
    "model_logit_b = LogisticRegression(class_weight=\"balanced\", random_state=42)\n",
    "model_logit_b.fit(x_train,y_train)\n",
    "\n",
    "print(\"Logistic Regression with balanced classes\")\n",
    "\n",
    "print(\"Train: \", model_logit_b.score(x_train,y_train)*100)\n",
    "print(\"Test: \", model_logit_b.score(x_test,y_test)*100)\n",
    "print(\"Cross_Validation: \", cross_val_score(model_logit_b, x, y, cv=100).mean()*100)\n",
    "prediction=model_logit_b.predict(x_test)\n",
    "print(\"Recall_Score: \", recall_score(y_test, prediction)*100)\n",
    "print(\"ROC_AUC Score: \", roc_auc_score(y_test, prediction)*100) "
   ]
  },
  {
   "cell_type": "code",
   "execution_count": 498,
   "metadata": {},
   "outputs": [
    {
     "name": "stdout",
     "output_type": "stream",
     "text": [
      "Logistic Regression SCALED with balanced classes\n",
      "Train:  65.01510574018127\n",
      "Test:  62.9607250755287\n",
      "Cross_Validation:  64.12960598079123\n",
      "Recall_Score:  59.210526315789465\n",
      "ROC_AUC Score:  61.38522111164386\n"
     ]
    }
   ],
   "source": [
    "#balancing \"Purchased\"\n",
    "model_logit_S = LogisticRegression(class_weight=\"balanced\", random_state=42)\n",
    "model_logit_S.fit(X_train,Y_train)\n",
    "\n",
    "print(\"Logistic Regression SCALED with balanced classes\")\n",
    "\n",
    "print(\"Train: \", model_logit_S.score(X_train,Y_train)*100)\n",
    "print(\"Test: \", model_logit_S.score(X_test,Y_test)*100)\n",
    "print(\"Cross_Validation: \", cross_val_score(model_logit_S, X, Y, cv=100).mean()*100)\n",
    "prediction=model_logit_S.predict(X_test)\n",
    "print(\"Recall_Score: \", recall_score(Y_test, prediction)*100)\n",
    "print(\"ROC_AUC Score: \", roc_auc_score(Y_test, prediction)*100) "
   ]
  },
  {
   "cell_type": "markdown",
   "metadata": {},
   "source": [
    "From the results above, we can see that the \"best\" model among logit models is model_logit_S with roc_auc=61.3."
   ]
  },
  {
   "cell_type": "markdown",
   "metadata": {},
   "source": [
    "### Random Forest"
   ]
  },
  {
   "cell_type": "code",
   "execution_count": 499,
   "metadata": {},
   "outputs": [
    {
     "name": "stdout",
     "output_type": "stream",
     "text": [
      "Random Forest\n",
      "Train:  97.90533736153073\n",
      "Test:  84.65256797583082\n",
      "Cross_Validation:  83.90752786867797\n",
      "Recall_Score:  18.859649122807017\n",
      "ROC_AUC Score:  57.012165136035605\n"
     ]
    }
   ],
   "source": [
    "model_rf = RandomForestClassifier(random_state=42)\n",
    "model_rf.fit(x_train, y_train)\n",
    "\n",
    "print(\"Random Forest\")\n",
    "print(\"Train: \", model_rf.score(x_train,y_train)*100)\n",
    "print(\"Test: \", model_rf.score(x_test,y_test)*100)\n",
    "print(\"Cross_Validation: \", cross_val_score(model_rf, x, y, cv=100).mean()*100)\n",
    "prediction=model_rf.predict(x_test)\n",
    "print(\"Recall_Score: \", recall_score(y_test, prediction)*100)\n",
    "print(\"ROC_AUC Score: \", roc_auc_score(y_test, prediction)*100)"
   ]
  },
  {
   "cell_type": "code",
   "execution_count": 273,
   "metadata": {},
   "outputs": [
    {
     "name": "stdout",
     "output_type": "stream",
     "text": [
      "{'max_depth': [5, 6, 7, 8, 9, 10, 11, 12, 13, 14, 15, 16, 17, 18, 19, 20], 'min_samples_leaf': [20, 40, 60, 80, 100, 120, 140, 160, 180, 200, 220, 240, 260, 280, 300, 320, 340, 360, 380]}\n",
      "GridSearchCV(cv=None, error_score='raise',\n",
      "       estimator=RandomForestClassifier(bootstrap=True, class_weight=None, criterion='gini',\n",
      "            max_depth=None, max_features='auto', max_leaf_nodes=None,\n",
      "            min_impurity_decrease=0.0, min_impurity_split=None,\n",
      "            min_samples_leaf=1, min_samples_split=2,\n",
      "            min_weight_fraction_leaf=0.0, n_estimators=10, n_jobs=1,\n",
      "            oob_score=False, random_state=42, verbose=0, warm_start=False),\n",
      "       fit_params=None, iid=True, n_jobs=1,\n",
      "       param_grid={'max_depth': [5, 6, 7, 8, 9, 10, 11, 12, 13, 14, 15, 16, 17, 18, 19, 20], 'min_samples_leaf': [20, 40, 60, 80, 100, 120, 140, 160, 180, 200, 220, 240, 260, 280, 300, 320, 340, 360, 380]},\n",
      "       pre_dispatch='2*n_jobs', refit=True, return_train_score='warn',\n",
      "       scoring=None, verbose=0)\n"
     ]
    },
    {
     "data": {
      "text/plain": [
       "GridSearchCV(cv=None, error_score='raise',\n",
       "       estimator=RandomForestClassifier(bootstrap=True, class_weight=None, criterion='gini',\n",
       "            max_depth=None, max_features='auto', max_leaf_nodes=None,\n",
       "            min_impurity_decrease=0.0, min_impurity_split=None,\n",
       "            min_samples_leaf=1, min_samples_split=2,\n",
       "            min_weight_fraction_leaf=0.0, n_estimators=10, n_jobs=1,\n",
       "            oob_score=False, random_state=42, verbose=0, warm_start=False),\n",
       "       fit_params=None, iid=True, n_jobs=1,\n",
       "       param_grid={'max_depth': [5, 6, 7, 8, 9, 10, 11, 12, 13, 14, 15, 16, 17, 18, 19, 20], 'min_samples_leaf': [20, 40, 60, 80, 100, 120, 140, 160, 180, 200, 220, 240, 260, 280, 300, 320, 340, 360, 380]},\n",
       "       pre_dispatch='2*n_jobs', refit=True, return_train_score='warn',\n",
       "       scoring=None, verbose=0)"
      ]
     },
     "execution_count": 273,
     "metadata": {},
     "output_type": "execute_result"
    }
   ],
   "source": [
    "#GridSearch\n",
    "max_depth_values = [k for k in range(5,21)]\n",
    "min_sample_values = [k for k in range(20, 400, 20)]\n",
    "parameters = {\"max_depth\":max_depth_values, \"min_samples_leaf\":min_sample_values}\n",
    "print(parameters)\n",
    "finder=GridSearchCV(model_rf,parameters) \n",
    "print(finder)\n",
    "finder.fit(x_train, y_train)"
   ]
  },
  {
   "cell_type": "code",
   "execution_count": 274,
   "metadata": {},
   "outputs": [
    {
     "name": "stdout",
     "output_type": "stream",
     "text": [
      "{'max_depth': 5, 'min_samples_leaf': 20}\n"
     ]
    }
   ],
   "source": [
    "print(finder.best_params_)"
   ]
  },
  {
   "cell_type": "code",
   "execution_count": 500,
   "metadata": {},
   "outputs": [
    {
     "name": "stdout",
     "output_type": "stream",
     "text": [
      "Train:  91.33937562940584\n",
      "Test:  85.74018126888218\n",
      "Differnce between train and test:  5.599194360523654\n"
     ]
    }
   ],
   "source": [
    "model_rf_14 = RandomForestClassifier(max_depth = 14, random_state=42)\n",
    "model_rf_14.fit(x_train,y_train)\n",
    "\n",
    "print(\"Train: \", model_rf_14.score(x_train,y_train)*100)\n",
    "print(\"Test: \", model_rf_14.score(x_test,y_test)*100)\n",
    "print(\"Differnce between train and test: \", model_rf_14.score(x_train,y_train)*100-model_rf_14.score(x_test,y_test)*100)"
   ]
  },
  {
   "cell_type": "code",
   "execution_count": 501,
   "metadata": {},
   "outputs": [
    {
     "name": "stdout",
     "output_type": "stream",
     "text": [
      "Train:  86.34441087613293\n",
      "Test:  86.22356495468277\n",
      "Differnce between train and test:  0.12084592145015449\n"
     ]
    }
   ],
   "source": [
    "model_rf_20 = RandomForestClassifier(min_samples_leaf=20, random_state=42)\n",
    "model_rf_20.fit(x_train,y_train)\n",
    "\n",
    "print(\"Train: \", model_rf_20.score(x_train,y_train)*100)\n",
    "print(\"Test: \", model_rf_20.score(x_test,y_test)*100)\n",
    "print(\"Differnce between train and test: \", model_rf_20.score(x_train,y_train)*100-model_rf_20.score(x_test,y_test)*100)"
   ]
  },
  {
   "cell_type": "code",
   "execution_count": 502,
   "metadata": {},
   "outputs": [
    {
     "name": "stdout",
     "output_type": "stream",
     "text": [
      "Train:  86.34441087613293\n",
      "Test:  86.16314199395771\n",
      "Differnce between train and test:  0.18126888217521753\n"
     ]
    }
   ],
   "source": [
    "model_rf_20_14 = RandomForestClassifier(min_samples_leaf=20, max_depth=14, random_state=42)\n",
    "model_rf_20_14.fit(x_train,y_train)\n",
    "\n",
    "print(\"Train: \", model_rf_20_14.score(x_train,y_train)*100)\n",
    "print(\"Test: \", model_rf_20_14.score(x_test,y_test)*100)\n",
    "print(\"Differnce between train and test: \", model_rf_20_14.score(x_train,y_train)*100-model_rf_20_14.score(x_test,y_test)*100)"
   ]
  },
  {
   "cell_type": "code",
   "execution_count": 503,
   "metadata": {},
   "outputs": [],
   "source": [
    "# We will further use model_rf_14 as its overall accuracy is the highests. We will use other techniques to fight overfitting."
   ]
  },
  {
   "cell_type": "code",
   "execution_count": 504,
   "metadata": {},
   "outputs": [
    {
     "name": "stdout",
     "output_type": "stream",
     "text": [
      "Random Forest max_depth=14\n",
      "Train 91.33937562940584\n",
      "Test 85.74018126888218\n",
      "Cross-Validation:  85.73885252879982\n",
      "Recall score:  11.842105263157894\n",
      "ROC_AUC score:  54.694703647696684\n"
     ]
    }
   ],
   "source": [
    "print(\"Random Forest max_depth=14\")\n",
    "print(\"Train\", model_rf_14.score(x_train,y_train)*100)\n",
    "print(\"Test\", model_rf_14.score(x_test,y_test)*100)\n",
    "print(\"Cross-Validation: \", cross_val_score(model_rf_14, x, y, cv=100).mean()*100)\n",
    "prediction=model_rf_14.predict(x_test)\n",
    "print(\"Recall score: \", recall_score(y_test, prediction)*100)\n",
    "print(\"ROC_AUC score: \", roc_auc_score(y_test, prediction)*100) "
   ]
  },
  {
   "cell_type": "code",
   "execution_count": 507,
   "metadata": {},
   "outputs": [
    {
     "name": "stdout",
     "output_type": "stream",
     "text": [
      "Random Forest with balanced classes and max_depth=14\n",
      "Train 85.55891238670695\n",
      "Test 71.05740181268882\n",
      "Cross-Validation:  72.21742889828931\n",
      "Recall score:  50.877192982456144\n",
      "ROC_AUC score:  62.579451431662534\n"
     ]
    }
   ],
   "source": [
    "#balancing the class labels for \"Purchased\"\n",
    "model_rf_14_b=DecisionTreeClassifier(class_weight=\"balanced\", max_depth = 14, random_state=42) \n",
    "model_rf_14_b.fit(x_train,y_train)\n",
    "\n",
    "print(\"Random Forest with balanced classes and max_depth=14\")\n",
    "print(\"Train\", model_rf_14_b.score(x_train,y_train)*100)\n",
    "print(\"Test\", model_rf_14_b.score(x_test,y_test)*100)\n",
    "print(\"Cross-Validation: \", cross_val_score(model_rf_14_b, x, y, cv=100).mean()*100)\n",
    "prediction=model_rf_14_b.predict(x_test)\n",
    "print(\"Recall score: \", recall_score(y_test, prediction)*100)\n",
    "print(\"ROC_AUC score: \", roc_auc_score(y_test, prediction)*100) "
   ]
  },
  {
   "cell_type": "code",
   "execution_count": 508,
   "metadata": {},
   "outputs": [
    {
     "data": {
      "text/html": [
       "<div>\n",
       "<style scoped>\n",
       "    .dataframe tbody tr th:only-of-type {\n",
       "        vertical-align: middle;\n",
       "    }\n",
       "\n",
       "    .dataframe tbody tr th {\n",
       "        vertical-align: top;\n",
       "    }\n",
       "\n",
       "    .dataframe thead th {\n",
       "        text-align: right;\n",
       "    }\n",
       "</style>\n",
       "<table border=\"1\" class=\"dataframe\">\n",
       "  <thead>\n",
       "    <tr style=\"text-align: right;\">\n",
       "      <th></th>\n",
       "      <th>importance</th>\n",
       "    </tr>\n",
       "  </thead>\n",
       "  <tbody>\n",
       "    <tr>\n",
       "      <th>Price</th>\n",
       "      <td>0.431334</td>\n",
       "    </tr>\n",
       "    <tr>\n",
       "      <th>Mileage</th>\n",
       "      <td>0.244612</td>\n",
       "    </tr>\n",
       "    <tr>\n",
       "      <th>ToyotaCamry</th>\n",
       "      <td>0.015760</td>\n",
       "    </tr>\n",
       "    <tr>\n",
       "      <th>ToyotaCorolla</th>\n",
       "      <td>0.027688</td>\n",
       "    </tr>\n",
       "    <tr>\n",
       "      <th>ToyotaRav4</th>\n",
       "      <td>0.005916</td>\n",
       "    </tr>\n",
       "    <tr>\n",
       "      <th>ToyotaLandCruiserPrado</th>\n",
       "      <td>0.013008</td>\n",
       "    </tr>\n",
       "    <tr>\n",
       "      <th>ToyotaIpsum</th>\n",
       "      <td>0.000544</td>\n",
       "    </tr>\n",
       "    <tr>\n",
       "      <th>ToyotaSienna</th>\n",
       "      <td>0.006755</td>\n",
       "    </tr>\n",
       "    <tr>\n",
       "      <th>Toyota4-Runner</th>\n",
       "      <td>0.010731</td>\n",
       "    </tr>\n",
       "    <tr>\n",
       "      <th>2014</th>\n",
       "      <td>0.023557</td>\n",
       "    </tr>\n",
       "    <tr>\n",
       "      <th>2011</th>\n",
       "      <td>0.004224</td>\n",
       "    </tr>\n",
       "    <tr>\n",
       "      <th>2010</th>\n",
       "      <td>0.014163</td>\n",
       "    </tr>\n",
       "    <tr>\n",
       "      <th>2012</th>\n",
       "      <td>0.009784</td>\n",
       "    </tr>\n",
       "    <tr>\n",
       "      <th>2013</th>\n",
       "      <td>0.019788</td>\n",
       "    </tr>\n",
       "    <tr>\n",
       "      <th>2015</th>\n",
       "      <td>0.009493</td>\n",
       "    </tr>\n",
       "    <tr>\n",
       "      <th>2016</th>\n",
       "      <td>0.013932</td>\n",
       "    </tr>\n",
       "    <tr>\n",
       "      <th>2008</th>\n",
       "      <td>0.018387</td>\n",
       "    </tr>\n",
       "    <tr>\n",
       "      <th>2009</th>\n",
       "      <td>0.001661</td>\n",
       "    </tr>\n",
       "    <tr>\n",
       "      <th>2007</th>\n",
       "      <td>0.011024</td>\n",
       "    </tr>\n",
       "    <tr>\n",
       "      <th>2017</th>\n",
       "      <td>0.014065</td>\n",
       "    </tr>\n",
       "    <tr>\n",
       "      <th>USA_Location</th>\n",
       "      <td>0.003393</td>\n",
       "    </tr>\n",
       "    <tr>\n",
       "      <th>Armenia_Location</th>\n",
       "      <td>0.018499</td>\n",
       "    </tr>\n",
       "    <tr>\n",
       "      <th>Japan_Location</th>\n",
       "      <td>0.001025</td>\n",
       "    </tr>\n",
       "    <tr>\n",
       "      <th>Custom</th>\n",
       "      <td>0.005761</td>\n",
       "    </tr>\n",
       "    <tr>\n",
       "      <th>Full_Payment</th>\n",
       "      <td>0.028476</td>\n",
       "    </tr>\n",
       "    <tr>\n",
       "      <th>Hand_Drive</th>\n",
       "      <td>0.013579</td>\n",
       "    </tr>\n",
       "    <tr>\n",
       "      <th>SUV/Truck</th>\n",
       "      <td>0.017554</td>\n",
       "    </tr>\n",
       "    <tr>\n",
       "      <th>Sedan</th>\n",
       "      <td>0.015284</td>\n",
       "    </tr>\n",
       "  </tbody>\n",
       "</table>\n",
       "</div>"
      ],
      "text/plain": [
       "                        importance\n",
       "Price                     0.431334\n",
       "Mileage                   0.244612\n",
       "ToyotaCamry               0.015760\n",
       "ToyotaCorolla             0.027688\n",
       "ToyotaRav4                0.005916\n",
       "ToyotaLandCruiserPrado    0.013008\n",
       "ToyotaIpsum               0.000544\n",
       "ToyotaSienna              0.006755\n",
       "Toyota4-Runner            0.010731\n",
       "2014                      0.023557\n",
       "2011                      0.004224\n",
       "2010                      0.014163\n",
       "2012                      0.009784\n",
       "2013                      0.019788\n",
       "2015                      0.009493\n",
       "2016                      0.013932\n",
       "2008                      0.018387\n",
       "2009                      0.001661\n",
       "2007                      0.011024\n",
       "2017                      0.014065\n",
       "USA_Location              0.003393\n",
       "Armenia_Location          0.018499\n",
       "Japan_Location            0.001025\n",
       "Custom                    0.005761\n",
       "Full_Payment              0.028476\n",
       "Hand_Drive                0.013579\n",
       "SUV/Truck                 0.017554\n",
       "Sedan                     0.015284"
      ]
     },
     "execution_count": 508,
     "metadata": {},
     "output_type": "execute_result"
    }
   ],
   "source": [
    "#finding the important features\n",
    "importances=model_rf_14_b.feature_importances_\n",
    "features=pd.DataFrame(data=importances, columns=[\"importance\"], index=x.columns)\n",
    "features"
   ]
  },
  {
   "cell_type": "code",
   "execution_count": 509,
   "metadata": {},
   "outputs": [
    {
     "data": {
      "text/html": [
       "<div>\n",
       "<style scoped>\n",
       "    .dataframe tbody tr th:only-of-type {\n",
       "        vertical-align: middle;\n",
       "    }\n",
       "\n",
       "    .dataframe tbody tr th {\n",
       "        vertical-align: top;\n",
       "    }\n",
       "\n",
       "    .dataframe thead th {\n",
       "        text-align: right;\n",
       "    }\n",
       "</style>\n",
       "<table border=\"1\" class=\"dataframe\">\n",
       "  <thead>\n",
       "    <tr style=\"text-align: right;\">\n",
       "      <th></th>\n",
       "      <th>importance</th>\n",
       "    </tr>\n",
       "  </thead>\n",
       "  <tbody>\n",
       "    <tr>\n",
       "      <th>Price</th>\n",
       "      <td>0.431334</td>\n",
       "    </tr>\n",
       "    <tr>\n",
       "      <th>Mileage</th>\n",
       "      <td>0.244612</td>\n",
       "    </tr>\n",
       "    <tr>\n",
       "      <th>Full_Payment</th>\n",
       "      <td>0.028476</td>\n",
       "    </tr>\n",
       "    <tr>\n",
       "      <th>ToyotaCorolla</th>\n",
       "      <td>0.027688</td>\n",
       "    </tr>\n",
       "    <tr>\n",
       "      <th>2014</th>\n",
       "      <td>0.023557</td>\n",
       "    </tr>\n",
       "    <tr>\n",
       "      <th>2013</th>\n",
       "      <td>0.019788</td>\n",
       "    </tr>\n",
       "    <tr>\n",
       "      <th>Armenia_Location</th>\n",
       "      <td>0.018499</td>\n",
       "    </tr>\n",
       "    <tr>\n",
       "      <th>2008</th>\n",
       "      <td>0.018387</td>\n",
       "    </tr>\n",
       "    <tr>\n",
       "      <th>SUV/Truck</th>\n",
       "      <td>0.017554</td>\n",
       "    </tr>\n",
       "    <tr>\n",
       "      <th>ToyotaCamry</th>\n",
       "      <td>0.015760</td>\n",
       "    </tr>\n",
       "    <tr>\n",
       "      <th>Sedan</th>\n",
       "      <td>0.015284</td>\n",
       "    </tr>\n",
       "    <tr>\n",
       "      <th>2010</th>\n",
       "      <td>0.014163</td>\n",
       "    </tr>\n",
       "    <tr>\n",
       "      <th>2017</th>\n",
       "      <td>0.014065</td>\n",
       "    </tr>\n",
       "    <tr>\n",
       "      <th>2016</th>\n",
       "      <td>0.013932</td>\n",
       "    </tr>\n",
       "    <tr>\n",
       "      <th>Hand_Drive</th>\n",
       "      <td>0.013579</td>\n",
       "    </tr>\n",
       "    <tr>\n",
       "      <th>ToyotaLandCruiserPrado</th>\n",
       "      <td>0.013008</td>\n",
       "    </tr>\n",
       "    <tr>\n",
       "      <th>2007</th>\n",
       "      <td>0.011024</td>\n",
       "    </tr>\n",
       "    <tr>\n",
       "      <th>Toyota4-Runner</th>\n",
       "      <td>0.010731</td>\n",
       "    </tr>\n",
       "  </tbody>\n",
       "</table>\n",
       "</div>"
      ],
      "text/plain": [
       "                        importance\n",
       "Price                     0.431334\n",
       "Mileage                   0.244612\n",
       "Full_Payment              0.028476\n",
       "ToyotaCorolla             0.027688\n",
       "2014                      0.023557\n",
       "2013                      0.019788\n",
       "Armenia_Location          0.018499\n",
       "2008                      0.018387\n",
       "SUV/Truck                 0.017554\n",
       "ToyotaCamry               0.015760\n",
       "Sedan                     0.015284\n",
       "2010                      0.014163\n",
       "2017                      0.014065\n",
       "2016                      0.013932\n",
       "Hand_Drive                0.013579\n",
       "ToyotaLandCruiserPrado    0.013008\n",
       "2007                      0.011024\n",
       "Toyota4-Runner            0.010731"
      ]
     },
     "execution_count": 509,
     "metadata": {},
     "output_type": "execute_result"
    }
   ],
   "source": [
    "selected=features[features.importance>0.01] \n",
    "selected.sort_values(by=\"importance\", ascending=False)"
   ]
  },
  {
   "cell_type": "code",
   "execution_count": 510,
   "metadata": {},
   "outputs": [],
   "source": [
    "selected_features=selected.index\n",
    "x_train_new=x_train[selected_features]\n",
    "x_test_new=x_test[selected_features]"
   ]
  },
  {
   "cell_type": "code",
   "execution_count": 511,
   "metadata": {},
   "outputs": [
    {
     "name": "stdout",
     "output_type": "stream",
     "text": [
      "Random Forest (max_depth=14, balanced, importants)\n",
      "Train:  91.8026183282981\n",
      "Test:  79.63746223564955\n",
      "Cross_Validation:  77.98625854683802\n",
      "Recall_Score:  29.385964912280706\n",
      "ROC_AUC Score:  58.526198994332354\n"
     ]
    }
   ],
   "source": [
    "model_rf_14_b_i=RandomForestClassifier(class_weight=\"balanced\", max_depth=14, random_state=42) \n",
    "model_rf_14_b_i.fit(x_train_new,y_train)\n",
    "\n",
    "print(\"Random Forest (max_depth=14, balanced, importants)\")\n",
    "print(\"Train: \", model_rf_14_b_i.score(x_train_new,y_train)*100)\n",
    "print(\"Test: \", model_rf_14_b_i.score(x_test_new,y_test)*100)\n",
    "print(\"Cross_Validation: \", cross_val_score(model_rf_14_b_i, x, y, cv=100).mean()*100)\n",
    "prediction2=model_rf_14_b_i.predict(x_test_new)\n",
    "print(\"Recall_Score: \", recall_score(y_test, prediction2)*100)\n",
    "print(\"ROC_AUC Score: \", roc_auc_score(y_test, prediction2)*100) "
   ]
  },
  {
   "cell_type": "code",
   "execution_count": 512,
   "metadata": {},
   "outputs": [
    {
     "name": "stdout",
     "output_type": "stream",
     "text": [
      "Random Forest (max_depth=14, balanced, importants)\n",
      "Train:  93.61530715005036\n",
      "Test:  81.08761329305136\n",
      "Cross_Validation:  80.01298986351665\n",
      "Recall_Score:  37.719298245614034\n",
      "ROC_AUC Score:  62.86805837298222\n"
     ]
    }
   ],
   "source": [
    "model_rf_14_b_n=RandomForestClassifier(class_weight=\"balanced\", n_estimators=200, max_depth=14, random_state=42) \n",
    "model_rf_14_b_n.fit(x_train,y_train)\n",
    "\n",
    "print(\"Random Forest (max_depth=14, balanced, importants)\")\n",
    "print(\"Train: \", model_rf_14_b_n.score(x_train,y_train)*100)\n",
    "print(\"Test: \", model_rf_14_b_n.score(x_test,y_test)*100)\n",
    "print(\"Cross_Validation: \", cross_val_score(model_rf_14_b_n, x, y, cv=100).mean()*100)\n",
    "prediction2=model_rf_14_b_n.predict(x_test)\n",
    "print(\"Recall_Score: \", recall_score(y_test, prediction2)*100)\n",
    "print(\"ROC_AUC Score: \", roc_auc_score(y_test, prediction2)*100) "
   ]
  },
  {
   "cell_type": "code",
   "execution_count": 514,
   "metadata": {},
   "outputs": [
    {
     "name": "stdout",
     "output_type": "stream",
     "text": [
      "SCALED Random Forest with balanced classes and max_depth=14\n",
      "Train 85.55891238670695\n",
      "Test 71.05740181268882\n",
      "Recall score:  50.877192982456144\n",
      "ROC_AUC score:  62.579451431662534\n"
     ]
    }
   ],
   "source": [
    "#Building a model with scaled numeric values\n",
    "model_rf_S=DecisionTreeClassifier(class_weight=\"balanced\", max_depth = 14, random_state=42) \n",
    "model_rf_S.fit(X_train,Y_train)\n",
    "\n",
    "print(\"SCALED Random Forest with balanced classes and max_depth=14\")\n",
    "print(\"Train\", model_rf_S.score(X_train,Y_train)*100)\n",
    "print(\"Test\", model_rf_S.score(X_test,Y_test)*100)\n",
    "#print(\"Cross-Validation: \", cross_val_score(model_rf_S, X, Y, cv=100).mean()*100)\n",
    "prediction=model_rf_S.predict(X_test)\n",
    "print(\"Recall score: \", recall_score(Y_test, prediction)*100)\n",
    "print(\"ROC_AUC score: \", roc_auc_score(Y_test, prediction)*100) "
   ]
  },
  {
   "cell_type": "markdown",
   "metadata": {},
   "source": [
    "From the results above, we can see that the random forest model does not perform well. The higests recall score that was achieved by random forest was 51, which is not a good indicator."
   ]
  },
  {
   "cell_type": "markdown",
   "metadata": {},
   "source": [
    "### Gradient Boosting"
   ]
  },
  {
   "cell_type": "code",
   "execution_count": 515,
   "metadata": {},
   "outputs": [
    {
     "name": "stdout",
     "output_type": "stream",
     "text": [
      "Gradient Boosting\n",
      "Train:  87.37160120845921\n",
      "Test:  86.52567975830816\n",
      "Recall_Score:  5.701754385964912\n",
      "ROC_AUC Score:  52.57056885380936\n"
     ]
    }
   ],
   "source": [
    "model_gb = GradientBoostingClassifier(random_state=42)\n",
    "model_gb.fit(x_train, y_train)\n",
    "\n",
    "print(\"Gradient Boosting\")\n",
    "print(\"Train: \", model_gb.score(x_train,y_train)*100)\n",
    "print(\"Test: \", model_gb.score(x_test,y_test)*100)\n",
    "#print(\"Cross_Validation: \", cross_val_score(model_gb, x, y, cv=100).mean()*100)\n",
    "prediction=model_gb.predict(x_test)\n",
    "print(\"Recall_Score: \", recall_score(y_test, prediction)*100)\n",
    "print(\"ROC_AUC Score: \", roc_auc_score(y_test, prediction)*100)"
   ]
  },
  {
   "cell_type": "code",
   "execution_count": 516,
   "metadata": {},
   "outputs": [
    {
     "name": "stdout",
     "output_type": "stream",
     "text": [
      "Train:  99.91943605236656\n",
      "Test:  84.83383685800604\n",
      "Difference between train and test:  15.085599194360526\n"
     ]
    }
   ],
   "source": [
    "#as the grid search does not work on gradient boosting, we will use the same parameters for tuning, as we used for random forest\n",
    "model_gb_14 = GradientBoostingClassifier(max_depth = 14, random_state=42)\n",
    "model_gb_14.fit(x_train,y_train)\n",
    "\n",
    "print(\"Train: \", model_gb_14.score(x_train,y_train)*100)\n",
    "print(\"Test: \", model_gb_14.score(x_test,y_test)*100)\n",
    "print(\"Difference between train and test: \", model_gb_14.score(x_train,y_train)*100-model_gb_14.score(x_test,y_test)*100)"
   ]
  },
  {
   "cell_type": "code",
   "execution_count": 517,
   "metadata": {},
   "outputs": [
    {
     "name": "stdout",
     "output_type": "stream",
     "text": [
      "Train:  87.06948640483384\n",
      "Test:  86.04229607250755\n",
      "Difference between train and test:  1.0271903323262848\n"
     ]
    }
   ],
   "source": [
    "model_gb_20 = GradientBoostingClassifier(min_samples_leaf=20, random_state=42)\n",
    "model_gb_20.fit(x_train,y_train)\n",
    "\n",
    "print(\"Train: \", model_gb_20.score(x_train,y_train)*100)\n",
    "print(\"Test: \", model_gb_20.score(x_test,y_test)*100)\n",
    "print(\"Difference between train and test: \", model_gb_20.score(x_train,y_train)*100-model_gb_20.score(x_test,y_test)*100)"
   ]
  },
  {
   "cell_type": "code",
   "execution_count": 518,
   "metadata": {},
   "outputs": [
    {
     "name": "stdout",
     "output_type": "stream",
     "text": [
      "Train:  93.45417925478348\n",
      "Test:  85.74018126888218\n",
      "Difference between train and test:  7.713997985901301\n"
     ]
    }
   ],
   "source": [
    "model_gb_20_14 = GradientBoostingClassifier(min_samples_leaf=20, max_depth=14, random_state=42)\n",
    "model_gb_20_14.fit(x_train,y_train)\n",
    "\n",
    "print(\"Train: \", model_gb_20_14.score(x_train,y_train)*100)\n",
    "print(\"Test: \", model_gb_20_14.score(x_test,y_test)*100)\n",
    "print(\"Difference between train and test: \", model_gb_20_14.score(x_train,y_train)*100-model_gb_20_14.score(x_test,y_test)*100)"
   ]
  },
  {
   "cell_type": "code",
   "execution_count": 519,
   "metadata": {},
   "outputs": [],
   "source": [
    "#we will further use model_gb_20_14 and find other ways to fight overfitting"
   ]
  },
  {
   "cell_type": "code",
   "execution_count": 520,
   "metadata": {},
   "outputs": [
    {
     "name": "stdout",
     "output_type": "stream",
     "text": [
      "Gradient Boosting with 200 estimators\n",
      "Train 96.83786505538772\n",
      "Test 85.25679758308156\n",
      "Recall score:  19.736842105263158\n",
      "ROC_AUC score:  57.73106996643676\n"
     ]
    }
   ],
   "source": [
    "#n_estimators=200\n",
    "model_gb_20_14_n=GradientBoostingClassifier(n_estimators=200, max_depth = 14, min_samples_leaf=20, random_state=42) \n",
    "model_gb_20_14_n.fit(x_train,y_train)\n",
    "\n",
    "print(\"Gradient Boosting with 200 estimators\")\n",
    "print(\"Train\", model_gb_20_14_n.score(x_train,y_train)*100)\n",
    "print(\"Test\", model_gb_20_14_n.score(x_test,y_test)*100)\n",
    "#print(\"Cross-Validation: \", cross_val_score(model_gb_20_14_b, x, y, cv=100).mean()*100)\n",
    "prediction=model_gb_20_14_n.predict(x_test)\n",
    "print(\"Recall score: \", recall_score(y_test, prediction)*100)\n",
    "print(\"ROC_AUC score: \", roc_auc_score(y_test, prediction)*100)"
   ]
  },
  {
   "cell_type": "code",
   "execution_count": 521,
   "metadata": {},
   "outputs": [
    {
     "name": "stdout",
     "output_type": "stream",
     "text": [
      "SCALED Gradient Boosting with 200 estimators\n",
      "Train 93.45417925478348\n",
      "Test 85.74018126888218\n",
      "Recall score:  17.105263157894736\n",
      "ROC_AUC score:  56.90582008630546\n"
     ]
    }
   ],
   "source": [
    "#n_estimators=200\n",
    "model_gb_S=GradientBoostingClassifier(max_depth = 14, min_samples_leaf=20, random_state=42) \n",
    "model_gb_S.fit(X_train,Y_train)\n",
    "\n",
    "print(\"SCALED Gradient Boosting with 200 estimators\")\n",
    "print(\"Train\", model_gb_S.score(X_train,Y_train)*100)\n",
    "print(\"Test\", model_gb_S.score(X_test,Y_test)*100)\n",
    "#print(\"Cross-Validation: \", cross_val_score(model_gb_20_14_b, x, y, cv=100).mean()*100)\n",
    "prediction=model_gb_S.predict(X_test)\n",
    "print(\"Recall score: \", recall_score(Y_test, prediction)*100)\n",
    "print(\"ROC_AUC score: \", roc_auc_score(Y_test, prediction)*100)"
   ]
  },
  {
   "cell_type": "markdown",
   "metadata": {},
   "source": [
    "As we can see from the results above, scaled and unscaled models of gradient boosting do not differ from each other. The best model among gradient boosting models is model_gb_20_14_n with 200 n_estimators, 20 min_samples_leaf and max_depth=14."
   ]
  },
  {
   "cell_type": "markdown",
   "metadata": {},
   "source": [
    "### Neural Network"
   ]
  },
  {
   "cell_type": "code",
   "execution_count": 522,
   "metadata": {},
   "outputs": [],
   "source": [
    "y = new[\"Purchased\"]\n",
    "x = new.drop(\"Purchased\",axis=1)"
   ]
  },
  {
   "cell_type": "code",
   "execution_count": 523,
   "metadata": {},
   "outputs": [],
   "source": [
    "x_train, x_test, y_train, y_test = train_test_split(x,y,test_size=0.25,random_state=42)"
   ]
  },
  {
   "cell_type": "code",
   "execution_count": 524,
   "metadata": {},
   "outputs": [
    {
     "data": {
      "text/plain": [
       "StandardScaler(copy=True, with_mean=True, with_std=True)"
      ]
     },
     "execution_count": 524,
     "metadata": {},
     "output_type": "execute_result"
    }
   ],
   "source": [
    "scaler=StandardScaler()\n",
    "\n",
    "# Fit only to the training data\n",
    "scaler.fit(x_train)"
   ]
  },
  {
   "cell_type": "code",
   "execution_count": 525,
   "metadata": {},
   "outputs": [],
   "source": [
    "# Now apply the transformations to the data:\n",
    "x_train = scaler.transform(x_train)\n",
    "x_test = scaler.transform(x_test)"
   ]
  },
  {
   "cell_type": "code",
   "execution_count": 563,
   "metadata": {},
   "outputs": [
    {
     "data": {
      "text/plain": [
       "MLPClassifier(activation='relu', alpha=0.0001, batch_size='auto', beta_1=0.9,\n",
       "       beta_2=0.999, early_stopping=False, epsilon=1e-08,\n",
       "       hidden_layer_sizes=(30, 30, 30, 30, 30), learning_rate='constant',\n",
       "       learning_rate_init=0.001, max_iter=100000000, momentum=0.9,\n",
       "       nesterovs_momentum=True, power_t=0.5, random_state=42, shuffle=True,\n",
       "       solver='sgd', tol=1e-05, validation_fraction=0.1, verbose=False,\n",
       "       warm_start=False)"
      ]
     },
     "execution_count": 563,
     "metadata": {},
     "output_type": "execute_result"
    }
   ],
   "source": [
    "mlp2 = MLPClassifier(activation='relu',solver='sgd', alpha=0.0001, hidden_layer_sizes=(30,30,30,30,30), tol=0.00001, max_iter=100000000, random_state=42)\n",
    "mlp2.fit(x_train,y_train)"
   ]
  },
  {
   "cell_type": "code",
   "execution_count": 564,
   "metadata": {},
   "outputs": [
    {
     "name": "stdout",
     "output_type": "stream",
     "text": [
      "Neural Network\n",
      "Train:  88.11681772406847\n",
      "Test:  85.55891238670695\n",
      "Recall_Score:  18.421052631578945\n",
      "ROC_AUC Score:  57.353483568767736\n"
     ]
    }
   ],
   "source": [
    "print(\"Neural Network\")\n",
    "print(\"Train: \", mlp2.score(x_train,y_train)*100)\n",
    "print(\"Test: \", mlp2.score(x_test,y_test)*100)\n",
    "#print(\"Cross_Validation: \", cross_val_score(mlp, x, y, cv=100).mean()*100)\n",
    "prediction2=mlp2.predict(x_test)\n",
    "print(\"Recall_Score: \", recall_score(y_test, prediction2)*100)\n",
    "print(\"ROC_AUC Score: \", roc_auc_score(y_test, prediction2)*100) "
   ]
  },
  {
   "cell_type": "markdown",
   "metadata": {},
   "source": [
    "From the classification models, the best performer was decision tree. Although many models showed more higher overall accuracy scores, close to 90%, their recall and roc_auc scores were very low compared to the decision tree. The best identified model among the decision tree models was the one with balanced classes and max_depth=6. Its parameters are the following:\n",
    "\n",
    "Train 69.204\n",
    "\n",
    "Test 65.619\n",
    "\n",
    "Cross-Validation:  66.633\n",
    "\n",
    "Recall score:  63.596\n",
    "\n",
    "ROC_AUC score:  64.769"
   ]
  },
  {
   "cell_type": "code",
   "execution_count": null,
   "metadata": {},
   "outputs": [],
   "source": []
  }
 ],
 "metadata": {
  "kernelspec": {
   "display_name": "Python 3",
   "language": "python",
   "name": "python3"
  },
  "language_info": {
   "codemirror_mode": {
    "name": "ipython",
    "version": 3
   },
   "file_extension": ".py",
   "mimetype": "text/x-python",
   "name": "python",
   "nbconvert_exporter": "python",
   "pygments_lexer": "ipython3",
   "version": "3.6.4"
  }
 },
 "nbformat": 4,
 "nbformat_minor": 2
}
