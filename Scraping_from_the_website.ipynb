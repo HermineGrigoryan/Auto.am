{
 "cells": [
  {
   "cell_type": "markdown",
   "metadata": {},
   "source": [
    "# Scraping data from auto.am\n",
    "\n",
    "Only Toyota Cars were chosen for scraping"
   ]
  },
  {
   "cell_type": "code",
   "execution_count": null,
   "metadata": {},
   "outputs": [],
   "source": [
    "#importing libraries\n",
    "from selenium import webdriver\n",
    "from bs4 import BeautifulSoup\n",
    "import time\n",
    "from pprint import pprint\n",
    "import numpy as np\n",
    "import pandas as pd"
   ]
  },
  {
   "cell_type": "code",
   "execution_count": null,
   "metadata": {},
   "outputs": [],
   "source": [
    "#url of the website\n",
    "url = [\"https://auto.am/search/passenger-cars?q={%22category%22:%221%22,%22page%22:%22\" + \n",
    "       str(j+1) + \"%22,%22sort%22:%22latest%22,%22layout%22:%22list%22,%22user%22:{%22dealer%22:%220%22,%22id%22:%22%22},%22make%22:[%22386%22],%22year%22:{%22gt%22:%221911%22,%22lt%22:%222019%22},%22usdprice%22:{%22gt%22:%220%22,%22lt%22:%22100000000%22},%22mileage%22:{%22gt%22:%2210%22,%22lt%22:%221000000%22}}\" \n",
    "       for j in range(135)]"
   ]
  },
  {
   "cell_type": "code",
   "execution_count": null,
   "metadata": {},
   "outputs": [],
   "source": [
    "page=[]\n",
    "soup=[]\n",
    "model=[]\n",
    "year=[]\n",
    "date=[]\n",
    "desc=[]\n",
    "loc=[]\n",
    "maks=[]\n",
    "price=[]\n",
    "xary=[]\n",
    "browser = webdriver.Chrome() \n",
    "for i in range(135):\n",
    "    browser.get(url[i])\n",
    "    page.append(browser.page_source)\n",
    "    soup.append(BeautifulSoup(page[i], \"lxml\"))\n",
    "    model.append(soup[i].find_all('span', attrs={'class':'card-title bold'}))\n",
    "    year.append(soup[i].find_all('span', attrs={'class':'grey-text'}))\n",
    "    date.append(soup[i].find_all('div', attrs={'class':'absolute offer-aded-date'}))\n",
    "    desc.append(soup[i].find_all('div', attrs={'class':'card-desc'}))\n",
    "    loc.append(soup[i].find_all('span', attrs={'class':'brown-text'}))\n",
    "    price.append(soup[i].find_all('div', attrs={'class':'price bold blue-text'}))  \n",
    "    xary.append(soup[i].find_all('div', attrs={'class':'card-loc'}))  "
   ]
  },
  {
   "cell_type": "code",
   "execution_count": null,
   "metadata": {},
   "outputs": [],
   "source": [
    "#car model\n",
    "model2 = [item for sublist in model for item in sublist]\n",
    "modelFinal=[]\n",
    "for d in model2:\n",
    "    # print(d.text)\n",
    "    modelFinal.append(d.text)\n",
    "modelFinal"
   ]
  },
  {
   "cell_type": "code",
   "execution_count": null,
   "metadata": {},
   "outputs": [],
   "source": [
    "ankap = ['\\n','\\xa0']\n",
    "for element in ankap:\n",
    "    modelFinal[:] = [w.replace(element,'') for w in modelFinal]"
   ]
  },
  {
   "cell_type": "code",
   "execution_count": null,
   "metadata": {},
   "outputs": [],
   "source": [
    "first_digits = ['1','2']\n",
    "modelFinal2 = [mod for mod in modelFinal if (mod[0] in first_digits)]\n",
    "modelFinal2"
   ]
  },
  {
   "cell_type": "code",
   "execution_count": null,
   "metadata": {},
   "outputs": [],
   "source": [
    "modelFinal3 = []\n",
    "for site in modelFinal2:\n",
    "    modelFinal3.append(site[4:])"
   ]
  },
  {
   "cell_type": "code",
   "execution_count": null,
   "metadata": {},
   "outputs": [],
   "source": [
    "modelFinal3[:] = [w.replace('   ','') for w in modelFinal3]"
   ]
  },
  {
   "cell_type": "code",
   "execution_count": null,
   "metadata": {},
   "outputs": [],
   "source": [
    "modelFinal3"
   ]
  },
  {
   "cell_type": "markdown",
   "metadata": {},
   "source": [
    "modelFinal3 is final list for model name"
   ]
  },
  {
   "cell_type": "code",
   "execution_count": null,
   "metadata": {},
   "outputs": [],
   "source": [
    "year2 = [item for sublist in year for item in sublist]\n",
    "yearFinal=[]\n",
    "for d in year2:\n",
    "    # print(d.text)\n",
    "    yearFinal.append(d.text)\n",
    "yearFinal"
   ]
  },
  {
   "cell_type": "markdown",
   "metadata": {},
   "source": [
    "yearFinal is final list for model year"
   ]
  },
  {
   "cell_type": "code",
   "execution_count": null,
   "metadata": {},
   "outputs": [],
   "source": [
    "date2 = [item for sublist in date for item in sublist]\n",
    "dateFinal=[]\n",
    "for d in date2:\n",
    "    # print(d.text)\n",
    "    dateFinal.append(d.text)\n",
    "dateFinal"
   ]
  },
  {
   "cell_type": "code",
   "execution_count": null,
   "metadata": {},
   "outputs": [],
   "source": [
    "ankap = ['\\n',' ']\n",
    "for element in ankap:\n",
    "    dateFinal[:] = [w.replace(element,'') for w in dateFinal]\n",
    "dateFinal"
   ]
  },
  {
   "cell_type": "markdown",
   "metadata": {},
   "source": [
    "dateFinal is final list for date posted"
   ]
  },
  {
   "cell_type": "code",
   "execution_count": null,
   "metadata": {},
   "outputs": [],
   "source": [
    "desc2 = [item for sublist in desc for item in sublist]\n",
    "descFinal=[]\n",
    "for d in desc2:\n",
    "    # print(d.text)\n",
    "    descFinal.append(d.text)\n",
    "descFinal"
   ]
  },
  {
   "cell_type": "code",
   "execution_count": null,
   "metadata": {},
   "outputs": [],
   "source": [
    "ankap=['\\n',' ']\n",
    "for element in ankap:\n",
    "    descFinal[:] = [w.replace(element,'') for w in descFinal]\n",
    "descFinal"
   ]
  },
  {
   "cell_type": "code",
   "execution_count": null,
   "metadata": {},
   "outputs": [],
   "source": [
    "len(descFinal)"
   ]
  },
  {
   "cell_type": "markdown",
   "metadata": {},
   "source": [
    "descFinal is final list for descriptions"
   ]
  },
  {
   "cell_type": "code",
   "execution_count": null,
   "metadata": {},
   "outputs": [],
   "source": [
    "loc2 = [item for sublist in loc for item in sublist]\n",
    "locFinal=[]\n",
    "for d in loc2:\n",
    "    # print(d.text)\n",
    "    locFinal.append(d.text)\n",
    "locFinal"
   ]
  },
  {
   "cell_type": "code",
   "execution_count": null,
   "metadata": {},
   "outputs": [],
   "source": [
    "len(locFinal)"
   ]
  },
  {
   "cell_type": "markdown",
   "metadata": {},
   "source": [
    "locFinal is final list for location"
   ]
  },
  {
   "cell_type": "code",
   "execution_count": null,
   "metadata": {},
   "outputs": [],
   "source": [
    "price2 = [item for sublist in price for item in sublist]\n",
    "priceFinal=[]\n",
    "for d in price2:\n",
    "    # print(d.text)\n",
    "    priceFinal.append(d.text)\n",
    "priceFinal"
   ]
  },
  {
   "cell_type": "code",
   "execution_count": null,
   "metadata": {},
   "outputs": [],
   "source": [
    "priceFinal[:] = [w.replace('\\n','') for w in priceFinal]\n",
    "priceFinal"
   ]
  },
  {
   "cell_type": "code",
   "execution_count": null,
   "metadata": {},
   "outputs": [],
   "source": [
    "len(priceFinal)"
   ]
  },
  {
   "cell_type": "markdown",
   "metadata": {},
   "source": [
    "priceFinal is final list for price"
   ]
  },
  {
   "cell_type": "code",
   "execution_count": null,
   "metadata": {},
   "outputs": [],
   "source": [
    "xary2 = [item for sublist in xary for item in sublist]\n",
    "xary2"
   ]
  },
  {
   "cell_type": "code",
   "execution_count": null,
   "metadata": {
    "scrolled": true
   },
   "outputs": [],
   "source": [
    "xaryFinal=[]\n",
    "for d in xary2:\n",
    "    # print(d.text)\n",
    "    xaryFinal.append(d.text)\n",
    "xaryFinal"
   ]
  },
  {
   "cell_type": "code",
   "execution_count": null,
   "metadata": {},
   "outputs": [],
   "source": [
    "xaryFinal[:] = [w.replace('\\n','') for w in xaryFinal]"
   ]
  },
  {
   "cell_type": "code",
   "execution_count": null,
   "metadata": {},
   "outputs": [],
   "source": [
    "ankap = ['ԱՄՆ,','Հայաստան,']\n",
    "for element in ankap:\n",
    "    xaryFinal[:] = [w.replace(element,'') for w in xaryFinal]"
   ]
  },
  {
   "cell_type": "markdown",
   "metadata": {},
   "source": [
    "xaryFinal is final list for maksazervac / mas-mas vjarum"
   ]
  },
  {
   "cell_type": "code",
   "execution_count": null,
   "metadata": {},
   "outputs": [],
   "source": [
    "percentile_list = pd.DataFrame(np.column_stack([modelFinal3, yearFinal, dateFinal, descFinal, locFinal, priceFinal, xaryFinal]), \n",
    "                               columns=['Car Model', 'Car Year', 'Date Posted', 'Descriptions', 'Location', 'Price', 'Other'])\n",
    "percentile_list"
   ]
  },
  {
   "cell_type": "code",
   "execution_count": null,
   "metadata": {},
   "outputs": [],
   "source": [
    "auto_data = percentile_list.to_excel(\"auto_data_second.xlsx\")"
   ]
  },
  {
   "cell_type": "code",
   "execution_count": null,
   "metadata": {},
   "outputs": [],
   "source": []
  }
 ],
 "metadata": {
  "kernelspec": {
   "display_name": "Python 3",
   "language": "python",
   "name": "python3"
  },
  "language_info": {
   "codemirror_mode": {
    "name": "ipython",
    "version": 3
   },
   "file_extension": ".py",
   "mimetype": "text/x-python",
   "name": "python",
   "nbconvert_exporter": "python",
   "pygments_lexer": "ipython3",
   "version": "3.7.3"
  }
 },
 "nbformat": 4,
 "nbformat_minor": 2
}
